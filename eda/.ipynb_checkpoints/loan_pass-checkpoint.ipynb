{
 "cells": [
  {
   "cell_type": "code",
   "execution_count": 1,
   "metadata": {},
   "outputs": [],
   "source": [
    "import pandas as pd\n",
    "import numpy as np\n",
    "import os\n",
    "import matplotlib.pyplot as plt\n",
    "import seaborn as sns\n",
    "\n",
    "csv_dir = '../../loan_data'"
   ]
  },
  {
   "cell_type": "code",
   "execution_count": 2,
   "metadata": {},
   "outputs": [
    {
     "name": "stdout",
     "output_type": "stream",
     "text": [
      "Train data shape : (307511, 122)\n",
      "Test data shape : (48744, 121)\n"
     ]
    },
    {
     "data": {
      "text/html": [
       "<div>\n",
       "<style scoped>\n",
       "    .dataframe tbody tr th:only-of-type {\n",
       "        vertical-align: middle;\n",
       "    }\n",
       "\n",
       "    .dataframe tbody tr th {\n",
       "        vertical-align: top;\n",
       "    }\n",
       "\n",
       "    .dataframe thead th {\n",
       "        text-align: right;\n",
       "    }\n",
       "</style>\n",
       "<table border=\"1\" class=\"dataframe\">\n",
       "  <thead>\n",
       "    <tr style=\"text-align: right;\">\n",
       "      <th></th>\n",
       "      <th>SK_ID_CURR</th>\n",
       "      <th>TARGET</th>\n",
       "      <th>NAME_CONTRACT_TYPE</th>\n",
       "      <th>CODE_GENDER</th>\n",
       "      <th>FLAG_OWN_CAR</th>\n",
       "      <th>FLAG_OWN_REALTY</th>\n",
       "      <th>CNT_CHILDREN</th>\n",
       "      <th>AMT_INCOME_TOTAL</th>\n",
       "      <th>AMT_CREDIT</th>\n",
       "      <th>AMT_ANNUITY</th>\n",
       "      <th>...</th>\n",
       "      <th>FLAG_DOCUMENT_18</th>\n",
       "      <th>FLAG_DOCUMENT_19</th>\n",
       "      <th>FLAG_DOCUMENT_20</th>\n",
       "      <th>FLAG_DOCUMENT_21</th>\n",
       "      <th>AMT_REQ_CREDIT_BUREAU_HOUR</th>\n",
       "      <th>AMT_REQ_CREDIT_BUREAU_DAY</th>\n",
       "      <th>AMT_REQ_CREDIT_BUREAU_WEEK</th>\n",
       "      <th>AMT_REQ_CREDIT_BUREAU_MON</th>\n",
       "      <th>AMT_REQ_CREDIT_BUREAU_QRT</th>\n",
       "      <th>AMT_REQ_CREDIT_BUREAU_YEAR</th>\n",
       "    </tr>\n",
       "  </thead>\n",
       "  <tbody>\n",
       "    <tr>\n",
       "      <th>0</th>\n",
       "      <td>100002</td>\n",
       "      <td>1</td>\n",
       "      <td>Cash loans</td>\n",
       "      <td>M</td>\n",
       "      <td>N</td>\n",
       "      <td>Y</td>\n",
       "      <td>0</td>\n",
       "      <td>202500.0</td>\n",
       "      <td>406597.5</td>\n",
       "      <td>24700.5</td>\n",
       "      <td>...</td>\n",
       "      <td>0</td>\n",
       "      <td>0</td>\n",
       "      <td>0</td>\n",
       "      <td>0</td>\n",
       "      <td>0.0</td>\n",
       "      <td>0.0</td>\n",
       "      <td>0.0</td>\n",
       "      <td>0.0</td>\n",
       "      <td>0.0</td>\n",
       "      <td>1.0</td>\n",
       "    </tr>\n",
       "    <tr>\n",
       "      <th>1</th>\n",
       "      <td>100003</td>\n",
       "      <td>0</td>\n",
       "      <td>Cash loans</td>\n",
       "      <td>F</td>\n",
       "      <td>N</td>\n",
       "      <td>N</td>\n",
       "      <td>0</td>\n",
       "      <td>270000.0</td>\n",
       "      <td>1293502.5</td>\n",
       "      <td>35698.5</td>\n",
       "      <td>...</td>\n",
       "      <td>0</td>\n",
       "      <td>0</td>\n",
       "      <td>0</td>\n",
       "      <td>0</td>\n",
       "      <td>0.0</td>\n",
       "      <td>0.0</td>\n",
       "      <td>0.0</td>\n",
       "      <td>0.0</td>\n",
       "      <td>0.0</td>\n",
       "      <td>0.0</td>\n",
       "    </tr>\n",
       "    <tr>\n",
       "      <th>2</th>\n",
       "      <td>100004</td>\n",
       "      <td>0</td>\n",
       "      <td>Revolving loans</td>\n",
       "      <td>M</td>\n",
       "      <td>Y</td>\n",
       "      <td>Y</td>\n",
       "      <td>0</td>\n",
       "      <td>67500.0</td>\n",
       "      <td>135000.0</td>\n",
       "      <td>6750.0</td>\n",
       "      <td>...</td>\n",
       "      <td>0</td>\n",
       "      <td>0</td>\n",
       "      <td>0</td>\n",
       "      <td>0</td>\n",
       "      <td>0.0</td>\n",
       "      <td>0.0</td>\n",
       "      <td>0.0</td>\n",
       "      <td>0.0</td>\n",
       "      <td>0.0</td>\n",
       "      <td>0.0</td>\n",
       "    </tr>\n",
       "    <tr>\n",
       "      <th>3</th>\n",
       "      <td>100006</td>\n",
       "      <td>0</td>\n",
       "      <td>Cash loans</td>\n",
       "      <td>F</td>\n",
       "      <td>N</td>\n",
       "      <td>Y</td>\n",
       "      <td>0</td>\n",
       "      <td>135000.0</td>\n",
       "      <td>312682.5</td>\n",
       "      <td>29686.5</td>\n",
       "      <td>...</td>\n",
       "      <td>0</td>\n",
       "      <td>0</td>\n",
       "      <td>0</td>\n",
       "      <td>0</td>\n",
       "      <td>NaN</td>\n",
       "      <td>NaN</td>\n",
       "      <td>NaN</td>\n",
       "      <td>NaN</td>\n",
       "      <td>NaN</td>\n",
       "      <td>NaN</td>\n",
       "    </tr>\n",
       "    <tr>\n",
       "      <th>4</th>\n",
       "      <td>100007</td>\n",
       "      <td>0</td>\n",
       "      <td>Cash loans</td>\n",
       "      <td>M</td>\n",
       "      <td>N</td>\n",
       "      <td>Y</td>\n",
       "      <td>0</td>\n",
       "      <td>121500.0</td>\n",
       "      <td>513000.0</td>\n",
       "      <td>21865.5</td>\n",
       "      <td>...</td>\n",
       "      <td>0</td>\n",
       "      <td>0</td>\n",
       "      <td>0</td>\n",
       "      <td>0</td>\n",
       "      <td>0.0</td>\n",
       "      <td>0.0</td>\n",
       "      <td>0.0</td>\n",
       "      <td>0.0</td>\n",
       "      <td>0.0</td>\n",
       "      <td>0.0</td>\n",
       "    </tr>\n",
       "  </tbody>\n",
       "</table>\n",
       "<p>5 rows × 122 columns</p>\n",
       "</div>"
      ],
      "text/plain": [
       "   SK_ID_CURR  TARGET NAME_CONTRACT_TYPE CODE_GENDER FLAG_OWN_CAR  \\\n",
       "0      100002       1         Cash loans           M            N   \n",
       "1      100003       0         Cash loans           F            N   \n",
       "2      100004       0    Revolving loans           M            Y   \n",
       "3      100006       0         Cash loans           F            N   \n",
       "4      100007       0         Cash loans           M            N   \n",
       "\n",
       "  FLAG_OWN_REALTY  CNT_CHILDREN  AMT_INCOME_TOTAL  AMT_CREDIT  AMT_ANNUITY  \\\n",
       "0               Y             0          202500.0    406597.5      24700.5   \n",
       "1               N             0          270000.0   1293502.5      35698.5   \n",
       "2               Y             0           67500.0    135000.0       6750.0   \n",
       "3               Y             0          135000.0    312682.5      29686.5   \n",
       "4               Y             0          121500.0    513000.0      21865.5   \n",
       "\n",
       "   ...  FLAG_DOCUMENT_18 FLAG_DOCUMENT_19 FLAG_DOCUMENT_20 FLAG_DOCUMENT_21  \\\n",
       "0  ...                 0                0                0                0   \n",
       "1  ...                 0                0                0                0   \n",
       "2  ...                 0                0                0                0   \n",
       "3  ...                 0                0                0                0   \n",
       "4  ...                 0                0                0                0   \n",
       "\n",
       "  AMT_REQ_CREDIT_BUREAU_HOUR AMT_REQ_CREDIT_BUREAU_DAY  \\\n",
       "0                        0.0                       0.0   \n",
       "1                        0.0                       0.0   \n",
       "2                        0.0                       0.0   \n",
       "3                        NaN                       NaN   \n",
       "4                        0.0                       0.0   \n",
       "\n",
       "   AMT_REQ_CREDIT_BUREAU_WEEK  AMT_REQ_CREDIT_BUREAU_MON  \\\n",
       "0                         0.0                        0.0   \n",
       "1                         0.0                        0.0   \n",
       "2                         0.0                        0.0   \n",
       "3                         NaN                        NaN   \n",
       "4                         0.0                        0.0   \n",
       "\n",
       "   AMT_REQ_CREDIT_BUREAU_QRT  AMT_REQ_CREDIT_BUREAU_YEAR  \n",
       "0                        0.0                         1.0  \n",
       "1                        0.0                         0.0  \n",
       "2                        0.0                         0.0  \n",
       "3                        NaN                         NaN  \n",
       "4                        0.0                         0.0  \n",
       "\n",
       "[5 rows x 122 columns]"
      ]
     },
     "execution_count": 2,
     "metadata": {},
     "output_type": "execute_result"
    }
   ],
   "source": [
    "data_train = pd.read_csv(os.path.join(csv_dir,'application_train.csv'))\n",
    "data_test = pd.read_csv(os.path.join(csv_dir,'application_test.csv'))\n",
    "\n",
    "print(f'Train data shape : {data_train.shape}')\n",
    "print(f'Test data shape : {data_test.shape}')\n",
    "\n",
    "data_train.head()"
   ]
  },
  {
   "cell_type": "code",
   "execution_count": 3,
   "metadata": {},
   "outputs": [
    {
     "data": {
      "text/plain": [
       "<matplotlib.axes._subplots.AxesSubplot at 0x17b2c109288>"
      ]
     },
     "execution_count": 3,
     "metadata": {},
     "output_type": "execute_result"
    },
    {
     "data": {
      "image/png": "[encoded data removed]",
      "text/plain": [
       "<Figure size 432x288 with 1 Axes>"
      ]
     },
     "metadata": {
      "needs_background": "light"
     },
     "output_type": "display_data"
    }
   ],
   "source": [
    "data_train['TARGET'].plot.hist()"
   ]
  },
  {
   "cell_type": "code",
   "execution_count": 4,
   "metadata": {},
   "outputs": [],
   "source": [
    "def missing_value_table(df):\n",
    "\n",
    "    #get total missing values\n",
    "    missing_value = df.isnull().sum()\n",
    "    \n",
    "    #get the percentage of missing values\n",
    "    missing_values_percentage = 100*missing_value/len(df)\n",
    "    \n",
    "    #Make a table with result\n",
    "    miss_value_table = pd.concat([missing_value , missing_values_percentage] , axis = 1)\n",
    "    \n",
    "    #Rename table column\n",
    "    miss_value_table.rename(columns = {\n",
    "        0: \"Missing Counts\",\n",
    "        1: \"Missing Percentage\"\n",
    "    } , inplace = True)\n",
    "    \n",
    "    #Sort the table\n",
    "    miss_value_table = miss_value_table[miss_value_table.iloc[: , 1]!=0].sort_values('Missing Percentage' , ascending = False )\n",
    "    \n",
    "    #Print the information\n",
    "    print(\"The selected dataframe has \" + str(df.shape[1]) + \"Columns. \\n\"\n",
    "         \"There are \" +str(miss_value_table.shape[0]) + \" columns have a missing values.\")\n",
    "    \n",
    "    return miss_value_table"
   ]
  },
  {
   "cell_type": "code",
   "execution_count": 5,
   "metadata": {},
   "outputs": [
    {
     "name": "stdout",
     "output_type": "stream",
     "text": [
      "The selected dataframe has 122Columns. \n",
      "There are 67 columns have a missing values.\n"
     ]
    },
    {
     "data": {
      "text/html": [
       "<div>\n",
       "<style scoped>\n",
       "    .dataframe tbody tr th:only-of-type {\n",
       "        vertical-align: middle;\n",
       "    }\n",
       "\n",
       "    .dataframe tbody tr th {\n",
       "        vertical-align: top;\n",
       "    }\n",
       "\n",
       "    .dataframe thead th {\n",
       "        text-align: right;\n",
       "    }\n",
       "</style>\n",
       "<table border=\"1\" class=\"dataframe\">\n",
       "  <thead>\n",
       "    <tr style=\"text-align: right;\">\n",
       "      <th></th>\n",
       "      <th>Missing Counts</th>\n",
       "      <th>Missing Percentage</th>\n",
       "    </tr>\n",
       "  </thead>\n",
       "  <tbody>\n",
       "    <tr>\n",
       "      <th>COMMONAREA_MEDI</th>\n",
       "      <td>214865</td>\n",
       "      <td>69.872297</td>\n",
       "    </tr>\n",
       "    <tr>\n",
       "      <th>COMMONAREA_AVG</th>\n",
       "      <td>214865</td>\n",
       "      <td>69.872297</td>\n",
       "    </tr>\n",
       "    <tr>\n",
       "      <th>COMMONAREA_MODE</th>\n",
       "      <td>214865</td>\n",
       "      <td>69.872297</td>\n",
       "    </tr>\n",
       "    <tr>\n",
       "      <th>NONLIVINGAPARTMENTS_MEDI</th>\n",
       "      <td>213514</td>\n",
       "      <td>69.432963</td>\n",
       "    </tr>\n",
       "    <tr>\n",
       "      <th>NONLIVINGAPARTMENTS_MODE</th>\n",
       "      <td>213514</td>\n",
       "      <td>69.432963</td>\n",
       "    </tr>\n",
       "    <tr>\n",
       "      <th>NONLIVINGAPARTMENTS_AVG</th>\n",
       "      <td>213514</td>\n",
       "      <td>69.432963</td>\n",
       "    </tr>\n",
       "    <tr>\n",
       "      <th>FONDKAPREMONT_MODE</th>\n",
       "      <td>210295</td>\n",
       "      <td>68.386172</td>\n",
       "    </tr>\n",
       "    <tr>\n",
       "      <th>LIVINGAPARTMENTS_MODE</th>\n",
       "      <td>210199</td>\n",
       "      <td>68.354953</td>\n",
       "    </tr>\n",
       "    <tr>\n",
       "      <th>LIVINGAPARTMENTS_MEDI</th>\n",
       "      <td>210199</td>\n",
       "      <td>68.354953</td>\n",
       "    </tr>\n",
       "    <tr>\n",
       "      <th>LIVINGAPARTMENTS_AVG</th>\n",
       "      <td>210199</td>\n",
       "      <td>68.354953</td>\n",
       "    </tr>\n",
       "    <tr>\n",
       "      <th>FLOORSMIN_MODE</th>\n",
       "      <td>208642</td>\n",
       "      <td>67.848630</td>\n",
       "    </tr>\n",
       "    <tr>\n",
       "      <th>FLOORSMIN_MEDI</th>\n",
       "      <td>208642</td>\n",
       "      <td>67.848630</td>\n",
       "    </tr>\n",
       "    <tr>\n",
       "      <th>FLOORSMIN_AVG</th>\n",
       "      <td>208642</td>\n",
       "      <td>67.848630</td>\n",
       "    </tr>\n",
       "    <tr>\n",
       "      <th>YEARS_BUILD_MODE</th>\n",
       "      <td>204488</td>\n",
       "      <td>66.497784</td>\n",
       "    </tr>\n",
       "    <tr>\n",
       "      <th>YEARS_BUILD_MEDI</th>\n",
       "      <td>204488</td>\n",
       "      <td>66.497784</td>\n",
       "    </tr>\n",
       "    <tr>\n",
       "      <th>YEARS_BUILD_AVG</th>\n",
       "      <td>204488</td>\n",
       "      <td>66.497784</td>\n",
       "    </tr>\n",
       "    <tr>\n",
       "      <th>OWN_CAR_AGE</th>\n",
       "      <td>202929</td>\n",
       "      <td>65.990810</td>\n",
       "    </tr>\n",
       "    <tr>\n",
       "      <th>LANDAREA_AVG</th>\n",
       "      <td>182590</td>\n",
       "      <td>59.376738</td>\n",
       "    </tr>\n",
       "    <tr>\n",
       "      <th>LANDAREA_MEDI</th>\n",
       "      <td>182590</td>\n",
       "      <td>59.376738</td>\n",
       "    </tr>\n",
       "    <tr>\n",
       "      <th>LANDAREA_MODE</th>\n",
       "      <td>182590</td>\n",
       "      <td>59.376738</td>\n",
       "    </tr>\n",
       "    <tr>\n",
       "      <th>BASEMENTAREA_MEDI</th>\n",
       "      <td>179943</td>\n",
       "      <td>58.515956</td>\n",
       "    </tr>\n",
       "    <tr>\n",
       "      <th>BASEMENTAREA_AVG</th>\n",
       "      <td>179943</td>\n",
       "      <td>58.515956</td>\n",
       "    </tr>\n",
       "    <tr>\n",
       "      <th>BASEMENTAREA_MODE</th>\n",
       "      <td>179943</td>\n",
       "      <td>58.515956</td>\n",
       "    </tr>\n",
       "    <tr>\n",
       "      <th>EXT_SOURCE_1</th>\n",
       "      <td>173378</td>\n",
       "      <td>56.381073</td>\n",
       "    </tr>\n",
       "    <tr>\n",
       "      <th>NONLIVINGAREA_MEDI</th>\n",
       "      <td>169682</td>\n",
       "      <td>55.179164</td>\n",
       "    </tr>\n",
       "    <tr>\n",
       "      <th>NONLIVINGAREA_MODE</th>\n",
       "      <td>169682</td>\n",
       "      <td>55.179164</td>\n",
       "    </tr>\n",
       "    <tr>\n",
       "      <th>NONLIVINGAREA_AVG</th>\n",
       "      <td>169682</td>\n",
       "      <td>55.179164</td>\n",
       "    </tr>\n",
       "    <tr>\n",
       "      <th>ELEVATORS_MEDI</th>\n",
       "      <td>163891</td>\n",
       "      <td>53.295980</td>\n",
       "    </tr>\n",
       "    <tr>\n",
       "      <th>ELEVATORS_MODE</th>\n",
       "      <td>163891</td>\n",
       "      <td>53.295980</td>\n",
       "    </tr>\n",
       "    <tr>\n",
       "      <th>ELEVATORS_AVG</th>\n",
       "      <td>163891</td>\n",
       "      <td>53.295980</td>\n",
       "    </tr>\n",
       "    <tr>\n",
       "      <th>WALLSMATERIAL_MODE</th>\n",
       "      <td>156341</td>\n",
       "      <td>50.840783</td>\n",
       "    </tr>\n",
       "    <tr>\n",
       "      <th>APARTMENTS_MODE</th>\n",
       "      <td>156061</td>\n",
       "      <td>50.749729</td>\n",
       "    </tr>\n",
       "    <tr>\n",
       "      <th>APARTMENTS_MEDI</th>\n",
       "      <td>156061</td>\n",
       "      <td>50.749729</td>\n",
       "    </tr>\n",
       "    <tr>\n",
       "      <th>APARTMENTS_AVG</th>\n",
       "      <td>156061</td>\n",
       "      <td>50.749729</td>\n",
       "    </tr>\n",
       "    <tr>\n",
       "      <th>ENTRANCES_MODE</th>\n",
       "      <td>154828</td>\n",
       "      <td>50.348768</td>\n",
       "    </tr>\n",
       "    <tr>\n",
       "      <th>ENTRANCES_AVG</th>\n",
       "      <td>154828</td>\n",
       "      <td>50.348768</td>\n",
       "    </tr>\n",
       "    <tr>\n",
       "      <th>ENTRANCES_MEDI</th>\n",
       "      <td>154828</td>\n",
       "      <td>50.348768</td>\n",
       "    </tr>\n",
       "    <tr>\n",
       "      <th>LIVINGAREA_MEDI</th>\n",
       "      <td>154350</td>\n",
       "      <td>50.193326</td>\n",
       "    </tr>\n",
       "    <tr>\n",
       "      <th>LIVINGAREA_MODE</th>\n",
       "      <td>154350</td>\n",
       "      <td>50.193326</td>\n",
       "    </tr>\n",
       "    <tr>\n",
       "      <th>LIVINGAREA_AVG</th>\n",
       "      <td>154350</td>\n",
       "      <td>50.193326</td>\n",
       "    </tr>\n",
       "    <tr>\n",
       "      <th>HOUSETYPE_MODE</th>\n",
       "      <td>154297</td>\n",
       "      <td>50.176091</td>\n",
       "    </tr>\n",
       "    <tr>\n",
       "      <th>FLOORSMAX_MEDI</th>\n",
       "      <td>153020</td>\n",
       "      <td>49.760822</td>\n",
       "    </tr>\n",
       "    <tr>\n",
       "      <th>FLOORSMAX_AVG</th>\n",
       "      <td>153020</td>\n",
       "      <td>49.760822</td>\n",
       "    </tr>\n",
       "    <tr>\n",
       "      <th>FLOORSMAX_MODE</th>\n",
       "      <td>153020</td>\n",
       "      <td>49.760822</td>\n",
       "    </tr>\n",
       "    <tr>\n",
       "      <th>YEARS_BEGINEXPLUATATION_AVG</th>\n",
       "      <td>150007</td>\n",
       "      <td>48.781019</td>\n",
       "    </tr>\n",
       "    <tr>\n",
       "      <th>YEARS_BEGINEXPLUATATION_MEDI</th>\n",
       "      <td>150007</td>\n",
       "      <td>48.781019</td>\n",
       "    </tr>\n",
       "    <tr>\n",
       "      <th>YEARS_BEGINEXPLUATATION_MODE</th>\n",
       "      <td>150007</td>\n",
       "      <td>48.781019</td>\n",
       "    </tr>\n",
       "    <tr>\n",
       "      <th>TOTALAREA_MODE</th>\n",
       "      <td>148431</td>\n",
       "      <td>48.268517</td>\n",
       "    </tr>\n",
       "    <tr>\n",
       "      <th>EMERGENCYSTATE_MODE</th>\n",
       "      <td>145755</td>\n",
       "      <td>47.398304</td>\n",
       "    </tr>\n",
       "    <tr>\n",
       "      <th>OCCUPATION_TYPE</th>\n",
       "      <td>96391</td>\n",
       "      <td>31.345545</td>\n",
       "    </tr>\n",
       "    <tr>\n",
       "      <th>EXT_SOURCE_3</th>\n",
       "      <td>60965</td>\n",
       "      <td>19.825307</td>\n",
       "    </tr>\n",
       "    <tr>\n",
       "      <th>AMT_REQ_CREDIT_BUREAU_WEEK</th>\n",
       "      <td>41519</td>\n",
       "      <td>13.501631</td>\n",
       "    </tr>\n",
       "    <tr>\n",
       "      <th>AMT_REQ_CREDIT_BUREAU_DAY</th>\n",
       "      <td>41519</td>\n",
       "      <td>13.501631</td>\n",
       "    </tr>\n",
       "    <tr>\n",
       "      <th>AMT_REQ_CREDIT_BUREAU_MON</th>\n",
       "      <td>41519</td>\n",
       "      <td>13.501631</td>\n",
       "    </tr>\n",
       "    <tr>\n",
       "      <th>AMT_REQ_CREDIT_BUREAU_QRT</th>\n",
       "      <td>41519</td>\n",
       "      <td>13.501631</td>\n",
       "    </tr>\n",
       "    <tr>\n",
       "      <th>AMT_REQ_CREDIT_BUREAU_HOUR</th>\n",
       "      <td>41519</td>\n",
       "      <td>13.501631</td>\n",
       "    </tr>\n",
       "    <tr>\n",
       "      <th>AMT_REQ_CREDIT_BUREAU_YEAR</th>\n",
       "      <td>41519</td>\n",
       "      <td>13.501631</td>\n",
       "    </tr>\n",
       "    <tr>\n",
       "      <th>NAME_TYPE_SUITE</th>\n",
       "      <td>1292</td>\n",
       "      <td>0.420148</td>\n",
       "    </tr>\n",
       "    <tr>\n",
       "      <th>DEF_30_CNT_SOCIAL_CIRCLE</th>\n",
       "      <td>1021</td>\n",
       "      <td>0.332021</td>\n",
       "    </tr>\n",
       "    <tr>\n",
       "      <th>OBS_60_CNT_SOCIAL_CIRCLE</th>\n",
       "      <td>1021</td>\n",
       "      <td>0.332021</td>\n",
       "    </tr>\n",
       "  </tbody>\n",
       "</table>\n",
       "</div>"
      ],
      "text/plain": [
       "                              Missing Counts  Missing Percentage\n",
       "COMMONAREA_MEDI                       214865           69.872297\n",
       "COMMONAREA_AVG                        214865           69.872297\n",
       "COMMONAREA_MODE                       214865           69.872297\n",
       "NONLIVINGAPARTMENTS_MEDI              213514           69.432963\n",
       "NONLIVINGAPARTMENTS_MODE              213514           69.432963\n",
       "NONLIVINGAPARTMENTS_AVG               213514           69.432963\n",
       "FONDKAPREMONT_MODE                    210295           68.386172\n",
       "LIVINGAPARTMENTS_MODE                 210199           68.354953\n",
       "LIVINGAPARTMENTS_MEDI                 210199           68.354953\n",
       "LIVINGAPARTMENTS_AVG                  210199           68.354953\n",
       "FLOORSMIN_MODE                        208642           67.848630\n",
       "FLOORSMIN_MEDI                        208642           67.848630\n",
       "FLOORSMIN_AVG                         208642           67.848630\n",
       "YEARS_BUILD_MODE                      204488           66.497784\n",
       "YEARS_BUILD_MEDI                      204488           66.497784\n",
       "YEARS_BUILD_AVG                       204488           66.497784\n",
       "OWN_CAR_AGE                           202929           65.990810\n",
       "LANDAREA_AVG                          182590           59.376738\n",
       "LANDAREA_MEDI                         182590           59.376738\n",
       "LANDAREA_MODE                         182590           59.376738\n",
       "BASEMENTAREA_MEDI                     179943           58.515956\n",
       "BASEMENTAREA_AVG                      179943           58.515956\n",
       "BASEMENTAREA_MODE                     179943           58.515956\n",
       "EXT_SOURCE_1                          173378           56.381073\n",
       "NONLIVINGAREA_MEDI                    169682           55.179164\n",
       "NONLIVINGAREA_MODE                    169682           55.179164\n",
       "NONLIVINGAREA_AVG                     169682           55.179164\n",
       "ELEVATORS_MEDI                        163891           53.295980\n",
       "ELEVATORS_MODE                        163891           53.295980\n",
       "ELEVATORS_AVG                         163891           53.295980\n",
       "WALLSMATERIAL_MODE                    156341           50.840783\n",
       "APARTMENTS_MODE                       156061           50.749729\n",
       "APARTMENTS_MEDI                       156061           50.749729\n",
       "APARTMENTS_AVG                        156061           50.749729\n",
       "ENTRANCES_MODE                        154828           50.348768\n",
       "ENTRANCES_AVG                         154828           50.348768\n",
       "ENTRANCES_MEDI                        154828           50.348768\n",
       "LIVINGAREA_MEDI                       154350           50.193326\n",
       "LIVINGAREA_MODE                       154350           50.193326\n",
       "LIVINGAREA_AVG                        154350           50.193326\n",
       "HOUSETYPE_MODE                        154297           50.176091\n",
       "FLOORSMAX_MEDI                        153020           49.760822\n",
       "FLOORSMAX_AVG                         153020           49.760822\n",
       "FLOORSMAX_MODE                        153020           49.760822\n",
       "YEARS_BEGINEXPLUATATION_AVG           150007           48.781019\n",
       "YEARS_BEGINEXPLUATATION_MEDI          150007           48.781019\n",
       "YEARS_BEGINEXPLUATATION_MODE          150007           48.781019\n",
       "TOTALAREA_MODE                        148431           48.268517\n",
       "EMERGENCYSTATE_MODE                   145755           47.398304\n",
       "OCCUPATION_TYPE                        96391           31.345545\n",
       "EXT_SOURCE_3                           60965           19.825307\n",
       "AMT_REQ_CREDIT_BUREAU_WEEK             41519           13.501631\n",
       "AMT_REQ_CREDIT_BUREAU_DAY              41519           13.501631\n",
       "AMT_REQ_CREDIT_BUREAU_MON              41519           13.501631\n",
       "AMT_REQ_CREDIT_BUREAU_QRT              41519           13.501631\n",
       "AMT_REQ_CREDIT_BUREAU_HOUR             41519           13.501631\n",
       "AMT_REQ_CREDIT_BUREAU_YEAR             41519           13.501631\n",
       "NAME_TYPE_SUITE                         1292            0.420148\n",
       "DEF_30_CNT_SOCIAL_CIRCLE                1021            0.332021\n",
       "OBS_60_CNT_SOCIAL_CIRCLE                1021            0.332021"
      ]
     },
     "execution_count": 5,
     "metadata": {},
     "output_type": "execute_result"
    }
   ],
   "source": [
    "missing_values = missing_value_table(data_train)\n",
    "missing_values[0:60]"
   ]
  },
  {
   "cell_type": "code",
   "execution_count": 6,
   "metadata": {},
   "outputs": [],
   "source": [
    "drop_selected_column = ['COMMONAREA_MEDI',\n",
    "                        'COMMONAREA_MODE',\n",
    "                        'NONLIVINGAPARTMENTS_MEDI',\n",
    "                        'NONLIVINGAPARTMENTS_MODE',\n",
    "                        'FONDKAPREMONT_MODE',\n",
    "                        'LIVINGAPARTMENTS_MODE',\n",
    "                        'LIVINGAPARTMENTS_MEDI',\n",
    "                        'FLOORSMIN_MODE',\n",
    "                        'FLOORSMIN_MEDI',\n",
    "                        'YEARS_BUILD_MODE' ,\n",
    "                         'YEARS_BUILD_MEDI',\n",
    "                        'LANDAREA_MEDI',\n",
    "                         'LANDAREA_MODE',\n",
    "                        'BASEMENTAREA_MEDI',\n",
    "                        'BASEMENTAREA_MODE',\n",
    "                        'NONLIVINGAREA_MEDI',\n",
    "                        'NONLIVINGAREA_MODE',\n",
    "                        'ELEVATORS_MEDI',\n",
    "                        'ELEVATORS_MODE',\n",
    "                        'WALLSMATERIAL_MODE',\n",
    "                        'APARTMENTS_MODE',\n",
    "                        'APARTMENTS_MEDI',\n",
    "                        'ENTRANCES_MODE',\n",
    "                        'ENTRANCES_MEDI',\n",
    "                        'LIVINGAREA_MEDI',\n",
    "                        'LIVINGAREA_MODE',\n",
    "                        'FLOORSMAX_MEDI',\n",
    "                        'FLOORSMAX_MODE',\n",
    "                        'YEARS_BEGINEXPLUATATION_MEDI',\n",
    "                        'YEARS_BEGINEXPLUATATION_MODE',\n",
    "                        'AMT_REQ_CREDIT_BUREAU_WEEK',\n",
    "                        'AMT_REQ_CREDIT_BUREAU_DAY',\n",
    "                        'AMT_REQ_CREDIT_BUREAU_MON',\n",
    "                        'AMT_REQ_CREDIT_BUREAU_QRT',\n",
    "                        'AMT_REQ_CREDIT_BUREAU_HOUR',\n",
    "                        'OBS_30_CNT_SOCIAL_CIRCLE',\n",
    "                        'DEF_30_CNT_SOCIAL_CIRCLE',\n",
    "                        'OBS_60_CNT_SOCIAL_CIRCLE',\n",
    "                        'DEF_60_CNT_SOCIAL_CIRCLE',\n",
    "                        'SK_ID_CURR',\n",
    "                        'AMT_REQ_CREDIT_BUREAU_YEAR']\n"
   ]
  },
  {
   "cell_type": "code",
   "execution_count": 7,
   "metadata": {},
   "outputs": [],
   "source": [
    "def drop_colm(df):\n",
    "    df.drop(drop_selected_column , axis = 1, inplace = True)"
   ]
  },
  {
   "cell_type": "code",
   "execution_count": 8,
   "metadata": {},
   "outputs": [],
   "source": [
    "drop_colm(data_train)\n",
    "drop_colm(data_test)"
   ]
  },
  {
   "cell_type": "code",
   "execution_count": 9,
   "metadata": {},
   "outputs": [
    {
     "data": {
      "text/html": [
       "<div>\n",
       "<style scoped>\n",
       "    .dataframe tbody tr th:only-of-type {\n",
       "        vertical-align: middle;\n",
       "    }\n",
       "\n",
       "    .dataframe tbody tr th {\n",
       "        vertical-align: top;\n",
       "    }\n",
       "\n",
       "    .dataframe thead th {\n",
       "        text-align: right;\n",
       "    }\n",
       "</style>\n",
       "<table border=\"1\" class=\"dataframe\">\n",
       "  <thead>\n",
       "    <tr style=\"text-align: right;\">\n",
       "      <th></th>\n",
       "      <th>TARGET</th>\n",
       "      <th>NAME_CONTRACT_TYPE</th>\n",
       "      <th>CODE_GENDER</th>\n",
       "      <th>FLAG_OWN_CAR</th>\n",
       "      <th>FLAG_OWN_REALTY</th>\n",
       "      <th>CNT_CHILDREN</th>\n",
       "      <th>AMT_INCOME_TOTAL</th>\n",
       "      <th>AMT_CREDIT</th>\n",
       "      <th>AMT_ANNUITY</th>\n",
       "      <th>AMT_GOODS_PRICE</th>\n",
       "      <th>...</th>\n",
       "      <th>FLAG_DOCUMENT_12</th>\n",
       "      <th>FLAG_DOCUMENT_13</th>\n",
       "      <th>FLAG_DOCUMENT_14</th>\n",
       "      <th>FLAG_DOCUMENT_15</th>\n",
       "      <th>FLAG_DOCUMENT_16</th>\n",
       "      <th>FLAG_DOCUMENT_17</th>\n",
       "      <th>FLAG_DOCUMENT_18</th>\n",
       "      <th>FLAG_DOCUMENT_19</th>\n",
       "      <th>FLAG_DOCUMENT_20</th>\n",
       "      <th>FLAG_DOCUMENT_21</th>\n",
       "    </tr>\n",
       "  </thead>\n",
       "  <tbody>\n",
       "    <tr>\n",
       "      <th>0</th>\n",
       "      <td>1</td>\n",
       "      <td>Cash loans</td>\n",
       "      <td>M</td>\n",
       "      <td>N</td>\n",
       "      <td>Y</td>\n",
       "      <td>0</td>\n",
       "      <td>202500.0</td>\n",
       "      <td>406597.5</td>\n",
       "      <td>24700.5</td>\n",
       "      <td>351000.0</td>\n",
       "      <td>...</td>\n",
       "      <td>0</td>\n",
       "      <td>0</td>\n",
       "      <td>0</td>\n",
       "      <td>0</td>\n",
       "      <td>0</td>\n",
       "      <td>0</td>\n",
       "      <td>0</td>\n",
       "      <td>0</td>\n",
       "      <td>0</td>\n",
       "      <td>0</td>\n",
       "    </tr>\n",
       "    <tr>\n",
       "      <th>1</th>\n",
       "      <td>0</td>\n",
       "      <td>Cash loans</td>\n",
       "      <td>F</td>\n",
       "      <td>N</td>\n",
       "      <td>N</td>\n",
       "      <td>0</td>\n",
       "      <td>270000.0</td>\n",
       "      <td>1293502.5</td>\n",
       "      <td>35698.5</td>\n",
       "      <td>1129500.0</td>\n",
       "      <td>...</td>\n",
       "      <td>0</td>\n",
       "      <td>0</td>\n",
       "      <td>0</td>\n",
       "      <td>0</td>\n",
       "      <td>0</td>\n",
       "      <td>0</td>\n",
       "      <td>0</td>\n",
       "      <td>0</td>\n",
       "      <td>0</td>\n",
       "      <td>0</td>\n",
       "    </tr>\n",
       "    <tr>\n",
       "      <th>2</th>\n",
       "      <td>0</td>\n",
       "      <td>Revolving loans</td>\n",
       "      <td>M</td>\n",
       "      <td>Y</td>\n",
       "      <td>Y</td>\n",
       "      <td>0</td>\n",
       "      <td>67500.0</td>\n",
       "      <td>135000.0</td>\n",
       "      <td>6750.0</td>\n",
       "      <td>135000.0</td>\n",
       "      <td>...</td>\n",
       "      <td>0</td>\n",
       "      <td>0</td>\n",
       "      <td>0</td>\n",
       "      <td>0</td>\n",
       "      <td>0</td>\n",
       "      <td>0</td>\n",
       "      <td>0</td>\n",
       "      <td>0</td>\n",
       "      <td>0</td>\n",
       "      <td>0</td>\n",
       "    </tr>\n",
       "    <tr>\n",
       "      <th>3</th>\n",
       "      <td>0</td>\n",
       "      <td>Cash loans</td>\n",
       "      <td>F</td>\n",
       "      <td>N</td>\n",
       "      <td>Y</td>\n",
       "      <td>0</td>\n",
       "      <td>135000.0</td>\n",
       "      <td>312682.5</td>\n",
       "      <td>29686.5</td>\n",
       "      <td>297000.0</td>\n",
       "      <td>...</td>\n",
       "      <td>0</td>\n",
       "      <td>0</td>\n",
       "      <td>0</td>\n",
       "      <td>0</td>\n",
       "      <td>0</td>\n",
       "      <td>0</td>\n",
       "      <td>0</td>\n",
       "      <td>0</td>\n",
       "      <td>0</td>\n",
       "      <td>0</td>\n",
       "    </tr>\n",
       "    <tr>\n",
       "      <th>4</th>\n",
       "      <td>0</td>\n",
       "      <td>Cash loans</td>\n",
       "      <td>M</td>\n",
       "      <td>N</td>\n",
       "      <td>Y</td>\n",
       "      <td>0</td>\n",
       "      <td>121500.0</td>\n",
       "      <td>513000.0</td>\n",
       "      <td>21865.5</td>\n",
       "      <td>513000.0</td>\n",
       "      <td>...</td>\n",
       "      <td>0</td>\n",
       "      <td>0</td>\n",
       "      <td>0</td>\n",
       "      <td>0</td>\n",
       "      <td>0</td>\n",
       "      <td>0</td>\n",
       "      <td>0</td>\n",
       "      <td>0</td>\n",
       "      <td>0</td>\n",
       "      <td>0</td>\n",
       "    </tr>\n",
       "  </tbody>\n",
       "</table>\n",
       "<p>5 rows × 81 columns</p>\n",
       "</div>"
      ],
      "text/plain": [
       "   TARGET NAME_CONTRACT_TYPE CODE_GENDER FLAG_OWN_CAR FLAG_OWN_REALTY  \\\n",
       "0       1         Cash loans           M            N               Y   \n",
       "1       0         Cash loans           F            N               N   \n",
       "2       0    Revolving loans           M            Y               Y   \n",
       "3       0         Cash loans           F            N               Y   \n",
       "4       0         Cash loans           M            N               Y   \n",
       "\n",
       "   CNT_CHILDREN  AMT_INCOME_TOTAL  AMT_CREDIT  AMT_ANNUITY  AMT_GOODS_PRICE  \\\n",
       "0             0          202500.0    406597.5      24700.5         351000.0   \n",
       "1             0          270000.0   1293502.5      35698.5        1129500.0   \n",
       "2             0           67500.0    135000.0       6750.0         135000.0   \n",
       "3             0          135000.0    312682.5      29686.5         297000.0   \n",
       "4             0          121500.0    513000.0      21865.5         513000.0   \n",
       "\n",
       "   ... FLAG_DOCUMENT_12 FLAG_DOCUMENT_13 FLAG_DOCUMENT_14 FLAG_DOCUMENT_15  \\\n",
       "0  ...                0                0                0                0   \n",
       "1  ...                0                0                0                0   \n",
       "2  ...                0                0                0                0   \n",
       "3  ...                0                0                0                0   \n",
       "4  ...                0                0                0                0   \n",
       "\n",
       "  FLAG_DOCUMENT_16  FLAG_DOCUMENT_17  FLAG_DOCUMENT_18  FLAG_DOCUMENT_19  \\\n",
       "0                0                 0                 0                 0   \n",
       "1                0                 0                 0                 0   \n",
       "2                0                 0                 0                 0   \n",
       "3                0                 0                 0                 0   \n",
       "4                0                 0                 0                 0   \n",
       "\n",
       "   FLAG_DOCUMENT_20  FLAG_DOCUMENT_21  \n",
       "0                 0                 0  \n",
       "1                 0                 0  \n",
       "2                 0                 0  \n",
       "3                 0                 0  \n",
       "4                 0                 0  \n",
       "\n",
       "[5 rows x 81 columns]"
      ]
     },
     "execution_count": 9,
     "metadata": {},
     "output_type": "execute_result"
    }
   ],
   "source": [
    "data_train.head()"
   ]
  },
  {
   "cell_type": "code",
   "execution_count": 10,
   "metadata": {},
   "outputs": [],
   "source": [
    "# Retrieve all the data of the column starting with “FLAG_DOCUMENT” \n",
    "\n",
    "def get_docs_count(df):\n",
    "    df['DOCS_COUNT'] = df.filter(regex = '^(FLAG_DOCUMENT)').sum(axis = 1)\n",
    "    \n",
    "    drop_these = df.filter(regex = '^(FLAG_DOCUMENT)').columns\n",
    "    \n",
    "    df.drop(drop_these , axis = 1, inplace = True)\n"
   ]
  },
  {
   "cell_type": "code",
   "execution_count": 11,
   "metadata": {},
   "outputs": [],
   "source": [
    "get_docs_count(data_train)\n",
    "get_docs_count(data_test)"
   ]
  },
  {
   "cell_type": "code",
   "execution_count": 12,
   "metadata": {},
   "outputs": [
    {
     "name": "stdout",
     "output_type": "stream",
     "text": [
      "(307511, 62)\n",
      "(48744, 61)\n"
     ]
    }
   ],
   "source": [
    "print(data_train.shape)\n",
    "print(data_test.shape)"
   ]
  },
  {
   "cell_type": "code",
   "execution_count": 13,
   "metadata": {},
   "outputs": [
    {
     "data": {
      "text/html": [
       "<div>\n",
       "<style scoped>\n",
       "    .dataframe tbody tr th:only-of-type {\n",
       "        vertical-align: middle;\n",
       "    }\n",
       "\n",
       "    .dataframe tbody tr th {\n",
       "        vertical-align: top;\n",
       "    }\n",
       "\n",
       "    .dataframe thead th {\n",
       "        text-align: right;\n",
       "    }\n",
       "</style>\n",
       "<table border=\"1\" class=\"dataframe\">\n",
       "  <thead>\n",
       "    <tr style=\"text-align: right;\">\n",
       "      <th></th>\n",
       "      <th>TARGET</th>\n",
       "      <th>NAME_CONTRACT_TYPE</th>\n",
       "      <th>CODE_GENDER</th>\n",
       "      <th>FLAG_OWN_CAR</th>\n",
       "      <th>FLAG_OWN_REALTY</th>\n",
       "      <th>CNT_CHILDREN</th>\n",
       "      <th>AMT_INCOME_TOTAL</th>\n",
       "      <th>AMT_CREDIT</th>\n",
       "      <th>AMT_ANNUITY</th>\n",
       "      <th>AMT_GOODS_PRICE</th>\n",
       "      <th>...</th>\n",
       "      <th>LANDAREA_AVG</th>\n",
       "      <th>LIVINGAPARTMENTS_AVG</th>\n",
       "      <th>LIVINGAREA_AVG</th>\n",
       "      <th>NONLIVINGAPARTMENTS_AVG</th>\n",
       "      <th>NONLIVINGAREA_AVG</th>\n",
       "      <th>HOUSETYPE_MODE</th>\n",
       "      <th>TOTALAREA_MODE</th>\n",
       "      <th>EMERGENCYSTATE_MODE</th>\n",
       "      <th>DAYS_LAST_PHONE_CHANGE</th>\n",
       "      <th>DOCS_COUNT</th>\n",
       "    </tr>\n",
       "  </thead>\n",
       "  <tbody>\n",
       "    <tr>\n",
       "      <th>0</th>\n",
       "      <td>1</td>\n",
       "      <td>Cash loans</td>\n",
       "      <td>M</td>\n",
       "      <td>N</td>\n",
       "      <td>Y</td>\n",
       "      <td>0</td>\n",
       "      <td>202500.0</td>\n",
       "      <td>406597.5</td>\n",
       "      <td>24700.5</td>\n",
       "      <td>351000.0</td>\n",
       "      <td>...</td>\n",
       "      <td>0.0369</td>\n",
       "      <td>0.0202</td>\n",
       "      <td>0.0190</td>\n",
       "      <td>0.0000</td>\n",
       "      <td>0.0000</td>\n",
       "      <td>block of flats</td>\n",
       "      <td>0.0149</td>\n",
       "      <td>No</td>\n",
       "      <td>-1134.0</td>\n",
       "      <td>1</td>\n",
       "    </tr>\n",
       "    <tr>\n",
       "      <th>1</th>\n",
       "      <td>0</td>\n",
       "      <td>Cash loans</td>\n",
       "      <td>F</td>\n",
       "      <td>N</td>\n",
       "      <td>N</td>\n",
       "      <td>0</td>\n",
       "      <td>270000.0</td>\n",
       "      <td>1293502.5</td>\n",
       "      <td>35698.5</td>\n",
       "      <td>1129500.0</td>\n",
       "      <td>...</td>\n",
       "      <td>0.0130</td>\n",
       "      <td>0.0773</td>\n",
       "      <td>0.0549</td>\n",
       "      <td>0.0039</td>\n",
       "      <td>0.0098</td>\n",
       "      <td>block of flats</td>\n",
       "      <td>0.0714</td>\n",
       "      <td>No</td>\n",
       "      <td>-828.0</td>\n",
       "      <td>1</td>\n",
       "    </tr>\n",
       "    <tr>\n",
       "      <th>2</th>\n",
       "      <td>0</td>\n",
       "      <td>Revolving loans</td>\n",
       "      <td>M</td>\n",
       "      <td>Y</td>\n",
       "      <td>Y</td>\n",
       "      <td>0</td>\n",
       "      <td>67500.0</td>\n",
       "      <td>135000.0</td>\n",
       "      <td>6750.0</td>\n",
       "      <td>135000.0</td>\n",
       "      <td>...</td>\n",
       "      <td>NaN</td>\n",
       "      <td>NaN</td>\n",
       "      <td>NaN</td>\n",
       "      <td>NaN</td>\n",
       "      <td>NaN</td>\n",
       "      <td>NaN</td>\n",
       "      <td>NaN</td>\n",
       "      <td>NaN</td>\n",
       "      <td>-815.0</td>\n",
       "      <td>0</td>\n",
       "    </tr>\n",
       "    <tr>\n",
       "      <th>3</th>\n",
       "      <td>0</td>\n",
       "      <td>Cash loans</td>\n",
       "      <td>F</td>\n",
       "      <td>N</td>\n",
       "      <td>Y</td>\n",
       "      <td>0</td>\n",
       "      <td>135000.0</td>\n",
       "      <td>312682.5</td>\n",
       "      <td>29686.5</td>\n",
       "      <td>297000.0</td>\n",
       "      <td>...</td>\n",
       "      <td>NaN</td>\n",
       "      <td>NaN</td>\n",
       "      <td>NaN</td>\n",
       "      <td>NaN</td>\n",
       "      <td>NaN</td>\n",
       "      <td>NaN</td>\n",
       "      <td>NaN</td>\n",
       "      <td>NaN</td>\n",
       "      <td>-617.0</td>\n",
       "      <td>1</td>\n",
       "    </tr>\n",
       "    <tr>\n",
       "      <th>4</th>\n",
       "      <td>0</td>\n",
       "      <td>Cash loans</td>\n",
       "      <td>M</td>\n",
       "      <td>N</td>\n",
       "      <td>Y</td>\n",
       "      <td>0</td>\n",
       "      <td>121500.0</td>\n",
       "      <td>513000.0</td>\n",
       "      <td>21865.5</td>\n",
       "      <td>513000.0</td>\n",
       "      <td>...</td>\n",
       "      <td>NaN</td>\n",
       "      <td>NaN</td>\n",
       "      <td>NaN</td>\n",
       "      <td>NaN</td>\n",
       "      <td>NaN</td>\n",
       "      <td>NaN</td>\n",
       "      <td>NaN</td>\n",
       "      <td>NaN</td>\n",
       "      <td>-1106.0</td>\n",
       "      <td>1</td>\n",
       "    </tr>\n",
       "  </tbody>\n",
       "</table>\n",
       "<p>5 rows × 62 columns</p>\n",
       "</div>"
      ],
      "text/plain": [
       "   TARGET NAME_CONTRACT_TYPE CODE_GENDER FLAG_OWN_CAR FLAG_OWN_REALTY  \\\n",
       "0       1         Cash loans           M            N               Y   \n",
       "1       0         Cash loans           F            N               N   \n",
       "2       0    Revolving loans           M            Y               Y   \n",
       "3       0         Cash loans           F            N               Y   \n",
       "4       0         Cash loans           M            N               Y   \n",
       "\n",
       "   CNT_CHILDREN  AMT_INCOME_TOTAL  AMT_CREDIT  AMT_ANNUITY  AMT_GOODS_PRICE  \\\n",
       "0             0          202500.0    406597.5      24700.5         351000.0   \n",
       "1             0          270000.0   1293502.5      35698.5        1129500.0   \n",
       "2             0           67500.0    135000.0       6750.0         135000.0   \n",
       "3             0          135000.0    312682.5      29686.5         297000.0   \n",
       "4             0          121500.0    513000.0      21865.5         513000.0   \n",
       "\n",
       "   ... LANDAREA_AVG LIVINGAPARTMENTS_AVG LIVINGAREA_AVG  \\\n",
       "0  ...       0.0369               0.0202         0.0190   \n",
       "1  ...       0.0130               0.0773         0.0549   \n",
       "2  ...          NaN                  NaN            NaN   \n",
       "3  ...          NaN                  NaN            NaN   \n",
       "4  ...          NaN                  NaN            NaN   \n",
       "\n",
       "  NONLIVINGAPARTMENTS_AVG NONLIVINGAREA_AVG  HOUSETYPE_MODE  TOTALAREA_MODE  \\\n",
       "0                  0.0000            0.0000  block of flats          0.0149   \n",
       "1                  0.0039            0.0098  block of flats          0.0714   \n",
       "2                     NaN               NaN             NaN             NaN   \n",
       "3                     NaN               NaN             NaN             NaN   \n",
       "4                     NaN               NaN             NaN             NaN   \n",
       "\n",
       "   EMERGENCYSTATE_MODE  DAYS_LAST_PHONE_CHANGE  DOCS_COUNT  \n",
       "0                   No                 -1134.0           1  \n",
       "1                   No                  -828.0           1  \n",
       "2                  NaN                  -815.0           0  \n",
       "3                  NaN                  -617.0           1  \n",
       "4                  NaN                 -1106.0           1  \n",
       "\n",
       "[5 rows x 62 columns]"
      ]
     },
     "execution_count": 13,
     "metadata": {},
     "output_type": "execute_result"
    }
   ],
   "source": [
    "data_train.head()"
   ]
  },
  {
   "cell_type": "code",
   "execution_count": 14,
   "metadata": {},
   "outputs": [
    {
     "name": "stdout",
     "output_type": "stream",
     "text": [
      "The selected dataframe has 62Columns. \n",
      "There are 27 columns have a missing values.\n"
     ]
    },
    {
     "data": {
      "text/html": [
       "<div>\n",
       "<style scoped>\n",
       "    .dataframe tbody tr th:only-of-type {\n",
       "        vertical-align: middle;\n",
       "    }\n",
       "\n",
       "    .dataframe tbody tr th {\n",
       "        vertical-align: top;\n",
       "    }\n",
       "\n",
       "    .dataframe thead th {\n",
       "        text-align: right;\n",
       "    }\n",
       "</style>\n",
       "<table border=\"1\" class=\"dataframe\">\n",
       "  <thead>\n",
       "    <tr style=\"text-align: right;\">\n",
       "      <th></th>\n",
       "      <th>Missing Counts</th>\n",
       "      <th>Missing Percentage</th>\n",
       "    </tr>\n",
       "  </thead>\n",
       "  <tbody>\n",
       "    <tr>\n",
       "      <th>COMMONAREA_AVG</th>\n",
       "      <td>214865</td>\n",
       "      <td>69.872297</td>\n",
       "    </tr>\n",
       "    <tr>\n",
       "      <th>NONLIVINGAPARTMENTS_AVG</th>\n",
       "      <td>213514</td>\n",
       "      <td>69.432963</td>\n",
       "    </tr>\n",
       "    <tr>\n",
       "      <th>LIVINGAPARTMENTS_AVG</th>\n",
       "      <td>210199</td>\n",
       "      <td>68.354953</td>\n",
       "    </tr>\n",
       "    <tr>\n",
       "      <th>FLOORSMIN_AVG</th>\n",
       "      <td>208642</td>\n",
       "      <td>67.848630</td>\n",
       "    </tr>\n",
       "    <tr>\n",
       "      <th>YEARS_BUILD_AVG</th>\n",
       "      <td>204488</td>\n",
       "      <td>66.497784</td>\n",
       "    </tr>\n",
       "    <tr>\n",
       "      <th>OWN_CAR_AGE</th>\n",
       "      <td>202929</td>\n",
       "      <td>65.990810</td>\n",
       "    </tr>\n",
       "    <tr>\n",
       "      <th>LANDAREA_AVG</th>\n",
       "      <td>182590</td>\n",
       "      <td>59.376738</td>\n",
       "    </tr>\n",
       "    <tr>\n",
       "      <th>BASEMENTAREA_AVG</th>\n",
       "      <td>179943</td>\n",
       "      <td>58.515956</td>\n",
       "    </tr>\n",
       "    <tr>\n",
       "      <th>EXT_SOURCE_1</th>\n",
       "      <td>173378</td>\n",
       "      <td>56.381073</td>\n",
       "    </tr>\n",
       "    <tr>\n",
       "      <th>NONLIVINGAREA_AVG</th>\n",
       "      <td>169682</td>\n",
       "      <td>55.179164</td>\n",
       "    </tr>\n",
       "    <tr>\n",
       "      <th>ELEVATORS_AVG</th>\n",
       "      <td>163891</td>\n",
       "      <td>53.295980</td>\n",
       "    </tr>\n",
       "    <tr>\n",
       "      <th>APARTMENTS_AVG</th>\n",
       "      <td>156061</td>\n",
       "      <td>50.749729</td>\n",
       "    </tr>\n",
       "    <tr>\n",
       "      <th>ENTRANCES_AVG</th>\n",
       "      <td>154828</td>\n",
       "      <td>50.348768</td>\n",
       "    </tr>\n",
       "    <tr>\n",
       "      <th>LIVINGAREA_AVG</th>\n",
       "      <td>154350</td>\n",
       "      <td>50.193326</td>\n",
       "    </tr>\n",
       "    <tr>\n",
       "      <th>HOUSETYPE_MODE</th>\n",
       "      <td>154297</td>\n",
       "      <td>50.176091</td>\n",
       "    </tr>\n",
       "    <tr>\n",
       "      <th>FLOORSMAX_AVG</th>\n",
       "      <td>153020</td>\n",
       "      <td>49.760822</td>\n",
       "    </tr>\n",
       "    <tr>\n",
       "      <th>YEARS_BEGINEXPLUATATION_AVG</th>\n",
       "      <td>150007</td>\n",
       "      <td>48.781019</td>\n",
       "    </tr>\n",
       "    <tr>\n",
       "      <th>TOTALAREA_MODE</th>\n",
       "      <td>148431</td>\n",
       "      <td>48.268517</td>\n",
       "    </tr>\n",
       "    <tr>\n",
       "      <th>EMERGENCYSTATE_MODE</th>\n",
       "      <td>145755</td>\n",
       "      <td>47.398304</td>\n",
       "    </tr>\n",
       "    <tr>\n",
       "      <th>OCCUPATION_TYPE</th>\n",
       "      <td>96391</td>\n",
       "      <td>31.345545</td>\n",
       "    </tr>\n",
       "    <tr>\n",
       "      <th>EXT_SOURCE_3</th>\n",
       "      <td>60965</td>\n",
       "      <td>19.825307</td>\n",
       "    </tr>\n",
       "    <tr>\n",
       "      <th>NAME_TYPE_SUITE</th>\n",
       "      <td>1292</td>\n",
       "      <td>0.420148</td>\n",
       "    </tr>\n",
       "    <tr>\n",
       "      <th>EXT_SOURCE_2</th>\n",
       "      <td>660</td>\n",
       "      <td>0.214626</td>\n",
       "    </tr>\n",
       "    <tr>\n",
       "      <th>AMT_GOODS_PRICE</th>\n",
       "      <td>278</td>\n",
       "      <td>0.090403</td>\n",
       "    </tr>\n",
       "    <tr>\n",
       "      <th>AMT_ANNUITY</th>\n",
       "      <td>12</td>\n",
       "      <td>0.003902</td>\n",
       "    </tr>\n",
       "    <tr>\n",
       "      <th>CNT_FAM_MEMBERS</th>\n",
       "      <td>2</td>\n",
       "      <td>0.000650</td>\n",
       "    </tr>\n",
       "    <tr>\n",
       "      <th>DAYS_LAST_PHONE_CHANGE</th>\n",
       "      <td>1</td>\n",
       "      <td>0.000325</td>\n",
       "    </tr>\n",
       "  </tbody>\n",
       "</table>\n",
       "</div>"
      ],
      "text/plain": [
       "                             Missing Counts  Missing Percentage\n",
       "COMMONAREA_AVG                       214865           69.872297\n",
       "NONLIVINGAPARTMENTS_AVG              213514           69.432963\n",
       "LIVINGAPARTMENTS_AVG                 210199           68.354953\n",
       "FLOORSMIN_AVG                        208642           67.848630\n",
       "YEARS_BUILD_AVG                      204488           66.497784\n",
       "OWN_CAR_AGE                          202929           65.990810\n",
       "LANDAREA_AVG                         182590           59.376738\n",
       "BASEMENTAREA_AVG                     179943           58.515956\n",
       "EXT_SOURCE_1                         173378           56.381073\n",
       "NONLIVINGAREA_AVG                    169682           55.179164\n",
       "ELEVATORS_AVG                        163891           53.295980\n",
       "APARTMENTS_AVG                       156061           50.749729\n",
       "ENTRANCES_AVG                        154828           50.348768\n",
       "LIVINGAREA_AVG                       154350           50.193326\n",
       "HOUSETYPE_MODE                       154297           50.176091\n",
       "FLOORSMAX_AVG                        153020           49.760822\n",
       "YEARS_BEGINEXPLUATATION_AVG          150007           48.781019\n",
       "TOTALAREA_MODE                       148431           48.268517\n",
       "EMERGENCYSTATE_MODE                  145755           47.398304\n",
       "OCCUPATION_TYPE                       96391           31.345545\n",
       "EXT_SOURCE_3                          60965           19.825307\n",
       "NAME_TYPE_SUITE                        1292            0.420148\n",
       "EXT_SOURCE_2                            660            0.214626\n",
       "AMT_GOODS_PRICE                         278            0.090403\n",
       "AMT_ANNUITY                              12            0.003902\n",
       "CNT_FAM_MEMBERS                           2            0.000650\n",
       "DAYS_LAST_PHONE_CHANGE                    1            0.000325"
      ]
     },
     "execution_count": 14,
     "metadata": {},
     "output_type": "execute_result"
    }
   ],
   "source": [
    "missing_values = missing_value_table(data_train)\n",
    "missing_values"
   ]
  },
  {
   "cell_type": "code",
   "execution_count": 15,
   "metadata": {},
   "outputs": [],
   "source": [
    "def impute_zero(df , col):\n",
    "    for c in col:\n",
    "        df[c] = df[c].fillna(0)"
   ]
  },
  {
   "cell_type": "code",
   "execution_count": 16,
   "metadata": {},
   "outputs": [],
   "source": [
    "impute_zero(data_train , ['COMMONAREA_AVG', 'NONLIVINGAPARTMENTS_AVG','LIVINGAPARTMENTS_AVG', 'FLOORSMIN_AVG' , 'YEARS_BUILD_AVG' , 'LANDAREA_AVG','BASEMENTAREA_AVG','NONLIVINGAREA_AVG','ELEVATORS_AVG','APARTMENTS_AVG','ENTRANCES_AVG','LIVINGAREA_AVG','HOUSETYPE_MODE','FLOORSMAX_AVG','YEARS_BEGINEXPLUATATION_AVG','TOTALAREA_MODE','EMERGENCYSTATE_MODE','OWN_CAR_AGE'])\n",
    "impute_zero(data_test , ['COMMONAREA_AVG', 'NONLIVINGAPARTMENTS_AVG','LIVINGAPARTMENTS_AVG', 'FLOORSMIN_AVG' , 'YEARS_BUILD_AVG' , 'LANDAREA_AVG','BASEMENTAREA_AVG','NONLIVINGAREA_AVG','ELEVATORS_AVG','APARTMENTS_AVG','ENTRANCES_AVG','LIVINGAREA_AVG','HOUSETYPE_MODE','FLOORSMAX_AVG','YEARS_BEGINEXPLUATATION_AVG','TOTALAREA_MODE','EMERGENCYSTATE_MODE' , 'OWN_CAR_AGE'])"
   ]
  },
  {
   "cell_type": "code",
   "execution_count": 17,
   "metadata": {},
   "outputs": [
    {
     "name": "stdout",
     "output_type": "stream",
     "text": [
      "The selected dataframe has 62Columns. \n",
      "There are 9 columns have a missing values.\n"
     ]
    },
    {
     "data": {
      "text/html": [
       "<div>\n",
       "<style scoped>\n",
       "    .dataframe tbody tr th:only-of-type {\n",
       "        vertical-align: middle;\n",
       "    }\n",
       "\n",
       "    .dataframe tbody tr th {\n",
       "        vertical-align: top;\n",
       "    }\n",
       "\n",
       "    .dataframe thead th {\n",
       "        text-align: right;\n",
       "    }\n",
       "</style>\n",
       "<table border=\"1\" class=\"dataframe\">\n",
       "  <thead>\n",
       "    <tr style=\"text-align: right;\">\n",
       "      <th></th>\n",
       "      <th>Missing Counts</th>\n",
       "      <th>Missing Percentage</th>\n",
       "    </tr>\n",
       "  </thead>\n",
       "  <tbody>\n",
       "    <tr>\n",
       "      <th>EXT_SOURCE_1</th>\n",
       "      <td>173378</td>\n",
       "      <td>56.381073</td>\n",
       "    </tr>\n",
       "    <tr>\n",
       "      <th>OCCUPATION_TYPE</th>\n",
       "      <td>96391</td>\n",
       "      <td>31.345545</td>\n",
       "    </tr>\n",
       "    <tr>\n",
       "      <th>EXT_SOURCE_3</th>\n",
       "      <td>60965</td>\n",
       "      <td>19.825307</td>\n",
       "    </tr>\n",
       "    <tr>\n",
       "      <th>NAME_TYPE_SUITE</th>\n",
       "      <td>1292</td>\n",
       "      <td>0.420148</td>\n",
       "    </tr>\n",
       "    <tr>\n",
       "      <th>EXT_SOURCE_2</th>\n",
       "      <td>660</td>\n",
       "      <td>0.214626</td>\n",
       "    </tr>\n",
       "    <tr>\n",
       "      <th>AMT_GOODS_PRICE</th>\n",
       "      <td>278</td>\n",
       "      <td>0.090403</td>\n",
       "    </tr>\n",
       "    <tr>\n",
       "      <th>AMT_ANNUITY</th>\n",
       "      <td>12</td>\n",
       "      <td>0.003902</td>\n",
       "    </tr>\n",
       "    <tr>\n",
       "      <th>CNT_FAM_MEMBERS</th>\n",
       "      <td>2</td>\n",
       "      <td>0.000650</td>\n",
       "    </tr>\n",
       "    <tr>\n",
       "      <th>DAYS_LAST_PHONE_CHANGE</th>\n",
       "      <td>1</td>\n",
       "      <td>0.000325</td>\n",
       "    </tr>\n",
       "  </tbody>\n",
       "</table>\n",
       "</div>"
      ],
      "text/plain": [
       "                        Missing Counts  Missing Percentage\n",
       "EXT_SOURCE_1                    173378           56.381073\n",
       "OCCUPATION_TYPE                  96391           31.345545\n",
       "EXT_SOURCE_3                     60965           19.825307\n",
       "NAME_TYPE_SUITE                   1292            0.420148\n",
       "EXT_SOURCE_2                       660            0.214626\n",
       "AMT_GOODS_PRICE                    278            0.090403\n",
       "AMT_ANNUITY                         12            0.003902\n",
       "CNT_FAM_MEMBERS                      2            0.000650\n",
       "DAYS_LAST_PHONE_CHANGE               1            0.000325"
      ]
     },
     "execution_count": 17,
     "metadata": {},
     "output_type": "execute_result"
    }
   ],
   "source": [
    "missing_values = missing_value_table(data_train)\n",
    "missing_values"
   ]
  },
  {
   "cell_type": "code",
   "execution_count": 18,
   "metadata": {},
   "outputs": [
    {
     "data": {
      "text/plain": [
       "NAME_CONTRACT_TYPE             2\n",
       "CODE_GENDER                    3\n",
       "FLAG_OWN_CAR                   2\n",
       "FLAG_OWN_REALTY                2\n",
       "NAME_TYPE_SUITE                7\n",
       "NAME_INCOME_TYPE               8\n",
       "NAME_EDUCATION_TYPE            5\n",
       "NAME_FAMILY_STATUS             6\n",
       "NAME_HOUSING_TYPE              6\n",
       "OCCUPATION_TYPE               18\n",
       "WEEKDAY_APPR_PROCESS_START     7\n",
       "ORGANIZATION_TYPE             58\n",
       "HOUSETYPE_MODE                 4\n",
       "EMERGENCYSTATE_MODE            3\n",
       "dtype: int64"
      ]
     },
     "execution_count": 18,
     "metadata": {},
     "output_type": "execute_result"
    }
   ],
   "source": [
    "#Unique Entries of the object(Catagorical) Column\n",
    "def get_unique_catagory(df):\n",
    "    return df.select_dtypes('object').apply(pd.Series.nunique , axis=0)\n",
    "\n",
    "get_unique_catagory(data_train)"
   ]
  },
  {
   "cell_type": "code",
   "execution_count": 19,
   "metadata": {},
   "outputs": [
    {
     "data": {
      "text/html": [
       "<div>\n",
       "<style scoped>\n",
       "    .dataframe tbody tr th:only-of-type {\n",
       "        vertical-align: middle;\n",
       "    }\n",
       "\n",
       "    .dataframe tbody tr th {\n",
       "        vertical-align: top;\n",
       "    }\n",
       "\n",
       "    .dataframe thead th {\n",
       "        text-align: right;\n",
       "    }\n",
       "</style>\n",
       "<table border=\"1\" class=\"dataframe\">\n",
       "  <thead>\n",
       "    <tr style=\"text-align: right;\">\n",
       "      <th></th>\n",
       "      <th>TARGET</th>\n",
       "      <th>NAME_CONTRACT_TYPE</th>\n",
       "      <th>CODE_GENDER</th>\n",
       "      <th>FLAG_OWN_CAR</th>\n",
       "      <th>FLAG_OWN_REALTY</th>\n",
       "      <th>CNT_CHILDREN</th>\n",
       "      <th>AMT_INCOME_TOTAL</th>\n",
       "      <th>AMT_CREDIT</th>\n",
       "      <th>AMT_ANNUITY</th>\n",
       "      <th>AMT_GOODS_PRICE</th>\n",
       "      <th>...</th>\n",
       "      <th>LANDAREA_AVG</th>\n",
       "      <th>LIVINGAPARTMENTS_AVG</th>\n",
       "      <th>LIVINGAREA_AVG</th>\n",
       "      <th>NONLIVINGAPARTMENTS_AVG</th>\n",
       "      <th>NONLIVINGAREA_AVG</th>\n",
       "      <th>HOUSETYPE_MODE</th>\n",
       "      <th>TOTALAREA_MODE</th>\n",
       "      <th>EMERGENCYSTATE_MODE</th>\n",
       "      <th>DAYS_LAST_PHONE_CHANGE</th>\n",
       "      <th>DOCS_COUNT</th>\n",
       "    </tr>\n",
       "  </thead>\n",
       "  <tbody>\n",
       "    <tr>\n",
       "      <th>0</th>\n",
       "      <td>1</td>\n",
       "      <td>Cash loans</td>\n",
       "      <td>M</td>\n",
       "      <td>N</td>\n",
       "      <td>Y</td>\n",
       "      <td>0</td>\n",
       "      <td>202500.0</td>\n",
       "      <td>406597.5</td>\n",
       "      <td>24700.5</td>\n",
       "      <td>351000.0</td>\n",
       "      <td>...</td>\n",
       "      <td>0.0369</td>\n",
       "      <td>0.0202</td>\n",
       "      <td>0.0190</td>\n",
       "      <td>0.0000</td>\n",
       "      <td>0.0000</td>\n",
       "      <td>block of flats</td>\n",
       "      <td>0.0149</td>\n",
       "      <td>No</td>\n",
       "      <td>-1134.0</td>\n",
       "      <td>1</td>\n",
       "    </tr>\n",
       "    <tr>\n",
       "      <th>1</th>\n",
       "      <td>0</td>\n",
       "      <td>Cash loans</td>\n",
       "      <td>F</td>\n",
       "      <td>N</td>\n",
       "      <td>N</td>\n",
       "      <td>0</td>\n",
       "      <td>270000.0</td>\n",
       "      <td>1293502.5</td>\n",
       "      <td>35698.5</td>\n",
       "      <td>1129500.0</td>\n",
       "      <td>...</td>\n",
       "      <td>0.0130</td>\n",
       "      <td>0.0773</td>\n",
       "      <td>0.0549</td>\n",
       "      <td>0.0039</td>\n",
       "      <td>0.0098</td>\n",
       "      <td>block of flats</td>\n",
       "      <td>0.0714</td>\n",
       "      <td>No</td>\n",
       "      <td>-828.0</td>\n",
       "      <td>1</td>\n",
       "    </tr>\n",
       "    <tr>\n",
       "      <th>2</th>\n",
       "      <td>0</td>\n",
       "      <td>Revolving loans</td>\n",
       "      <td>M</td>\n",
       "      <td>Y</td>\n",
       "      <td>Y</td>\n",
       "      <td>0</td>\n",
       "      <td>67500.0</td>\n",
       "      <td>135000.0</td>\n",
       "      <td>6750.0</td>\n",
       "      <td>135000.0</td>\n",
       "      <td>...</td>\n",
       "      <td>0.0000</td>\n",
       "      <td>0.0000</td>\n",
       "      <td>0.0000</td>\n",
       "      <td>0.0000</td>\n",
       "      <td>0.0000</td>\n",
       "      <td>0</td>\n",
       "      <td>0.0000</td>\n",
       "      <td>0</td>\n",
       "      <td>-815.0</td>\n",
       "      <td>0</td>\n",
       "    </tr>\n",
       "    <tr>\n",
       "      <th>3</th>\n",
       "      <td>0</td>\n",
       "      <td>Cash loans</td>\n",
       "      <td>F</td>\n",
       "      <td>N</td>\n",
       "      <td>Y</td>\n",
       "      <td>0</td>\n",
       "      <td>135000.0</td>\n",
       "      <td>312682.5</td>\n",
       "      <td>29686.5</td>\n",
       "      <td>297000.0</td>\n",
       "      <td>...</td>\n",
       "      <td>0.0000</td>\n",
       "      <td>0.0000</td>\n",
       "      <td>0.0000</td>\n",
       "      <td>0.0000</td>\n",
       "      <td>0.0000</td>\n",
       "      <td>0</td>\n",
       "      <td>0.0000</td>\n",
       "      <td>0</td>\n",
       "      <td>-617.0</td>\n",
       "      <td>1</td>\n",
       "    </tr>\n",
       "    <tr>\n",
       "      <th>4</th>\n",
       "      <td>0</td>\n",
       "      <td>Cash loans</td>\n",
       "      <td>M</td>\n",
       "      <td>N</td>\n",
       "      <td>Y</td>\n",
       "      <td>0</td>\n",
       "      <td>121500.0</td>\n",
       "      <td>513000.0</td>\n",
       "      <td>21865.5</td>\n",
       "      <td>513000.0</td>\n",
       "      <td>...</td>\n",
       "      <td>0.0000</td>\n",
       "      <td>0.0000</td>\n",
       "      <td>0.0000</td>\n",
       "      <td>0.0000</td>\n",
       "      <td>0.0000</td>\n",
       "      <td>0</td>\n",
       "      <td>0.0000</td>\n",
       "      <td>0</td>\n",
       "      <td>-1106.0</td>\n",
       "      <td>1</td>\n",
       "    </tr>\n",
       "  </tbody>\n",
       "</table>\n",
       "<p>5 rows × 62 columns</p>\n",
       "</div>"
      ],
      "text/plain": [
       "   TARGET NAME_CONTRACT_TYPE CODE_GENDER FLAG_OWN_CAR FLAG_OWN_REALTY  \\\n",
       "0       1         Cash loans           M            N               Y   \n",
       "1       0         Cash loans           F            N               N   \n",
       "2       0    Revolving loans           M            Y               Y   \n",
       "3       0         Cash loans           F            N               Y   \n",
       "4       0         Cash loans           M            N               Y   \n",
       "\n",
       "   CNT_CHILDREN  AMT_INCOME_TOTAL  AMT_CREDIT  AMT_ANNUITY  AMT_GOODS_PRICE  \\\n",
       "0             0          202500.0    406597.5      24700.5         351000.0   \n",
       "1             0          270000.0   1293502.5      35698.5        1129500.0   \n",
       "2             0           67500.0    135000.0       6750.0         135000.0   \n",
       "3             0          135000.0    312682.5      29686.5         297000.0   \n",
       "4             0          121500.0    513000.0      21865.5         513000.0   \n",
       "\n",
       "   ... LANDAREA_AVG LIVINGAPARTMENTS_AVG LIVINGAREA_AVG  \\\n",
       "0  ...       0.0369               0.0202         0.0190   \n",
       "1  ...       0.0130               0.0773         0.0549   \n",
       "2  ...       0.0000               0.0000         0.0000   \n",
       "3  ...       0.0000               0.0000         0.0000   \n",
       "4  ...       0.0000               0.0000         0.0000   \n",
       "\n",
       "  NONLIVINGAPARTMENTS_AVG NONLIVINGAREA_AVG  HOUSETYPE_MODE  TOTALAREA_MODE  \\\n",
       "0                  0.0000            0.0000  block of flats          0.0149   \n",
       "1                  0.0039            0.0098  block of flats          0.0714   \n",
       "2                  0.0000            0.0000               0          0.0000   \n",
       "3                  0.0000            0.0000               0          0.0000   \n",
       "4                  0.0000            0.0000               0          0.0000   \n",
       "\n",
       "   EMERGENCYSTATE_MODE  DAYS_LAST_PHONE_CHANGE  DOCS_COUNT  \n",
       "0                   No                 -1134.0           1  \n",
       "1                   No                  -828.0           1  \n",
       "2                    0                  -815.0           0  \n",
       "3                    0                  -617.0           1  \n",
       "4                    0                 -1106.0           1  \n",
       "\n",
       "[5 rows x 62 columns]"
      ]
     },
     "execution_count": 19,
     "metadata": {},
     "output_type": "execute_result"
    }
   ],
   "source": [
    "data_train.head()"
   ]
  },
  {
   "cell_type": "code",
   "execution_count": 20,
   "metadata": {},
   "outputs": [],
   "source": [
    "#NAME_CONTRACT_TYPE ->catagorical to numerical\n",
    "\n",
    "contract_type = {\n",
    "    'Cash loans':0,\n",
    "    'Revolving loans':1\n",
    "}\n",
    "data_train.NAME_CONTRACT_TYPE = [contract_type[item] for item in data_train.NAME_CONTRACT_TYPE]\n",
    "\n",
    "\n",
    "data_test.NAME_CONTRACT_TYPE = [contract_type[item] for item in data_test.NAME_CONTRACT_TYPE]\n",
    "\n"
   ]
  },
  {
   "cell_type": "code",
   "execution_count": 21,
   "metadata": {},
   "outputs": [
    {
     "data": {
      "text/plain": [
       "F      202448\n",
       "M      105059\n",
       "XNA         4\n",
       "Name: CODE_GENDER, dtype: int64"
      ]
     },
     "execution_count": 21,
     "metadata": {},
     "output_type": "execute_result"
    }
   ],
   "source": [
    "item_counts = data_train[\"CODE_GENDER\"].value_counts()\n",
    "\n",
    "item_counts"
   ]
  },
  {
   "cell_type": "code",
   "execution_count": 22,
   "metadata": {},
   "outputs": [],
   "source": [
    "gender = {\n",
    "    'M' : 0,\n",
    "    'F' : 1,\n",
    "    'XNA' : 1\n",
    "}\n",
    "\n",
    "data_train.CODE_GENDER = [gender[item] for item in data_train.CODE_GENDER]\n",
    "\n",
    "data_test.CODE_GENDER = [gender[item] for item in data_test.CODE_GENDER]"
   ]
  },
  {
   "cell_type": "code",
   "execution_count": 23,
   "metadata": {},
   "outputs": [],
   "source": [
    "flags = {\n",
    "    'N' : 0,\n",
    "    'Y' : 1\n",
    "}\n",
    "\n",
    "data_test.FLAG_OWN_REALTY = [flags[item] for item in data_test.FLAG_OWN_REALTY]\n",
    "\n",
    "data_train.FLAG_OWN_REALTY = [flags[item] for item in data_train.FLAG_OWN_REALTY]\n",
    "\n",
    "\n",
    "\n",
    "data_test.FLAG_OWN_CAR = [flags[item] for item in data_test.FLAG_OWN_CAR]\n",
    "\n",
    "data_train.FLAG_OWN_CAR = [flags[item] for item in data_train.FLAG_OWN_CAR]\n",
    "\n",
    "\n"
   ]
  },
  {
   "cell_type": "code",
   "execution_count": 24,
   "metadata": {},
   "outputs": [
    {
     "data": {
      "text/html": [
       "<div>\n",
       "<style scoped>\n",
       "    .dataframe tbody tr th:only-of-type {\n",
       "        vertical-align: middle;\n",
       "    }\n",
       "\n",
       "    .dataframe tbody tr th {\n",
       "        vertical-align: top;\n",
       "    }\n",
       "\n",
       "    .dataframe thead th {\n",
       "        text-align: right;\n",
       "    }\n",
       "</style>\n",
       "<table border=\"1\" class=\"dataframe\">\n",
       "  <thead>\n",
       "    <tr style=\"text-align: right;\">\n",
       "      <th></th>\n",
       "      <th>TARGET</th>\n",
       "      <th>NAME_CONTRACT_TYPE</th>\n",
       "      <th>CODE_GENDER</th>\n",
       "      <th>FLAG_OWN_CAR</th>\n",
       "      <th>FLAG_OWN_REALTY</th>\n",
       "      <th>CNT_CHILDREN</th>\n",
       "      <th>AMT_INCOME_TOTAL</th>\n",
       "      <th>AMT_CREDIT</th>\n",
       "      <th>AMT_ANNUITY</th>\n",
       "      <th>AMT_GOODS_PRICE</th>\n",
       "      <th>...</th>\n",
       "      <th>LANDAREA_AVG</th>\n",
       "      <th>LIVINGAPARTMENTS_AVG</th>\n",
       "      <th>LIVINGAREA_AVG</th>\n",
       "      <th>NONLIVINGAPARTMENTS_AVG</th>\n",
       "      <th>NONLIVINGAREA_AVG</th>\n",
       "      <th>HOUSETYPE_MODE</th>\n",
       "      <th>TOTALAREA_MODE</th>\n",
       "      <th>EMERGENCYSTATE_MODE</th>\n",
       "      <th>DAYS_LAST_PHONE_CHANGE</th>\n",
       "      <th>DOCS_COUNT</th>\n",
       "    </tr>\n",
       "  </thead>\n",
       "  <tbody>\n",
       "    <tr>\n",
       "      <th>0</th>\n",
       "      <td>1</td>\n",
       "      <td>0</td>\n",
       "      <td>0</td>\n",
       "      <td>0</td>\n",
       "      <td>1</td>\n",
       "      <td>0</td>\n",
       "      <td>202500.0</td>\n",
       "      <td>406597.5</td>\n",
       "      <td>24700.5</td>\n",
       "      <td>351000.0</td>\n",
       "      <td>...</td>\n",
       "      <td>0.0369</td>\n",
       "      <td>0.0202</td>\n",
       "      <td>0.0190</td>\n",
       "      <td>0.0000</td>\n",
       "      <td>0.0000</td>\n",
       "      <td>block of flats</td>\n",
       "      <td>0.0149</td>\n",
       "      <td>No</td>\n",
       "      <td>-1134.0</td>\n",
       "      <td>1</td>\n",
       "    </tr>\n",
       "    <tr>\n",
       "      <th>1</th>\n",
       "      <td>0</td>\n",
       "      <td>0</td>\n",
       "      <td>1</td>\n",
       "      <td>0</td>\n",
       "      <td>0</td>\n",
       "      <td>0</td>\n",
       "      <td>270000.0</td>\n",
       "      <td>1293502.5</td>\n",
       "      <td>35698.5</td>\n",
       "      <td>1129500.0</td>\n",
       "      <td>...</td>\n",
       "      <td>0.0130</td>\n",
       "      <td>0.0773</td>\n",
       "      <td>0.0549</td>\n",
       "      <td>0.0039</td>\n",
       "      <td>0.0098</td>\n",
       "      <td>block of flats</td>\n",
       "      <td>0.0714</td>\n",
       "      <td>No</td>\n",
       "      <td>-828.0</td>\n",
       "      <td>1</td>\n",
       "    </tr>\n",
       "    <tr>\n",
       "      <th>2</th>\n",
       "      <td>0</td>\n",
       "      <td>1</td>\n",
       "      <td>0</td>\n",
       "      <td>1</td>\n",
       "      <td>1</td>\n",
       "      <td>0</td>\n",
       "      <td>67500.0</td>\n",
       "      <td>135000.0</td>\n",
       "      <td>6750.0</td>\n",
       "      <td>135000.0</td>\n",
       "      <td>...</td>\n",
       "      <td>0.0000</td>\n",
       "      <td>0.0000</td>\n",
       "      <td>0.0000</td>\n",
       "      <td>0.0000</td>\n",
       "      <td>0.0000</td>\n",
       "      <td>0</td>\n",
       "      <td>0.0000</td>\n",
       "      <td>0</td>\n",
       "      <td>-815.0</td>\n",
       "      <td>0</td>\n",
       "    </tr>\n",
       "    <tr>\n",
       "      <th>3</th>\n",
       "      <td>0</td>\n",
       "      <td>0</td>\n",
       "      <td>1</td>\n",
       "      <td>0</td>\n",
       "      <td>1</td>\n",
       "      <td>0</td>\n",
       "      <td>135000.0</td>\n",
       "      <td>312682.5</td>\n",
       "      <td>29686.5</td>\n",
       "      <td>297000.0</td>\n",
       "      <td>...</td>\n",
       "      <td>0.0000</td>\n",
       "      <td>0.0000</td>\n",
       "      <td>0.0000</td>\n",
       "      <td>0.0000</td>\n",
       "      <td>0.0000</td>\n",
       "      <td>0</td>\n",
       "      <td>0.0000</td>\n",
       "      <td>0</td>\n",
       "      <td>-617.0</td>\n",
       "      <td>1</td>\n",
       "    </tr>\n",
       "    <tr>\n",
       "      <th>4</th>\n",
       "      <td>0</td>\n",
       "      <td>0</td>\n",
       "      <td>0</td>\n",
       "      <td>0</td>\n",
       "      <td>1</td>\n",
       "      <td>0</td>\n",
       "      <td>121500.0</td>\n",
       "      <td>513000.0</td>\n",
       "      <td>21865.5</td>\n",
       "      <td>513000.0</td>\n",
       "      <td>...</td>\n",
       "      <td>0.0000</td>\n",
       "      <td>0.0000</td>\n",
       "      <td>0.0000</td>\n",
       "      <td>0.0000</td>\n",
       "      <td>0.0000</td>\n",
       "      <td>0</td>\n",
       "      <td>0.0000</td>\n",
       "      <td>0</td>\n",
       "      <td>-1106.0</td>\n",
       "      <td>1</td>\n",
       "    </tr>\n",
       "  </tbody>\n",
       "</table>\n",
       "<p>5 rows × 62 columns</p>\n",
       "</div>"
      ],
      "text/plain": [
       "   TARGET  NAME_CONTRACT_TYPE  CODE_GENDER  FLAG_OWN_CAR  FLAG_OWN_REALTY  \\\n",
       "0       1                   0            0             0                1   \n",
       "1       0                   0            1             0                0   \n",
       "2       0                   1            0             1                1   \n",
       "3       0                   0            1             0                1   \n",
       "4       0                   0            0             0                1   \n",
       "\n",
       "   CNT_CHILDREN  AMT_INCOME_TOTAL  AMT_CREDIT  AMT_ANNUITY  AMT_GOODS_PRICE  \\\n",
       "0             0          202500.0    406597.5      24700.5         351000.0   \n",
       "1             0          270000.0   1293502.5      35698.5        1129500.0   \n",
       "2             0           67500.0    135000.0       6750.0         135000.0   \n",
       "3             0          135000.0    312682.5      29686.5         297000.0   \n",
       "4             0          121500.0    513000.0      21865.5         513000.0   \n",
       "\n",
       "   ... LANDAREA_AVG LIVINGAPARTMENTS_AVG LIVINGAREA_AVG  \\\n",
       "0  ...       0.0369               0.0202         0.0190   \n",
       "1  ...       0.0130               0.0773         0.0549   \n",
       "2  ...       0.0000               0.0000         0.0000   \n",
       "3  ...       0.0000               0.0000         0.0000   \n",
       "4  ...       0.0000               0.0000         0.0000   \n",
       "\n",
       "  NONLIVINGAPARTMENTS_AVG NONLIVINGAREA_AVG  HOUSETYPE_MODE  TOTALAREA_MODE  \\\n",
       "0                  0.0000            0.0000  block of flats          0.0149   \n",
       "1                  0.0039            0.0098  block of flats          0.0714   \n",
       "2                  0.0000            0.0000               0          0.0000   \n",
       "3                  0.0000            0.0000               0          0.0000   \n",
       "4                  0.0000            0.0000               0          0.0000   \n",
       "\n",
       "   EMERGENCYSTATE_MODE  DAYS_LAST_PHONE_CHANGE  DOCS_COUNT  \n",
       "0                   No                 -1134.0           1  \n",
       "1                   No                  -828.0           1  \n",
       "2                    0                  -815.0           0  \n",
       "3                    0                  -617.0           1  \n",
       "4                    0                 -1106.0           1  \n",
       "\n",
       "[5 rows x 62 columns]"
      ]
     },
     "execution_count": 24,
     "metadata": {},
     "output_type": "execute_result"
    }
   ],
   "source": [
    "data_train.head()\n"
   ]
  },
  {
   "cell_type": "code",
   "execution_count": null,
   "metadata": {},
   "outputs": [],
   "source": []
  },
  {
   "cell_type": "code",
   "execution_count": 25,
   "metadata": {},
   "outputs": [
    {
     "data": {
      "text/plain": [
       "No     159428\n",
       "0      145755\n",
       "Yes      2328\n",
       "Name: EMERGENCYSTATE_MODE, dtype: int64"
      ]
     },
     "execution_count": 25,
     "metadata": {},
     "output_type": "execute_result"
    }
   ],
   "source": [
    "item_counts = data_train[\"EMERGENCYSTATE_MODE\"].value_counts()\n",
    "item_counts"
   ]
  },
  {
   "cell_type": "code",
   "execution_count": 26,
   "metadata": {},
   "outputs": [],
   "source": [
    "newflags = {\n",
    "    'No' : 0,\n",
    "    'Yes' : 1,\n",
    "    0 :0\n",
    "}\n",
    "\n",
    "data_train.EMERGENCYSTATE_MODE = [newflags[item] for item in data_train.EMERGENCYSTATE_MODE]\n",
    "\n",
    "data_test.EMERGENCYSTATE_MODE = [newflags[item] for item in data_test.EMERGENCYSTATE_MODE]"
   ]
  },
  {
   "cell_type": "code",
   "execution_count": 27,
   "metadata": {},
   "outputs": [
    {
     "data": {
      "text/html": [
       "<div>\n",
       "<style scoped>\n",
       "    .dataframe tbody tr th:only-of-type {\n",
       "        vertical-align: middle;\n",
       "    }\n",
       "\n",
       "    .dataframe tbody tr th {\n",
       "        vertical-align: top;\n",
       "    }\n",
       "\n",
       "    .dataframe thead th {\n",
       "        text-align: right;\n",
       "    }\n",
       "</style>\n",
       "<table border=\"1\" class=\"dataframe\">\n",
       "  <thead>\n",
       "    <tr style=\"text-align: right;\">\n",
       "      <th></th>\n",
       "      <th>TARGET</th>\n",
       "      <th>NAME_CONTRACT_TYPE</th>\n",
       "      <th>CODE_GENDER</th>\n",
       "      <th>FLAG_OWN_CAR</th>\n",
       "      <th>FLAG_OWN_REALTY</th>\n",
       "      <th>CNT_CHILDREN</th>\n",
       "      <th>AMT_INCOME_TOTAL</th>\n",
       "      <th>AMT_CREDIT</th>\n",
       "      <th>AMT_ANNUITY</th>\n",
       "      <th>AMT_GOODS_PRICE</th>\n",
       "      <th>...</th>\n",
       "      <th>LANDAREA_AVG</th>\n",
       "      <th>LIVINGAPARTMENTS_AVG</th>\n",
       "      <th>LIVINGAREA_AVG</th>\n",
       "      <th>NONLIVINGAPARTMENTS_AVG</th>\n",
       "      <th>NONLIVINGAREA_AVG</th>\n",
       "      <th>HOUSETYPE_MODE</th>\n",
       "      <th>TOTALAREA_MODE</th>\n",
       "      <th>EMERGENCYSTATE_MODE</th>\n",
       "      <th>DAYS_LAST_PHONE_CHANGE</th>\n",
       "      <th>DOCS_COUNT</th>\n",
       "    </tr>\n",
       "  </thead>\n",
       "  <tbody>\n",
       "    <tr>\n",
       "      <th>0</th>\n",
       "      <td>1</td>\n",
       "      <td>0</td>\n",
       "      <td>0</td>\n",
       "      <td>0</td>\n",
       "      <td>1</td>\n",
       "      <td>0</td>\n",
       "      <td>202500.0</td>\n",
       "      <td>406597.5</td>\n",
       "      <td>24700.5</td>\n",
       "      <td>351000.0</td>\n",
       "      <td>...</td>\n",
       "      <td>0.0369</td>\n",
       "      <td>0.0202</td>\n",
       "      <td>0.0190</td>\n",
       "      <td>0.0000</td>\n",
       "      <td>0.0000</td>\n",
       "      <td>block of flats</td>\n",
       "      <td>0.0149</td>\n",
       "      <td>0</td>\n",
       "      <td>-1134.0</td>\n",
       "      <td>1</td>\n",
       "    </tr>\n",
       "    <tr>\n",
       "      <th>1</th>\n",
       "      <td>0</td>\n",
       "      <td>0</td>\n",
       "      <td>1</td>\n",
       "      <td>0</td>\n",
       "      <td>0</td>\n",
       "      <td>0</td>\n",
       "      <td>270000.0</td>\n",
       "      <td>1293502.5</td>\n",
       "      <td>35698.5</td>\n",
       "      <td>1129500.0</td>\n",
       "      <td>...</td>\n",
       "      <td>0.0130</td>\n",
       "      <td>0.0773</td>\n",
       "      <td>0.0549</td>\n",
       "      <td>0.0039</td>\n",
       "      <td>0.0098</td>\n",
       "      <td>block of flats</td>\n",
       "      <td>0.0714</td>\n",
       "      <td>0</td>\n",
       "      <td>-828.0</td>\n",
       "      <td>1</td>\n",
       "    </tr>\n",
       "    <tr>\n",
       "      <th>2</th>\n",
       "      <td>0</td>\n",
       "      <td>1</td>\n",
       "      <td>0</td>\n",
       "      <td>1</td>\n",
       "      <td>1</td>\n",
       "      <td>0</td>\n",
       "      <td>67500.0</td>\n",
       "      <td>135000.0</td>\n",
       "      <td>6750.0</td>\n",
       "      <td>135000.0</td>\n",
       "      <td>...</td>\n",
       "      <td>0.0000</td>\n",
       "      <td>0.0000</td>\n",
       "      <td>0.0000</td>\n",
       "      <td>0.0000</td>\n",
       "      <td>0.0000</td>\n",
       "      <td>0</td>\n",
       "      <td>0.0000</td>\n",
       "      <td>0</td>\n",
       "      <td>-815.0</td>\n",
       "      <td>0</td>\n",
       "    </tr>\n",
       "    <tr>\n",
       "      <th>3</th>\n",
       "      <td>0</td>\n",
       "      <td>0</td>\n",
       "      <td>1</td>\n",
       "      <td>0</td>\n",
       "      <td>1</td>\n",
       "      <td>0</td>\n",
       "      <td>135000.0</td>\n",
       "      <td>312682.5</td>\n",
       "      <td>29686.5</td>\n",
       "      <td>297000.0</td>\n",
       "      <td>...</td>\n",
       "      <td>0.0000</td>\n",
       "      <td>0.0000</td>\n",
       "      <td>0.0000</td>\n",
       "      <td>0.0000</td>\n",
       "      <td>0.0000</td>\n",
       "      <td>0</td>\n",
       "      <td>0.0000</td>\n",
       "      <td>0</td>\n",
       "      <td>-617.0</td>\n",
       "      <td>1</td>\n",
       "    </tr>\n",
       "    <tr>\n",
       "      <th>4</th>\n",
       "      <td>0</td>\n",
       "      <td>0</td>\n",
       "      <td>0</td>\n",
       "      <td>0</td>\n",
       "      <td>1</td>\n",
       "      <td>0</td>\n",
       "      <td>121500.0</td>\n",
       "      <td>513000.0</td>\n",
       "      <td>21865.5</td>\n",
       "      <td>513000.0</td>\n",
       "      <td>...</td>\n",
       "      <td>0.0000</td>\n",
       "      <td>0.0000</td>\n",
       "      <td>0.0000</td>\n",
       "      <td>0.0000</td>\n",
       "      <td>0.0000</td>\n",
       "      <td>0</td>\n",
       "      <td>0.0000</td>\n",
       "      <td>0</td>\n",
       "      <td>-1106.0</td>\n",
       "      <td>1</td>\n",
       "    </tr>\n",
       "  </tbody>\n",
       "</table>\n",
       "<p>5 rows × 62 columns</p>\n",
       "</div>"
      ],
      "text/plain": [
       "   TARGET  NAME_CONTRACT_TYPE  CODE_GENDER  FLAG_OWN_CAR  FLAG_OWN_REALTY  \\\n",
       "0       1                   0            0             0                1   \n",
       "1       0                   0            1             0                0   \n",
       "2       0                   1            0             1                1   \n",
       "3       0                   0            1             0                1   \n",
       "4       0                   0            0             0                1   \n",
       "\n",
       "   CNT_CHILDREN  AMT_INCOME_TOTAL  AMT_CREDIT  AMT_ANNUITY  AMT_GOODS_PRICE  \\\n",
       "0             0          202500.0    406597.5      24700.5         351000.0   \n",
       "1             0          270000.0   1293502.5      35698.5        1129500.0   \n",
       "2             0           67500.0    135000.0       6750.0         135000.0   \n",
       "3             0          135000.0    312682.5      29686.5         297000.0   \n",
       "4             0          121500.0    513000.0      21865.5         513000.0   \n",
       "\n",
       "   ... LANDAREA_AVG LIVINGAPARTMENTS_AVG LIVINGAREA_AVG  \\\n",
       "0  ...       0.0369               0.0202         0.0190   \n",
       "1  ...       0.0130               0.0773         0.0549   \n",
       "2  ...       0.0000               0.0000         0.0000   \n",
       "3  ...       0.0000               0.0000         0.0000   \n",
       "4  ...       0.0000               0.0000         0.0000   \n",
       "\n",
       "  NONLIVINGAPARTMENTS_AVG NONLIVINGAREA_AVG  HOUSETYPE_MODE  TOTALAREA_MODE  \\\n",
       "0                  0.0000            0.0000  block of flats          0.0149   \n",
       "1                  0.0039            0.0098  block of flats          0.0714   \n",
       "2                  0.0000            0.0000               0          0.0000   \n",
       "3                  0.0000            0.0000               0          0.0000   \n",
       "4                  0.0000            0.0000               0          0.0000   \n",
       "\n",
       "   EMERGENCYSTATE_MODE  DAYS_LAST_PHONE_CHANGE  DOCS_COUNT  \n",
       "0                    0                 -1134.0           1  \n",
       "1                    0                  -828.0           1  \n",
       "2                    0                  -815.0           0  \n",
       "3                    0                  -617.0           1  \n",
       "4                    0                 -1106.0           1  \n",
       "\n",
       "[5 rows x 62 columns]"
      ]
     },
     "execution_count": 27,
     "metadata": {},
     "output_type": "execute_result"
    }
   ],
   "source": [
    "data_train.head()"
   ]
  },
  {
   "cell_type": "code",
   "execution_count": 28,
   "metadata": {},
   "outputs": [
    {
     "name": "stdout",
     "output_type": "stream",
     "text": [
      "(2139, 2)\n",
      "(119, 2)\n"
     ]
    }
   ],
   "source": [
    "# car = pd.DataFrame()\n",
    "# car['flag'] = data_train['FLAG_OWN_CAR']\n",
    "# car['age'] = data_train['OWN_CAR_AGE']\n",
    "\n",
    "# car[(car['flag'] == 0) &  (car['age']  > 0)] #shouls be empty\n",
    "\n",
    "# a = car[(car['age']==0)  & (car['flag'] == 1)] #Should be empty else we will update age as 0.5\n",
    "\n",
    "# select_row = a.index\n",
    "\n",
    "# #Updating  the selected rows in the dataframe\n",
    "# data_train.at[select_row,'OWN_CAR_AGE']=0.5\n",
    "\n",
    "def car_data(df):\n",
    "    car = pd.DataFrame()\n",
    "    car['flag'] = df['FLAG_OWN_CAR']\n",
    "    car['age'] = df['OWN_CAR_AGE']\n",
    "    \n",
    "    car[(car['flag'] == 0) &  (car['age']  > 0)] #shouls be empty\n",
    "\n",
    "    a = car[(car['age']==0)  & (car['flag'] == 1)] #Should be empty else we will update age as 0.5\n",
    "    \n",
    "    print(a.shape)\n",
    "    \n",
    "    select_row = a.index\n",
    "    \n",
    "    #Updating  the selected rows in the dataframe\n",
    "    df.at[select_row,'OWN_CAR_AGE']=0.5\n",
    "    \n",
    "    # Deleting the 'FLAG_OWN_CAR' column as the data on is represented on 'OWN_CAR_AGE'\n",
    "    df.drop(['OWN_CAR_AGE'] , axis = 1, inplace = True)\n",
    "    \n",
    "    #Delete the car dataframe\n",
    "    del car\n",
    "\n",
    "car_data(data_train)\n",
    "car_data(data_test)\n"
   ]
  },
  {
   "cell_type": "code",
   "execution_count": 29,
   "metadata": {},
   "outputs": [
    {
     "data": {
      "text/plain": [
       "(307511, 61)"
      ]
     },
     "execution_count": 29,
     "metadata": {},
     "output_type": "execute_result"
    }
   ],
   "source": [
    "data_train.shape"
   ]
  },
  {
   "cell_type": "code",
   "execution_count": 30,
   "metadata": {},
   "outputs": [
    {
     "data": {
      "text/plain": [
       "0     215371\n",
       "1      61119\n",
       "2      26749\n",
       "3       3717\n",
       "4        429\n",
       "5         84\n",
       "6         21\n",
       "7          7\n",
       "14         3\n",
       "19         2\n",
       "12         2\n",
       "10         2\n",
       "9          2\n",
       "8          2\n",
       "11         1\n",
       "Name: CNT_CHILDREN, dtype: int64"
      ]
     },
     "execution_count": 30,
     "metadata": {},
     "output_type": "execute_result"
    }
   ],
   "source": [
    "item_counts = data_train[\"CNT_CHILDREN\"].value_counts()\n",
    "item_counts"
   ]
  },
  {
   "cell_type": "code",
   "execution_count": 31,
   "metadata": {},
   "outputs": [
    {
     "data": {
      "text/html": [
       "<div>\n",
       "<style scoped>\n",
       "    .dataframe tbody tr th:only-of-type {\n",
       "        vertical-align: middle;\n",
       "    }\n",
       "\n",
       "    .dataframe tbody tr th {\n",
       "        vertical-align: top;\n",
       "    }\n",
       "\n",
       "    .dataframe thead th {\n",
       "        text-align: right;\n",
       "    }\n",
       "</style>\n",
       "<table border=\"1\" class=\"dataframe\">\n",
       "  <thead>\n",
       "    <tr style=\"text-align: right;\">\n",
       "      <th></th>\n",
       "      <th>count</th>\n",
       "      <th>lives_with</th>\n",
       "    </tr>\n",
       "  </thead>\n",
       "  <tbody>\n",
       "    <tr>\n",
       "      <th>12615</th>\n",
       "      <td>8</td>\n",
       "      <td>Unaccompanied</td>\n",
       "    </tr>\n",
       "    <tr>\n",
       "      <th>23881</th>\n",
       "      <td>9</td>\n",
       "      <td>Unaccompanied</td>\n",
       "    </tr>\n",
       "    <tr>\n",
       "      <th>34545</th>\n",
       "      <td>11</td>\n",
       "      <td>Unaccompanied</td>\n",
       "    </tr>\n",
       "    <tr>\n",
       "      <th>80948</th>\n",
       "      <td>12</td>\n",
       "      <td>Family</td>\n",
       "    </tr>\n",
       "    <tr>\n",
       "      <th>132585</th>\n",
       "      <td>10</td>\n",
       "      <td>Unaccompanied</td>\n",
       "    </tr>\n",
       "    <tr>\n",
       "      <th>154317</th>\n",
       "      <td>8</td>\n",
       "      <td>Family</td>\n",
       "    </tr>\n",
       "    <tr>\n",
       "      <th>155369</th>\n",
       "      <td>19</td>\n",
       "      <td>Family</td>\n",
       "    </tr>\n",
       "    <tr>\n",
       "      <th>171125</th>\n",
       "      <td>12</td>\n",
       "      <td>Family</td>\n",
       "    </tr>\n",
       "    <tr>\n",
       "      <th>176011</th>\n",
       "      <td>14</td>\n",
       "      <td>Children</td>\n",
       "    </tr>\n",
       "    <tr>\n",
       "      <th>183878</th>\n",
       "      <td>14</td>\n",
       "      <td>Unaccompanied</td>\n",
       "    </tr>\n",
       "    <tr>\n",
       "      <th>186820</th>\n",
       "      <td>10</td>\n",
       "      <td>Family</td>\n",
       "    </tr>\n",
       "    <tr>\n",
       "      <th>265784</th>\n",
       "      <td>19</td>\n",
       "      <td>Unaccompanied</td>\n",
       "    </tr>\n",
       "    <tr>\n",
       "      <th>267998</th>\n",
       "      <td>14</td>\n",
       "      <td>Unaccompanied</td>\n",
       "    </tr>\n",
       "    <tr>\n",
       "      <th>276768</th>\n",
       "      <td>9</td>\n",
       "      <td>Unaccompanied</td>\n",
       "    </tr>\n",
       "  </tbody>\n",
       "</table>\n",
       "</div>"
      ],
      "text/plain": [
       "        count     lives_with\n",
       "12615       8  Unaccompanied\n",
       "23881       9  Unaccompanied\n",
       "34545      11  Unaccompanied\n",
       "80948      12         Family\n",
       "132585     10  Unaccompanied\n",
       "154317      8         Family\n",
       "155369     19         Family\n",
       "171125     12         Family\n",
       "176011     14       Children\n",
       "183878     14  Unaccompanied\n",
       "186820     10         Family\n",
       "265784     19  Unaccompanied\n",
       "267998     14  Unaccompanied\n",
       "276768      9  Unaccompanied"
      ]
     },
     "execution_count": 31,
     "metadata": {},
     "output_type": "execute_result"
    }
   ],
   "source": [
    "child = pd.DataFrame()\n",
    "child['count'] = data_train[(data_train['CNT_CHILDREN'] > 7)]['CNT_CHILDREN']\n",
    "child['lives_with'] = data_train.loc[child.index,'NAME_TYPE_SUITE'] \n",
    "child"
   ]
  },
  {
   "cell_type": "code",
   "execution_count": 32,
   "metadata": {},
   "outputs": [
    {
     "data": {
      "text/html": [
       "<div>\n",
       "<style scoped>\n",
       "    .dataframe tbody tr th:only-of-type {\n",
       "        vertical-align: middle;\n",
       "    }\n",
       "\n",
       "    .dataframe tbody tr th {\n",
       "        vertical-align: top;\n",
       "    }\n",
       "\n",
       "    .dataframe thead th {\n",
       "        text-align: right;\n",
       "    }\n",
       "</style>\n",
       "<table border=\"1\" class=\"dataframe\">\n",
       "  <thead>\n",
       "    <tr style=\"text-align: right;\">\n",
       "      <th></th>\n",
       "      <th>TARGET</th>\n",
       "      <th>NAME_CONTRACT_TYPE</th>\n",
       "      <th>CODE_GENDER</th>\n",
       "      <th>FLAG_OWN_CAR</th>\n",
       "      <th>FLAG_OWN_REALTY</th>\n",
       "      <th>CNT_CHILDREN</th>\n",
       "      <th>AMT_INCOME_TOTAL</th>\n",
       "      <th>AMT_CREDIT</th>\n",
       "      <th>AMT_ANNUITY</th>\n",
       "      <th>AMT_GOODS_PRICE</th>\n",
       "      <th>...</th>\n",
       "      <th>LANDAREA_AVG</th>\n",
       "      <th>LIVINGAPARTMENTS_AVG</th>\n",
       "      <th>LIVINGAREA_AVG</th>\n",
       "      <th>NONLIVINGAPARTMENTS_AVG</th>\n",
       "      <th>NONLIVINGAREA_AVG</th>\n",
       "      <th>HOUSETYPE_MODE</th>\n",
       "      <th>TOTALAREA_MODE</th>\n",
       "      <th>EMERGENCYSTATE_MODE</th>\n",
       "      <th>DAYS_LAST_PHONE_CHANGE</th>\n",
       "      <th>DOCS_COUNT</th>\n",
       "    </tr>\n",
       "  </thead>\n",
       "  <tbody>\n",
       "    <tr>\n",
       "      <th>0</th>\n",
       "      <td>1</td>\n",
       "      <td>0</td>\n",
       "      <td>0</td>\n",
       "      <td>0</td>\n",
       "      <td>1</td>\n",
       "      <td>0</td>\n",
       "      <td>202500.0</td>\n",
       "      <td>406597.5</td>\n",
       "      <td>24700.5</td>\n",
       "      <td>351000.0</td>\n",
       "      <td>...</td>\n",
       "      <td>0.0369</td>\n",
       "      <td>0.0202</td>\n",
       "      <td>0.0190</td>\n",
       "      <td>0.0000</td>\n",
       "      <td>0.0000</td>\n",
       "      <td>block of flats</td>\n",
       "      <td>0.0149</td>\n",
       "      <td>0</td>\n",
       "      <td>-1134.0</td>\n",
       "      <td>1</td>\n",
       "    </tr>\n",
       "    <tr>\n",
       "      <th>1</th>\n",
       "      <td>0</td>\n",
       "      <td>0</td>\n",
       "      <td>1</td>\n",
       "      <td>0</td>\n",
       "      <td>0</td>\n",
       "      <td>0</td>\n",
       "      <td>270000.0</td>\n",
       "      <td>1293502.5</td>\n",
       "      <td>35698.5</td>\n",
       "      <td>1129500.0</td>\n",
       "      <td>...</td>\n",
       "      <td>0.0130</td>\n",
       "      <td>0.0773</td>\n",
       "      <td>0.0549</td>\n",
       "      <td>0.0039</td>\n",
       "      <td>0.0098</td>\n",
       "      <td>block of flats</td>\n",
       "      <td>0.0714</td>\n",
       "      <td>0</td>\n",
       "      <td>-828.0</td>\n",
       "      <td>1</td>\n",
       "    </tr>\n",
       "    <tr>\n",
       "      <th>2</th>\n",
       "      <td>0</td>\n",
       "      <td>1</td>\n",
       "      <td>0</td>\n",
       "      <td>1</td>\n",
       "      <td>1</td>\n",
       "      <td>0</td>\n",
       "      <td>67500.0</td>\n",
       "      <td>135000.0</td>\n",
       "      <td>6750.0</td>\n",
       "      <td>135000.0</td>\n",
       "      <td>...</td>\n",
       "      <td>0.0000</td>\n",
       "      <td>0.0000</td>\n",
       "      <td>0.0000</td>\n",
       "      <td>0.0000</td>\n",
       "      <td>0.0000</td>\n",
       "      <td>0</td>\n",
       "      <td>0.0000</td>\n",
       "      <td>0</td>\n",
       "      <td>-815.0</td>\n",
       "      <td>0</td>\n",
       "    </tr>\n",
       "    <tr>\n",
       "      <th>3</th>\n",
       "      <td>0</td>\n",
       "      <td>0</td>\n",
       "      <td>1</td>\n",
       "      <td>0</td>\n",
       "      <td>1</td>\n",
       "      <td>0</td>\n",
       "      <td>135000.0</td>\n",
       "      <td>312682.5</td>\n",
       "      <td>29686.5</td>\n",
       "      <td>297000.0</td>\n",
       "      <td>...</td>\n",
       "      <td>0.0000</td>\n",
       "      <td>0.0000</td>\n",
       "      <td>0.0000</td>\n",
       "      <td>0.0000</td>\n",
       "      <td>0.0000</td>\n",
       "      <td>0</td>\n",
       "      <td>0.0000</td>\n",
       "      <td>0</td>\n",
       "      <td>-617.0</td>\n",
       "      <td>1</td>\n",
       "    </tr>\n",
       "    <tr>\n",
       "      <th>4</th>\n",
       "      <td>0</td>\n",
       "      <td>0</td>\n",
       "      <td>0</td>\n",
       "      <td>0</td>\n",
       "      <td>1</td>\n",
       "      <td>0</td>\n",
       "      <td>121500.0</td>\n",
       "      <td>513000.0</td>\n",
       "      <td>21865.5</td>\n",
       "      <td>513000.0</td>\n",
       "      <td>...</td>\n",
       "      <td>0.0000</td>\n",
       "      <td>0.0000</td>\n",
       "      <td>0.0000</td>\n",
       "      <td>0.0000</td>\n",
       "      <td>0.0000</td>\n",
       "      <td>0</td>\n",
       "      <td>0.0000</td>\n",
       "      <td>0</td>\n",
       "      <td>-1106.0</td>\n",
       "      <td>1</td>\n",
       "    </tr>\n",
       "  </tbody>\n",
       "</table>\n",
       "<p>5 rows × 61 columns</p>\n",
       "</div>"
      ],
      "text/plain": [
       "   TARGET  NAME_CONTRACT_TYPE  CODE_GENDER  FLAG_OWN_CAR  FLAG_OWN_REALTY  \\\n",
       "0       1                   0            0             0                1   \n",
       "1       0                   0            1             0                0   \n",
       "2       0                   1            0             1                1   \n",
       "3       0                   0            1             0                1   \n",
       "4       0                   0            0             0                1   \n",
       "\n",
       "   CNT_CHILDREN  AMT_INCOME_TOTAL  AMT_CREDIT  AMT_ANNUITY  AMT_GOODS_PRICE  \\\n",
       "0             0          202500.0    406597.5      24700.5         351000.0   \n",
       "1             0          270000.0   1293502.5      35698.5        1129500.0   \n",
       "2             0           67500.0    135000.0       6750.0         135000.0   \n",
       "3             0          135000.0    312682.5      29686.5         297000.0   \n",
       "4             0          121500.0    513000.0      21865.5         513000.0   \n",
       "\n",
       "   ... LANDAREA_AVG LIVINGAPARTMENTS_AVG LIVINGAREA_AVG  \\\n",
       "0  ...       0.0369               0.0202         0.0190   \n",
       "1  ...       0.0130               0.0773         0.0549   \n",
       "2  ...       0.0000               0.0000         0.0000   \n",
       "3  ...       0.0000               0.0000         0.0000   \n",
       "4  ...       0.0000               0.0000         0.0000   \n",
       "\n",
       "  NONLIVINGAPARTMENTS_AVG NONLIVINGAREA_AVG  HOUSETYPE_MODE  TOTALAREA_MODE  \\\n",
       "0                  0.0000            0.0000  block of flats          0.0149   \n",
       "1                  0.0039            0.0098  block of flats          0.0714   \n",
       "2                  0.0000            0.0000               0          0.0000   \n",
       "3                  0.0000            0.0000               0          0.0000   \n",
       "4                  0.0000            0.0000               0          0.0000   \n",
       "\n",
       "   EMERGENCYSTATE_MODE  DAYS_LAST_PHONE_CHANGE  DOCS_COUNT  \n",
       "0                    0                 -1134.0           1  \n",
       "1                    0                  -828.0           1  \n",
       "2                    0                  -815.0           0  \n",
       "3                    0                  -617.0           1  \n",
       "4                    0                 -1106.0           1  \n",
       "\n",
       "[5 rows x 61 columns]"
      ]
     },
     "execution_count": 32,
     "metadata": {},
     "output_type": "execute_result"
    }
   ],
   "source": [
    "data_train.head()"
   ]
  },
  {
   "cell_type": "code",
   "execution_count": 33,
   "metadata": {},
   "outputs": [
    {
     "data": {
      "text/plain": [
       "TARGET                    0.010696\n",
       "NAME_CONTRACT_TYPE       -0.024440\n",
       "CODE_GENDER               0.132359\n",
       "FLAG_OWN_CAR             -0.083466\n",
       "FLAG_OWN_REALTY          -0.024312\n",
       "                            ...   \n",
       "HOUSETYPE_MODE           -0.022139\n",
       "TOTALAREA_MODE            0.007338\n",
       "EMERGENCYSTATE_MODE       0.005936\n",
       "DAYS_LAST_PHONE_CHANGE    0.009126\n",
       "DOCS_COUNT               -0.028922\n",
       "Name: NAME_FAMILY_STATUS, Length: 61, dtype: float64"
      ]
     },
     "execution_count": 33,
     "metadata": {},
     "output_type": "execute_result"
    }
   ],
   "source": [
    "# data_train['NAME_TYPE_SUITE'] = data_train['NAME_TYPE_SUITE'].fillna(0)\n",
    "\n",
    "a = data_train.apply(lambda x : pd.factorize(x)[0]).corr(method='pearson', min_periods=1)\n",
    "a ['NAME_FAMILY_STATUS']\n"
   ]
  },
  {
   "cell_type": "code",
   "execution_count": 34,
   "metadata": {},
   "outputs": [
    {
     "data": {
      "text/plain": [
       "Index(['TARGET', 'NAME_CONTRACT_TYPE', 'CODE_GENDER', 'FLAG_OWN_CAR',\n",
       "       'FLAG_OWN_REALTY', 'CNT_CHILDREN', 'AMT_INCOME_TOTAL', 'AMT_CREDIT',\n",
       "       'AMT_ANNUITY', 'AMT_GOODS_PRICE', 'NAME_TYPE_SUITE', 'NAME_INCOME_TYPE',\n",
       "       'NAME_EDUCATION_TYPE', 'NAME_FAMILY_STATUS', 'NAME_HOUSING_TYPE',\n",
       "       'REGION_POPULATION_RELATIVE', 'DAYS_BIRTH', 'DAYS_EMPLOYED',\n",
       "       'DAYS_REGISTRATION', 'DAYS_ID_PUBLISH', 'FLAG_MOBIL', 'FLAG_EMP_PHONE',\n",
       "       'FLAG_WORK_PHONE', 'FLAG_CONT_MOBILE', 'FLAG_PHONE', 'FLAG_EMAIL',\n",
       "       'OCCUPATION_TYPE', 'CNT_FAM_MEMBERS', 'REGION_RATING_CLIENT',\n",
       "       'REGION_RATING_CLIENT_W_CITY', 'WEEKDAY_APPR_PROCESS_START',\n",
       "       'HOUR_APPR_PROCESS_START', 'REG_REGION_NOT_LIVE_REGION',\n",
       "       'REG_REGION_NOT_WORK_REGION', 'LIVE_REGION_NOT_WORK_REGION',\n",
       "       'REG_CITY_NOT_LIVE_CITY', 'REG_CITY_NOT_WORK_CITY',\n",
       "       'LIVE_CITY_NOT_WORK_CITY', 'ORGANIZATION_TYPE', 'EXT_SOURCE_1',\n",
       "       'EXT_SOURCE_2', 'EXT_SOURCE_3', 'APARTMENTS_AVG', 'BASEMENTAREA_AVG',\n",
       "       'YEARS_BEGINEXPLUATATION_AVG', 'YEARS_BUILD_AVG', 'COMMONAREA_AVG',\n",
       "       'ELEVATORS_AVG', 'ENTRANCES_AVG', 'FLOORSMAX_AVG', 'FLOORSMIN_AVG',\n",
       "       'LANDAREA_AVG', 'LIVINGAPARTMENTS_AVG', 'LIVINGAREA_AVG',\n",
       "       'NONLIVINGAPARTMENTS_AVG', 'NONLIVINGAREA_AVG', 'HOUSETYPE_MODE',\n",
       "       'TOTALAREA_MODE', 'EMERGENCYSTATE_MODE', 'DAYS_LAST_PHONE_CHANGE',\n",
       "       'DOCS_COUNT'],\n",
       "      dtype='object')"
      ]
     },
     "execution_count": 34,
     "metadata": {},
     "output_type": "execute_result"
    }
   ],
   "source": [
    "a.columns"
   ]
  },
  {
   "cell_type": "code",
   "execution_count": 35,
   "metadata": {},
   "outputs": [],
   "source": [
    "data = pd.DataFrame()\n",
    "data['children'] = data_train['CNT_CHILDREN']\n",
    "data['suite'] = data_train['NAME_TYPE_SUITE']\n",
    "data['housing'] = data_train['NAME_HOUSING_TYPE']\n",
    "data['status'] = data_train['NAME_FAMILY_STATUS']\n",
    "data['income'] = data_train['NAME_INCOME_TYPE']\n",
    "data['education'] = data_train['NAME_EDUCATION_TYPE']\n",
    "data['occupation'] = data_train['OCCUPATION_TYPE']\n",
    "data['organization'] = data_train['ORGANIZATION_TYPE']    "
   ]
  },
  {
   "cell_type": "code",
   "execution_count": 36,
   "metadata": {},
   "outputs": [
    {
     "data": {
      "text/html": [
       "<div>\n",
       "<style scoped>\n",
       "    .dataframe tbody tr th:only-of-type {\n",
       "        vertical-align: middle;\n",
       "    }\n",
       "\n",
       "    .dataframe tbody tr th {\n",
       "        vertical-align: top;\n",
       "    }\n",
       "\n",
       "    .dataframe thead th {\n",
       "        text-align: right;\n",
       "    }\n",
       "</style>\n",
       "<table border=\"1\" class=\"dataframe\">\n",
       "  <thead>\n",
       "    <tr style=\"text-align: right;\">\n",
       "      <th></th>\n",
       "      <th>children</th>\n",
       "      <th>suite</th>\n",
       "      <th>housing</th>\n",
       "      <th>status</th>\n",
       "      <th>income</th>\n",
       "      <th>education</th>\n",
       "      <th>occupation</th>\n",
       "      <th>organization</th>\n",
       "    </tr>\n",
       "  </thead>\n",
       "  <tbody>\n",
       "    <tr>\n",
       "      <th>0</th>\n",
       "      <td>0</td>\n",
       "      <td>Unaccompanied</td>\n",
       "      <td>House / apartment</td>\n",
       "      <td>Single / not married</td>\n",
       "      <td>Working</td>\n",
       "      <td>Secondary / secondary special</td>\n",
       "      <td>Laborers</td>\n",
       "      <td>Business Entity Type 3</td>\n",
       "    </tr>\n",
       "    <tr>\n",
       "      <th>1</th>\n",
       "      <td>0</td>\n",
       "      <td>Family</td>\n",
       "      <td>House / apartment</td>\n",
       "      <td>Married</td>\n",
       "      <td>State servant</td>\n",
       "      <td>Higher education</td>\n",
       "      <td>Core staff</td>\n",
       "      <td>School</td>\n",
       "    </tr>\n",
       "  </tbody>\n",
       "</table>\n",
       "</div>"
      ],
      "text/plain": [
       "   children          suite            housing                status  \\\n",
       "0         0  Unaccompanied  House / apartment  Single / not married   \n",
       "1         0         Family  House / apartment               Married   \n",
       "\n",
       "          income                      education  occupation  \\\n",
       "0        Working  Secondary / secondary special    Laborers   \n",
       "1  State servant               Higher education  Core staff   \n",
       "\n",
       "             organization  \n",
       "0  Business Entity Type 3  \n",
       "1                  School  "
      ]
     },
     "execution_count": 36,
     "metadata": {},
     "output_type": "execute_result"
    }
   ],
   "source": [
    "data.head(2)"
   ]
  },
  {
   "cell_type": "code",
   "execution_count": 37,
   "metadata": {},
   "outputs": [],
   "source": [
    "a = data.apply(lambda x : pd.factorize(x)[0]).corr(method='pearson', min_periods=1)"
   ]
  },
  {
   "cell_type": "code",
   "execution_count": 38,
   "metadata": {},
   "outputs": [
    {
     "data": {
      "text/plain": [
       "Text(0.5, 1, 'Corelation heatmap')"
      ]
     },
     "execution_count": 38,
     "metadata": {},
     "output_type": "execute_result"
    },
    {
     "data": {
      "image/png": "[encoded data removed]",
      "text/plain": [
       "<Figure size 720x576 with 2 Axes>"
      ]
     },
     "metadata": {
      "needs_background": "light"
     },
     "output_type": "display_data"
    }
   ],
   "source": [
    "plt.figure(figsize=(10,8))\n",
    "sns.heatmap(a , cmap = plt.cm.RdYlBu_r , annot=True)\n",
    "plt.title(\"Corelation heatmap\")"
   ]
  },
  {
   "cell_type": "code",
   "execution_count": 39,
   "metadata": {},
   "outputs": [],
   "source": [
    "dictn = {\n",
    "    'Spouse, partner' : 'Family',\n",
    "    'Children' : 'Family',\n",
    "    'Family' : 'Family',\n",
    "    'Unaccompanied' : 'Unaccompanied',\n",
    "    'Other_A' : 'Group',\n",
    "    'Other_B' : 'Group',\n",
    "    'Group of people' : 'Group',\n",
    "    np.nan : 'Amissing'\n",
    "}\n",
    "\n",
    "data_train.NAME_TYPE_SUITE = [dictn[item] for item in data_train.NAME_TYPE_SUITE]\n",
    "data_test.NAME_TYPE_SUITE = [dictn[item] for item in data_test.NAME_TYPE_SUITE]"
   ]
  },
  {
   "cell_type": "code",
   "execution_count": 40,
   "metadata": {},
   "outputs": [
    {
     "data": {
      "text/plain": [
       "Unaccompanied    248526\n",
       "Family            54786\n",
       "Group              2907\n",
       "Amissing           1292\n",
       "Name: NAME_TYPE_SUITE, dtype: int64"
      ]
     },
     "execution_count": 40,
     "metadata": {},
     "output_type": "execute_result"
    }
   ],
   "source": [
    "item_counts = data_train[\"NAME_TYPE_SUITE\"].value_counts()\n",
    "item_counts"
   ]
  },
  {
   "cell_type": "code",
   "execution_count": 41,
   "metadata": {},
   "outputs": [],
   "source": [
    "# One hot encoding\n",
    "data_train = pd.get_dummies(data_train, columns=['NAME_TYPE_SUITE'], drop_first=True,  prefix='SUITE',)\n",
    "data_test = pd.get_dummies(data_test, columns=['NAME_TYPE_SUITE'], drop_first=True,  prefix='SUITE',)\n",
    "\n",
    "# Drop NAME_TYPE_SUITE column\n",
    "# data_train.drop(['NAME_TYPE_SUITE'] , axis = 1, inplace = True) #No need to drop as one hot encoding does for us"
   ]
  },
  {
   "cell_type": "code",
   "execution_count": 42,
   "metadata": {},
   "outputs": [
    {
     "data": {
      "text/plain": [
       "NAME_INCOME_TYPE               8\n",
       "NAME_EDUCATION_TYPE            5\n",
       "NAME_FAMILY_STATUS             6\n",
       "NAME_HOUSING_TYPE              6\n",
       "OCCUPATION_TYPE               18\n",
       "WEEKDAY_APPR_PROCESS_START     7\n",
       "ORGANIZATION_TYPE             58\n",
       "HOUSETYPE_MODE                 4\n",
       "dtype: int64"
      ]
     },
     "execution_count": 42,
     "metadata": {},
     "output_type": "execute_result"
    }
   ],
   "source": [
    "get_unique_catagory(data_train)"
   ]
  },
  {
   "cell_type": "code",
   "execution_count": 43,
   "metadata": {},
   "outputs": [
    {
     "name": "stdout",
     "output_type": "stream",
     "text": [
      "The selected dataframe has 63Columns. \n",
      "There are 8 columns have a missing values.\n"
     ]
    },
    {
     "data": {
      "text/html": [
       "<div>\n",
       "<style scoped>\n",
       "    .dataframe tbody tr th:only-of-type {\n",
       "        vertical-align: middle;\n",
       "    }\n",
       "\n",
       "    .dataframe tbody tr th {\n",
       "        vertical-align: top;\n",
       "    }\n",
       "\n",
       "    .dataframe thead th {\n",
       "        text-align: right;\n",
       "    }\n",
       "</style>\n",
       "<table border=\"1\" class=\"dataframe\">\n",
       "  <thead>\n",
       "    <tr style=\"text-align: right;\">\n",
       "      <th></th>\n",
       "      <th>Missing Counts</th>\n",
       "      <th>Missing Percentage</th>\n",
       "    </tr>\n",
       "  </thead>\n",
       "  <tbody>\n",
       "    <tr>\n",
       "      <th>EXT_SOURCE_1</th>\n",
       "      <td>173378</td>\n",
       "      <td>56.381073</td>\n",
       "    </tr>\n",
       "    <tr>\n",
       "      <th>OCCUPATION_TYPE</th>\n",
       "      <td>96391</td>\n",
       "      <td>31.345545</td>\n",
       "    </tr>\n",
       "    <tr>\n",
       "      <th>EXT_SOURCE_3</th>\n",
       "      <td>60965</td>\n",
       "      <td>19.825307</td>\n",
       "    </tr>\n",
       "    <tr>\n",
       "      <th>EXT_SOURCE_2</th>\n",
       "      <td>660</td>\n",
       "      <td>0.214626</td>\n",
       "    </tr>\n",
       "    <tr>\n",
       "      <th>AMT_GOODS_PRICE</th>\n",
       "      <td>278</td>\n",
       "      <td>0.090403</td>\n",
       "    </tr>\n",
       "    <tr>\n",
       "      <th>AMT_ANNUITY</th>\n",
       "      <td>12</td>\n",
       "      <td>0.003902</td>\n",
       "    </tr>\n",
       "    <tr>\n",
       "      <th>CNT_FAM_MEMBERS</th>\n",
       "      <td>2</td>\n",
       "      <td>0.000650</td>\n",
       "    </tr>\n",
       "    <tr>\n",
       "      <th>DAYS_LAST_PHONE_CHANGE</th>\n",
       "      <td>1</td>\n",
       "      <td>0.000325</td>\n",
       "    </tr>\n",
       "  </tbody>\n",
       "</table>\n",
       "</div>"
      ],
      "text/plain": [
       "                        Missing Counts  Missing Percentage\n",
       "EXT_SOURCE_1                    173378           56.381073\n",
       "OCCUPATION_TYPE                  96391           31.345545\n",
       "EXT_SOURCE_3                     60965           19.825307\n",
       "EXT_SOURCE_2                       660            0.214626\n",
       "AMT_GOODS_PRICE                    278            0.090403\n",
       "AMT_ANNUITY                         12            0.003902\n",
       "CNT_FAM_MEMBERS                      2            0.000650\n",
       "DAYS_LAST_PHONE_CHANGE               1            0.000325"
      ]
     },
     "execution_count": 43,
     "metadata": {},
     "output_type": "execute_result"
    }
   ],
   "source": [
    "missing_value_table(data_train)"
   ]
  },
  {
   "cell_type": "code",
   "execution_count": 44,
   "metadata": {},
   "outputs": [
    {
     "data": {
      "text/plain": [
       "Working                 158774\n",
       "Commercial associate     71617\n",
       "Pensioner                55362\n",
       "State servant            21703\n",
       "Unemployed                  22\n",
       "Student                     18\n",
       "Businessman                 10\n",
       "Maternity leave              5\n",
       "Name: NAME_INCOME_TYPE, dtype: int64"
      ]
     },
     "execution_count": 44,
     "metadata": {},
     "output_type": "execute_result"
    }
   ],
   "source": [
    "# NAME_INCOME_TYPE               \n",
    "\n",
    "item_counts = data_train[\"NAME_INCOME_TYPE\"].value_counts()\n",
    "item_counts"
   ]
  },
  {
   "cell_type": "code",
   "execution_count": 45,
   "metadata": {},
   "outputs": [
    {
     "data": {
      "text/plain": [
       "0"
      ]
     },
     "execution_count": 45,
     "metadata": {},
     "output_type": "execute_result"
    }
   ],
   "source": [
    "data_train[\"NAME_INCOME_TYPE\"].isnull().sum()"
   ]
  },
  {
   "cell_type": "code",
   "execution_count": 46,
   "metadata": {},
   "outputs": [
    {
     "name": "stdout",
     "output_type": "stream",
     "text": [
      "0    3\n",
      "1    2\n",
      "Name: target, dtype: int64\n"
     ]
    },
    {
     "data": {
      "text/plain": [
       "<matplotlib.axes._subplots.AxesSubplot at 0x17b00852d08>"
      ]
     },
     "execution_count": 46,
     "metadata": {},
     "output_type": "execute_result"
    },
    {
     "data": {
      "image/png": "[encoded data removed]",
      "text/plain": [
       "<Figure size 432x288 with 1 Axes>"
      ]
     },
     "metadata": {
      "needs_background": "light"
     },
     "output_type": "display_data"
    }
   ],
   "source": [
    "newda = pd.DataFrame()\n",
    "newda['pension'] = data_train[(data_train['NAME_INCOME_TYPE'] == 'Maternity leave')]['NAME_INCOME_TYPE']\n",
    "newda['target'] =  data_train.loc[newda.index,'TARGET'] \n",
    "\n",
    "print(newda[\"target\"].value_counts())\n",
    "\n",
    "newda['target'].plot.hist()"
   ]
  },
  {
   "cell_type": "code",
   "execution_count": 47,
   "metadata": {},
   "outputs": [],
   "source": [
    "newflags = {\n",
    "    'Working' : 2 ,\n",
    "    'Commercial associate' : 3,\n",
    "    'Businessman' : 3,\n",
    "    'Pensioner' : 1,\n",
    "    'State servant' : 4,\n",
    "    'Unemployed' : 0,\n",
    "    'Student' : 0,\n",
    "    'Maternity leave' : 1,\n",
    "}\n",
    "\n",
    "data_train.NAME_INCOME_TYPE = [newflags[item] for item in data_train.NAME_INCOME_TYPE]\n",
    "data_test.NAME_INCOME_TYPE = [newflags[item] for item in data_test.NAME_INCOME_TYPE]"
   ]
  },
  {
   "cell_type": "code",
   "execution_count": 48,
   "metadata": {},
   "outputs": [
    {
     "data": {
      "text/plain": [
       "2    158774\n",
       "3     71627\n",
       "1     55367\n",
       "4     21703\n",
       "0        40\n",
       "Name: NAME_INCOME_TYPE, dtype: int64"
      ]
     },
     "execution_count": 48,
     "metadata": {},
     "output_type": "execute_result"
    }
   ],
   "source": [
    "# NAME_INCOME_TYPE               \n",
    "\n",
    "item_counts = data_train[\"NAME_INCOME_TYPE\"].value_counts()\n",
    "item_counts"
   ]
  },
  {
   "cell_type": "code",
   "execution_count": 49,
   "metadata": {},
   "outputs": [
    {
     "data": {
      "text/plain": [
       "Secondary / secondary special    218391\n",
       "Higher education                  74863\n",
       "Incomplete higher                 10277\n",
       "Lower secondary                    3816\n",
       "Academic degree                     164\n",
       "Name: NAME_EDUCATION_TYPE, dtype: int64"
      ]
     },
     "execution_count": 49,
     "metadata": {},
     "output_type": "execute_result"
    }
   ],
   "source": [
    "# NAME_EDUCATION_TYPE    \n",
    " \n",
    "item_counts = data_train[\"NAME_EDUCATION_TYPE\"].value_counts()\n",
    "item_counts"
   ]
  },
  {
   "cell_type": "code",
   "execution_count": 50,
   "metadata": {},
   "outputs": [],
   "source": [
    "newflags = {\n",
    "    'Secondary / secondary special' : 0 ,\n",
    "    'Higher education' : 1,\n",
    "    'Incomplete higher' : 2,\n",
    "    'Lower secondary' : 3,\n",
    "    'Academic degree' : 4\n",
    "}\n",
    "\n",
    "data_train.NAME_EDUCATION_TYPE = [newflags[item] for item in data_train.NAME_EDUCATION_TYPE]\n",
    "\n",
    "data_test.NAME_EDUCATION_TYPE = [newflags[item] for item in data_test.NAME_EDUCATION_TYPE]"
   ]
  },
  {
   "cell_type": "code",
   "execution_count": 51,
   "metadata": {},
   "outputs": [
    {
     "data": {
      "text/plain": [
       "0    218391\n",
       "1     74863\n",
       "2     10277\n",
       "3      3816\n",
       "4       164\n",
       "Name: NAME_EDUCATION_TYPE, dtype: int64"
      ]
     },
     "execution_count": 51,
     "metadata": {},
     "output_type": "execute_result"
    }
   ],
   "source": [
    "# NAME_EDUCATION_TYPE    \n",
    " \n",
    "item_counts = data_train[\"NAME_EDUCATION_TYPE\"].value_counts()\n",
    "item_counts"
   ]
  },
  {
   "cell_type": "code",
   "execution_count": 52,
   "metadata": {},
   "outputs": [],
   "source": [
    "#get avg salary for every occupation\n",
    "\n",
    "def get_sal(df , col , item_counts):\n",
    "    avg = []\n",
    "    for c in item_counts.index:\n",
    "        a = df[(df[col] == c)]['AMT_ANNUITY'].mean()\n",
    "        avg.append(a)\n",
    "    return avg"
   ]
  },
  {
   "cell_type": "code",
   "execution_count": 53,
   "metadata": {},
   "outputs": [],
   "source": [
    "# OCCUPATION_TYPE            \n",
    "\n",
    "item_counts = data_train[\"OCCUPATION_TYPE\"].value_counts()\n",
    "item_counts\n",
    "\n",
    "dtable= pd.DataFrame(data=item_counts)\n",
    "\n",
    "avrg = get_sal(data_train , 'OCCUPATION_TYPE' ,item_counts )\n",
    "    \n",
    "dtable['AVERAGE INCOME'] = avrg"
   ]
  },
  {
   "cell_type": "code",
   "execution_count": 54,
   "metadata": {},
   "outputs": [
    {
     "data": {
      "text/html": [
       "<div>\n",
       "<style scoped>\n",
       "    .dataframe tbody tr th:only-of-type {\n",
       "        vertical-align: middle;\n",
       "    }\n",
       "\n",
       "    .dataframe tbody tr th {\n",
       "        vertical-align: top;\n",
       "    }\n",
       "\n",
       "    .dataframe thead th {\n",
       "        text-align: right;\n",
       "    }\n",
       "</style>\n",
       "<table border=\"1\" class=\"dataframe\">\n",
       "  <thead>\n",
       "    <tr style=\"text-align: right;\">\n",
       "      <th></th>\n",
       "      <th>OCCUPATION_TYPE</th>\n",
       "      <th>AVERAGE INCOME</th>\n",
       "    </tr>\n",
       "  </thead>\n",
       "  <tbody>\n",
       "    <tr>\n",
       "      <th>Cleaning staff</th>\n",
       "      <td>4653</td>\n",
       "      <td>22901.733075</td>\n",
       "    </tr>\n",
       "    <tr>\n",
       "      <th>Low-skill Laborers</th>\n",
       "      <td>2093</td>\n",
       "      <td>23235.564023</td>\n",
       "    </tr>\n",
       "    <tr>\n",
       "      <th>Waiters/barmen staff</th>\n",
       "      <td>1348</td>\n",
       "      <td>24256.729228</td>\n",
       "    </tr>\n",
       "    <tr>\n",
       "      <th>Security staff</th>\n",
       "      <td>6721</td>\n",
       "      <td>25065.525000</td>\n",
       "    </tr>\n",
       "    <tr>\n",
       "      <th>Cooking staff</th>\n",
       "      <td>5946</td>\n",
       "      <td>25082.813793</td>\n",
       "    </tr>\n",
       "    <tr>\n",
       "      <th>Medicine staff</th>\n",
       "      <td>8537</td>\n",
       "      <td>25872.590265</td>\n",
       "    </tr>\n",
       "    <tr>\n",
       "      <th>Sales staff</th>\n",
       "      <td>32102</td>\n",
       "      <td>26130.588533</td>\n",
       "    </tr>\n",
       "    <tr>\n",
       "      <th>Laborers</th>\n",
       "      <td>55186</td>\n",
       "      <td>26441.027001</td>\n",
       "    </tr>\n",
       "    <tr>\n",
       "      <th>Secretaries</th>\n",
       "      <td>1305</td>\n",
       "      <td>26853.325537</td>\n",
       "    </tr>\n",
       "    <tr>\n",
       "      <th>Core staff</th>\n",
       "      <td>27570</td>\n",
       "      <td>27557.864032</td>\n",
       "    </tr>\n",
       "    <tr>\n",
       "      <th>High skill tech staff</th>\n",
       "      <td>11380</td>\n",
       "      <td>28649.270762</td>\n",
       "    </tr>\n",
       "    <tr>\n",
       "      <th>IT staff</th>\n",
       "      <td>526</td>\n",
       "      <td>29021.004753</td>\n",
       "    </tr>\n",
       "    <tr>\n",
       "      <th>Drivers</th>\n",
       "      <td>18603</td>\n",
       "      <td>29071.181970</td>\n",
       "    </tr>\n",
       "    <tr>\n",
       "      <th>Private service staff</th>\n",
       "      <td>2652</td>\n",
       "      <td>29261.735294</td>\n",
       "    </tr>\n",
       "    <tr>\n",
       "      <th>HR staff</th>\n",
       "      <td>563</td>\n",
       "      <td>30227.563055</td>\n",
       "    </tr>\n",
       "    <tr>\n",
       "      <th>Realty agents</th>\n",
       "      <td>751</td>\n",
       "      <td>30228.651132</td>\n",
       "    </tr>\n",
       "    <tr>\n",
       "      <th>Accountants</th>\n",
       "      <td>9813</td>\n",
       "      <td>30983.107216</td>\n",
       "    </tr>\n",
       "    <tr>\n",
       "      <th>Managers</th>\n",
       "      <td>21371</td>\n",
       "      <td>34861.673093</td>\n",
       "    </tr>\n",
       "  </tbody>\n",
       "</table>\n",
       "</div>"
      ],
      "text/plain": [
       "                       OCCUPATION_TYPE  AVERAGE INCOME\n",
       "Cleaning staff                    4653    22901.733075\n",
       "Low-skill Laborers                2093    23235.564023\n",
       "Waiters/barmen staff              1348    24256.729228\n",
       "Security staff                    6721    25065.525000\n",
       "Cooking staff                     5946    25082.813793\n",
       "Medicine staff                    8537    25872.590265\n",
       "Sales staff                      32102    26130.588533\n",
       "Laborers                         55186    26441.027001\n",
       "Secretaries                       1305    26853.325537\n",
       "Core staff                       27570    27557.864032\n",
       "High skill tech staff            11380    28649.270762\n",
       "IT staff                           526    29021.004753\n",
       "Drivers                          18603    29071.181970\n",
       "Private service staff             2652    29261.735294\n",
       "HR staff                           563    30227.563055\n",
       "Realty agents                      751    30228.651132\n",
       "Accountants                       9813    30983.107216\n",
       "Managers                         21371    34861.673093"
      ]
     },
     "execution_count": 54,
     "metadata": {},
     "output_type": "execute_result"
    }
   ],
   "source": [
    "dtable = dtable.sort_values(by=['AVERAGE INCOME'])\n",
    "dtable"
   ]
  },
  {
   "cell_type": "code",
   "execution_count": 55,
   "metadata": {},
   "outputs": [
    {
     "data": {
      "text/plain": [
       "Index(['Cleaning staff', 'Low-skill Laborers', 'Waiters/barmen staff',\n",
       "       'Security staff', 'Cooking staff', 'Medicine staff', 'Sales staff',\n",
       "       'Laborers', 'Secretaries', 'Core staff', 'High skill tech staff',\n",
       "       'IT staff', 'Drivers', 'Private service staff', 'HR staff',\n",
       "       'Realty agents', 'Accountants', 'Managers'],\n",
       "      dtype='object')"
      ]
     },
     "execution_count": 55,
     "metadata": {},
     "output_type": "execute_result"
    }
   ],
   "source": [
    "dtable.index"
   ]
  },
  {
   "cell_type": "code",
   "execution_count": 56,
   "metadata": {},
   "outputs": [],
   "source": [
    "def get_flag(dtable):\n",
    "    flags = {0:0 ,}\n",
    "    for data in dtable.index:\n",
    "        newdata = dtable.loc[data ,'AVERAGE INCOME']\n",
    "        if(newdata < 25000):\n",
    "            flags[data] = (1)\n",
    "        elif((newdata > 25000) & (newdata <27000)):\n",
    "            flags[data] = (2)\n",
    "        elif((newdata > 27000) & (newdata < 30000)):\n",
    "            flags[data] = (3)\n",
    "        else:\n",
    "            flags[data] = (4)\n",
    "    return flags   "
   ]
  },
  {
   "cell_type": "code",
   "execution_count": 57,
   "metadata": {},
   "outputs": [],
   "source": [
    "job_flags = get_flag(dtable)"
   ]
  },
  {
   "cell_type": "code",
   "execution_count": 58,
   "metadata": {},
   "outputs": [],
   "source": [
    "#fill all nan with 0\n",
    "data_train['OCCUPATION_TYPE'] = data_train['OCCUPATION_TYPE'].fillna(0)\n",
    "data_test['OCCUPATION_TYPE'] = data_test['OCCUPATION_TYPE'].fillna(0)\n",
    "\n",
    "\n",
    "#ordinal encoding\n",
    "data_train.OCCUPATION_TYPE = [job_flags[item] for item in data_train.OCCUPATION_TYPE]\n",
    "data_test.OCCUPATION_TYPE = [job_flags[item] for item in data_test.OCCUPATION_TYPE]"
   ]
  },
  {
   "cell_type": "code",
   "execution_count": 59,
   "metadata": {},
   "outputs": [
    {
     "data": {
      "text/html": [
       "<div>\n",
       "<style scoped>\n",
       "    .dataframe tbody tr th:only-of-type {\n",
       "        vertical-align: middle;\n",
       "    }\n",
       "\n",
       "    .dataframe tbody tr th {\n",
       "        vertical-align: top;\n",
       "    }\n",
       "\n",
       "    .dataframe thead th {\n",
       "        text-align: right;\n",
       "    }\n",
       "</style>\n",
       "<table border=\"1\" class=\"dataframe\">\n",
       "  <thead>\n",
       "    <tr style=\"text-align: right;\">\n",
       "      <th></th>\n",
       "      <th>TARGET</th>\n",
       "      <th>OCCUPATION_TYPE</th>\n",
       "      <th>NAME_INCOME_TYPE</th>\n",
       "      <th>NAME_EDUCATION_TYPE</th>\n",
       "    </tr>\n",
       "  </thead>\n",
       "  <tbody>\n",
       "    <tr>\n",
       "      <th>TARGET</th>\n",
       "      <td>1.000000</td>\n",
       "      <td>0.009693</td>\n",
       "      <td>0.000702</td>\n",
       "      <td>-0.032434</td>\n",
       "    </tr>\n",
       "    <tr>\n",
       "      <th>OCCUPATION_TYPE</th>\n",
       "      <td>0.009693</td>\n",
       "      <td>1.000000</td>\n",
       "      <td>0.460528</td>\n",
       "      <td>0.125433</td>\n",
       "    </tr>\n",
       "    <tr>\n",
       "      <th>NAME_INCOME_TYPE</th>\n",
       "      <td>0.000702</td>\n",
       "      <td>0.460528</td>\n",
       "      <td>1.000000</td>\n",
       "      <td>0.125633</td>\n",
       "    </tr>\n",
       "    <tr>\n",
       "      <th>NAME_EDUCATION_TYPE</th>\n",
       "      <td>-0.032434</td>\n",
       "      <td>0.125433</td>\n",
       "      <td>0.125633</td>\n",
       "      <td>1.000000</td>\n",
       "    </tr>\n",
       "  </tbody>\n",
       "</table>\n",
       "</div>"
      ],
      "text/plain": [
       "                       TARGET  OCCUPATION_TYPE  NAME_INCOME_TYPE  \\\n",
       "TARGET               1.000000         0.009693          0.000702   \n",
       "OCCUPATION_TYPE      0.009693         1.000000          0.460528   \n",
       "NAME_INCOME_TYPE     0.000702         0.460528          1.000000   \n",
       "NAME_EDUCATION_TYPE -0.032434         0.125433          0.125633   \n",
       "\n",
       "                     NAME_EDUCATION_TYPE  \n",
       "TARGET                         -0.032434  \n",
       "OCCUPATION_TYPE                 0.125433  \n",
       "NAME_INCOME_TYPE                0.125633  \n",
       "NAME_EDUCATION_TYPE             1.000000  "
      ]
     },
     "execution_count": 59,
     "metadata": {},
     "output_type": "execute_result"
    }
   ],
   "source": [
    "# Corelation  between occupation type, Education and NAME_INCOME_TYPE\n",
    "\n",
    "test_data = data_train[['TARGET' , 'OCCUPATION_TYPE' , 'NAME_INCOME_TYPE', 'NAME_EDUCATION_TYPE']]\n",
    "\n",
    "tst_crr = test_data.corr()\n",
    "\n",
    "tst_crr\n"
   ]
  },
  {
   "cell_type": "code",
   "execution_count": 60,
   "metadata": {},
   "outputs": [
    {
     "data": {
      "text/plain": [
       "Text(0.5, 1, 'Corelation heatmap')"
      ]
     },
     "execution_count": 60,
     "metadata": {},
     "output_type": "execute_result"
    },
    {
     "data": {
      "image/png": "[encoded data removed]",
      "text/plain": [
       "<Figure size 432x288 with 2 Axes>"
      ]
     },
     "metadata": {
      "needs_background": "light"
     },
     "output_type": "display_data"
    }
   ],
   "source": [
    "sns.heatmap(tst_crr , cmap = plt.cm.RdYlBu_r , annot=True)\n",
    "plt.title(\"Corelation heatmap\")"
   ]
  },
  {
   "cell_type": "code",
   "execution_count": 61,
   "metadata": {},
   "outputs": [
    {
     "data": {
      "text/html": [
       "<div>\n",
       "<style scoped>\n",
       "    .dataframe tbody tr th:only-of-type {\n",
       "        vertical-align: middle;\n",
       "    }\n",
       "\n",
       "    .dataframe tbody tr th {\n",
       "        vertical-align: top;\n",
       "    }\n",
       "\n",
       "    .dataframe thead th {\n",
       "        text-align: right;\n",
       "    }\n",
       "</style>\n",
       "<table border=\"1\" class=\"dataframe\">\n",
       "  <thead>\n",
       "    <tr style=\"text-align: right;\">\n",
       "      <th></th>\n",
       "      <th>ORGANIZATION_TYPE</th>\n",
       "      <th>AVERAGE INCOME</th>\n",
       "    </tr>\n",
       "  </thead>\n",
       "  <tbody>\n",
       "    <tr>\n",
       "      <th>Postal</th>\n",
       "      <td>2157</td>\n",
       "      <td>23799.675939</td>\n",
       "    </tr>\n",
       "    <tr>\n",
       "      <th>XNA</th>\n",
       "      <td>55374</td>\n",
       "      <td>23904.303202</td>\n",
       "    </tr>\n",
       "    <tr>\n",
       "      <th>Mobile</th>\n",
       "      <td>317</td>\n",
       "      <td>25033.996845</td>\n",
       "    </tr>\n",
       "    <tr>\n",
       "      <th>Agriculture</th>\n",
       "      <td>2454</td>\n",
       "      <td>25036.301956</td>\n",
       "    </tr>\n",
       "    <tr>\n",
       "      <th>Industry: type 3</th>\n",
       "      <td>3278</td>\n",
       "      <td>25076.174497</td>\n",
       "    </tr>\n",
       "    <tr>\n",
       "      <th>Kindergarten</th>\n",
       "      <td>6880</td>\n",
       "      <td>25142.358140</td>\n",
       "    </tr>\n",
       "    <tr>\n",
       "      <th>Trade: type 2</th>\n",
       "      <td>1900</td>\n",
       "      <td>25265.856316</td>\n",
       "    </tr>\n",
       "    <tr>\n",
       "      <th>Cleaning</th>\n",
       "      <td>260</td>\n",
       "      <td>25670.215385</td>\n",
       "    </tr>\n",
       "    <tr>\n",
       "      <th>Trade: type 3</th>\n",
       "      <td>3492</td>\n",
       "      <td>25836.738402</td>\n",
       "    </tr>\n",
       "    <tr>\n",
       "      <th>Emergency</th>\n",
       "      <td>560</td>\n",
       "      <td>25955.027679</td>\n",
       "    </tr>\n",
       "    <tr>\n",
       "      <th>Industry: type 6</th>\n",
       "      <td>112</td>\n",
       "      <td>26018.116071</td>\n",
       "    </tr>\n",
       "    <tr>\n",
       "      <th>Restaurant</th>\n",
       "      <td>1811</td>\n",
       "      <td>26247.578134</td>\n",
       "    </tr>\n",
       "    <tr>\n",
       "      <th>Industry: type 13</th>\n",
       "      <td>67</td>\n",
       "      <td>26339.977612</td>\n",
       "    </tr>\n",
       "    <tr>\n",
       "      <th>Security</th>\n",
       "      <td>3247</td>\n",
       "      <td>26422.925601</td>\n",
       "    </tr>\n",
       "    <tr>\n",
       "      <th>Trade: type 1</th>\n",
       "      <td>348</td>\n",
       "      <td>26483.133621</td>\n",
       "    </tr>\n",
       "    <tr>\n",
       "      <th>School</th>\n",
       "      <td>8893</td>\n",
       "      <td>26498.445575</td>\n",
       "    </tr>\n",
       "    <tr>\n",
       "      <th>Industry: type 11</th>\n",
       "      <td>2704</td>\n",
       "      <td>26506.838942</td>\n",
       "    </tr>\n",
       "    <tr>\n",
       "      <th>Medicine</th>\n",
       "      <td>11193</td>\n",
       "      <td>26507.049768</td>\n",
       "    </tr>\n",
       "    <tr>\n",
       "      <th>Religion</th>\n",
       "      <td>85</td>\n",
       "      <td>26575.623529</td>\n",
       "    </tr>\n",
       "    <tr>\n",
       "      <th>Business Entity Type 2</th>\n",
       "      <td>10553</td>\n",
       "      <td>26682.599261</td>\n",
       "    </tr>\n",
       "    <tr>\n",
       "      <th>Government</th>\n",
       "      <td>10404</td>\n",
       "      <td>26749.601798</td>\n",
       "    </tr>\n",
       "    <tr>\n",
       "      <th>Transport: type 3</th>\n",
       "      <td>1187</td>\n",
       "      <td>26763.243892</td>\n",
       "    </tr>\n",
       "    <tr>\n",
       "      <th>Electricity</th>\n",
       "      <td>950</td>\n",
       "      <td>26816.518421</td>\n",
       "    </tr>\n",
       "    <tr>\n",
       "      <th>Industry: type 7</th>\n",
       "      <td>1307</td>\n",
       "      <td>26863.402448</td>\n",
       "    </tr>\n",
       "    <tr>\n",
       "      <th>Bank</th>\n",
       "      <td>2507</td>\n",
       "      <td>26909.323295</td>\n",
       "    </tr>\n",
       "    <tr>\n",
       "      <th>Housing</th>\n",
       "      <td>2958</td>\n",
       "      <td>26963.510142</td>\n",
       "    </tr>\n",
       "    <tr>\n",
       "      <th>Hotel</th>\n",
       "      <td>966</td>\n",
       "      <td>26978.431677</td>\n",
       "    </tr>\n",
       "    <tr>\n",
       "      <th>Industry: type 2</th>\n",
       "      <td>458</td>\n",
       "      <td>26980.172489</td>\n",
       "    </tr>\n",
       "    <tr>\n",
       "      <th>Industry: type 1</th>\n",
       "      <td>1039</td>\n",
       "      <td>27236.914822</td>\n",
       "    </tr>\n",
       "    <tr>\n",
       "      <th>Transport: type 2</th>\n",
       "      <td>2204</td>\n",
       "      <td>27299.854356</td>\n",
       "    </tr>\n",
       "    <tr>\n",
       "      <th>Trade: type 4</th>\n",
       "      <td>64</td>\n",
       "      <td>27449.085938</td>\n",
       "    </tr>\n",
       "    <tr>\n",
       "      <th>Industry: type 5</th>\n",
       "      <td>599</td>\n",
       "      <td>27456.310518</td>\n",
       "    </tr>\n",
       "    <tr>\n",
       "      <th>Other</th>\n",
       "      <td>16683</td>\n",
       "      <td>27676.065044</td>\n",
       "    </tr>\n",
       "    <tr>\n",
       "      <th>Self-employed</th>\n",
       "      <td>38412</td>\n",
       "      <td>27807.587558</td>\n",
       "    </tr>\n",
       "    <tr>\n",
       "      <th>Telecom</th>\n",
       "      <td>577</td>\n",
       "      <td>27841.679376</td>\n",
       "    </tr>\n",
       "    <tr>\n",
       "      <th>Business Entity Type 1</th>\n",
       "      <td>5984</td>\n",
       "      <td>27969.454036</td>\n",
       "    </tr>\n",
       "    <tr>\n",
       "      <th>Trade: type 7</th>\n",
       "      <td>7831</td>\n",
       "      <td>28072.379134</td>\n",
       "    </tr>\n",
       "    <tr>\n",
       "      <th>Industry: type 4</th>\n",
       "      <td>877</td>\n",
       "      <td>28184.870011</td>\n",
       "    </tr>\n",
       "    <tr>\n",
       "      <th>Culture</th>\n",
       "      <td>379</td>\n",
       "      <td>28315.591029</td>\n",
       "    </tr>\n",
       "    <tr>\n",
       "      <th>Industry: type 9</th>\n",
       "      <td>3368</td>\n",
       "      <td>28551.078385</td>\n",
       "    </tr>\n",
       "    <tr>\n",
       "      <th>Trade: type 5</th>\n",
       "      <td>49</td>\n",
       "      <td>28682.724490</td>\n",
       "    </tr>\n",
       "    <tr>\n",
       "      <th>Insurance</th>\n",
       "      <td>597</td>\n",
       "      <td>28683.535176</td>\n",
       "    </tr>\n",
       "    <tr>\n",
       "      <th>Transport: type 1</th>\n",
       "      <td>201</td>\n",
       "      <td>28820.529851</td>\n",
       "    </tr>\n",
       "    <tr>\n",
       "      <th>Business Entity Type 3</th>\n",
       "      <td>67992</td>\n",
       "      <td>28849.429114</td>\n",
       "    </tr>\n",
       "    <tr>\n",
       "      <th>Trade: type 6</th>\n",
       "      <td>631</td>\n",
       "      <td>29218.093502</td>\n",
       "    </tr>\n",
       "    <tr>\n",
       "      <th>Industry: type 12</th>\n",
       "      <td>369</td>\n",
       "      <td>29259.109756</td>\n",
       "    </tr>\n",
       "    <tr>\n",
       "      <th>Advertising</th>\n",
       "      <td>429</td>\n",
       "      <td>29325.881119</td>\n",
       "    </tr>\n",
       "    <tr>\n",
       "      <th>Security Ministries</th>\n",
       "      <td>1974</td>\n",
       "      <td>29414.988602</td>\n",
       "    </tr>\n",
       "    <tr>\n",
       "      <th>Transport: type 4</th>\n",
       "      <td>5398</td>\n",
       "      <td>29431.282142</td>\n",
       "    </tr>\n",
       "    <tr>\n",
       "      <th>Services</th>\n",
       "      <td>1575</td>\n",
       "      <td>29859.220000</td>\n",
       "    </tr>\n",
       "    <tr>\n",
       "      <th>Industry: type 8</th>\n",
       "      <td>24</td>\n",
       "      <td>29865.187500</td>\n",
       "    </tr>\n",
       "    <tr>\n",
       "      <th>Construction</th>\n",
       "      <td>6721</td>\n",
       "      <td>30051.611293</td>\n",
       "    </tr>\n",
       "    <tr>\n",
       "      <th>Industry: type 10</th>\n",
       "      <td>109</td>\n",
       "      <td>30086.834862</td>\n",
       "    </tr>\n",
       "    <tr>\n",
       "      <th>Police</th>\n",
       "      <td>2341</td>\n",
       "      <td>30206.708458</td>\n",
       "    </tr>\n",
       "    <tr>\n",
       "      <th>University</th>\n",
       "      <td>1327</td>\n",
       "      <td>30476.448380</td>\n",
       "    </tr>\n",
       "    <tr>\n",
       "      <th>Military</th>\n",
       "      <td>2634</td>\n",
       "      <td>31327.532460</td>\n",
       "    </tr>\n",
       "    <tr>\n",
       "      <th>Realtor</th>\n",
       "      <td>396</td>\n",
       "      <td>32726.886364</td>\n",
       "    </tr>\n",
       "    <tr>\n",
       "      <th>Legal Services</th>\n",
       "      <td>305</td>\n",
       "      <td>33313.293443</td>\n",
       "    </tr>\n",
       "  </tbody>\n",
       "</table>\n",
       "</div>"
      ],
      "text/plain": [
       "                        ORGANIZATION_TYPE  AVERAGE INCOME\n",
       "Postal                               2157    23799.675939\n",
       "XNA                                 55374    23904.303202\n",
       "Mobile                                317    25033.996845\n",
       "Agriculture                          2454    25036.301956\n",
       "Industry: type 3                     3278    25076.174497\n",
       "Kindergarten                         6880    25142.358140\n",
       "Trade: type 2                        1900    25265.856316\n",
       "Cleaning                              260    25670.215385\n",
       "Trade: type 3                        3492    25836.738402\n",
       "Emergency                             560    25955.027679\n",
       "Industry: type 6                      112    26018.116071\n",
       "Restaurant                           1811    26247.578134\n",
       "Industry: type 13                      67    26339.977612\n",
       "Security                             3247    26422.925601\n",
       "Trade: type 1                         348    26483.133621\n",
       "School                               8893    26498.445575\n",
       "Industry: type 11                    2704    26506.838942\n",
       "Medicine                            11193    26507.049768\n",
       "Religion                               85    26575.623529\n",
       "Business Entity Type 2              10553    26682.599261\n",
       "Government                          10404    26749.601798\n",
       "Transport: type 3                    1187    26763.243892\n",
       "Electricity                           950    26816.518421\n",
       "Industry: type 7                     1307    26863.402448\n",
       "Bank                                 2507    26909.323295\n",
       "Housing                              2958    26963.510142\n",
       "Hotel                                 966    26978.431677\n",
       "Industry: type 2                      458    26980.172489\n",
       "Industry: type 1                     1039    27236.914822\n",
       "Transport: type 2                    2204    27299.854356\n",
       "Trade: type 4                          64    27449.085938\n",
       "Industry: type 5                      599    27456.310518\n",
       "Other                               16683    27676.065044\n",
       "Self-employed                       38412    27807.587558\n",
       "Telecom                               577    27841.679376\n",
       "Business Entity Type 1               5984    27969.454036\n",
       "Trade: type 7                        7831    28072.379134\n",
       "Industry: type 4                      877    28184.870011\n",
       "Culture                               379    28315.591029\n",
       "Industry: type 9                     3368    28551.078385\n",
       "Trade: type 5                          49    28682.724490\n",
       "Insurance                             597    28683.535176\n",
       "Transport: type 1                     201    28820.529851\n",
       "Business Entity Type 3              67992    28849.429114\n",
       "Trade: type 6                         631    29218.093502\n",
       "Industry: type 12                     369    29259.109756\n",
       "Advertising                           429    29325.881119\n",
       "Security Ministries                  1974    29414.988602\n",
       "Transport: type 4                    5398    29431.282142\n",
       "Services                             1575    29859.220000\n",
       "Industry: type 8                       24    29865.187500\n",
       "Construction                         6721    30051.611293\n",
       "Industry: type 10                     109    30086.834862\n",
       "Police                               2341    30206.708458\n",
       "University                           1327    30476.448380\n",
       "Military                             2634    31327.532460\n",
       "Realtor                               396    32726.886364\n",
       "Legal Services                        305    33313.293443"
      ]
     },
     "execution_count": 61,
     "metadata": {},
     "output_type": "execute_result"
    }
   ],
   "source": [
    "# ORGANIZATION_TYPE            \n",
    "\n",
    "item_counts = data_train[\"ORGANIZATION_TYPE\"].value_counts()\n",
    "item_counts\n",
    "\n",
    "dtable= pd.DataFrame(data=item_counts)\n",
    "\n",
    "avrg = get_sal(data_train , 'ORGANIZATION_TYPE' ,item_counts )\n",
    "    \n",
    "dtable['AVERAGE INCOME'] = avrg\n",
    "\n",
    "dtable = dtable.sort_values(by=['AVERAGE INCOME'])\n",
    "dtable"
   ]
  },
  {
   "cell_type": "code",
   "execution_count": 62,
   "metadata": {},
   "outputs": [
    {
     "data": {
      "text/plain": [
       "0"
      ]
     },
     "execution_count": 62,
     "metadata": {},
     "output_type": "execute_result"
    }
   ],
   "source": [
    "data_train[\"ORGANIZATION_TYPE\"].isnull().sum()"
   ]
  },
  {
   "cell_type": "code",
   "execution_count": 63,
   "metadata": {},
   "outputs": [],
   "source": [
    "job_flags = get_flag(dtable)\n",
    "#ordinal encoding\n",
    "data_train.ORGANIZATION_TYPE = [job_flags[item] for item in data_train.ORGANIZATION_TYPE]\n",
    "\n",
    "data_test.ORGANIZATION_TYPE = [job_flags[item] for item in data_test.ORGANIZATION_TYPE]"
   ]
  },
  {
   "cell_type": "code",
   "execution_count": 64,
   "metadata": {},
   "outputs": [
    {
     "data": {
      "text/html": [
       "<div>\n",
       "<style scoped>\n",
       "    .dataframe tbody tr th:only-of-type {\n",
       "        vertical-align: middle;\n",
       "    }\n",
       "\n",
       "    .dataframe tbody tr th {\n",
       "        vertical-align: top;\n",
       "    }\n",
       "\n",
       "    .dataframe thead th {\n",
       "        text-align: right;\n",
       "    }\n",
       "</style>\n",
       "<table border=\"1\" class=\"dataframe\">\n",
       "  <thead>\n",
       "    <tr style=\"text-align: right;\">\n",
       "      <th></th>\n",
       "      <th>TARGET</th>\n",
       "      <th>ORGANIZATION_TYPE</th>\n",
       "      <th>OCCUPATION_TYPE</th>\n",
       "      <th>NAME_INCOME_TYPE</th>\n",
       "      <th>NAME_EDUCATION_TYPE</th>\n",
       "    </tr>\n",
       "  </thead>\n",
       "  <tbody>\n",
       "    <tr>\n",
       "      <th>TARGET</th>\n",
       "      <td>1.000000</td>\n",
       "      <td>0.044924</td>\n",
       "      <td>0.009693</td>\n",
       "      <td>0.000702</td>\n",
       "      <td>-0.032434</td>\n",
       "    </tr>\n",
       "    <tr>\n",
       "      <th>ORGANIZATION_TYPE</th>\n",
       "      <td>0.044924</td>\n",
       "      <td>1.000000</td>\n",
       "      <td>0.465108</td>\n",
       "      <td>0.528189</td>\n",
       "      <td>0.072693</td>\n",
       "    </tr>\n",
       "    <tr>\n",
       "      <th>OCCUPATION_TYPE</th>\n",
       "      <td>0.009693</td>\n",
       "      <td>0.465108</td>\n",
       "      <td>1.000000</td>\n",
       "      <td>0.460528</td>\n",
       "      <td>0.125433</td>\n",
       "    </tr>\n",
       "    <tr>\n",
       "      <th>NAME_INCOME_TYPE</th>\n",
       "      <td>0.000702</td>\n",
       "      <td>0.528189</td>\n",
       "      <td>0.460528</td>\n",
       "      <td>1.000000</td>\n",
       "      <td>0.125633</td>\n",
       "    </tr>\n",
       "    <tr>\n",
       "      <th>NAME_EDUCATION_TYPE</th>\n",
       "      <td>-0.032434</td>\n",
       "      <td>0.072693</td>\n",
       "      <td>0.125433</td>\n",
       "      <td>0.125633</td>\n",
       "      <td>1.000000</td>\n",
       "    </tr>\n",
       "  </tbody>\n",
       "</table>\n",
       "</div>"
      ],
      "text/plain": [
       "                       TARGET  ORGANIZATION_TYPE  OCCUPATION_TYPE  \\\n",
       "TARGET               1.000000           0.044924         0.009693   \n",
       "ORGANIZATION_TYPE    0.044924           1.000000         0.465108   \n",
       "OCCUPATION_TYPE      0.009693           0.465108         1.000000   \n",
       "NAME_INCOME_TYPE     0.000702           0.528189         0.460528   \n",
       "NAME_EDUCATION_TYPE -0.032434           0.072693         0.125433   \n",
       "\n",
       "                     NAME_INCOME_TYPE  NAME_EDUCATION_TYPE  \n",
       "TARGET                       0.000702            -0.032434  \n",
       "ORGANIZATION_TYPE            0.528189             0.072693  \n",
       "OCCUPATION_TYPE              0.460528             0.125433  \n",
       "NAME_INCOME_TYPE             1.000000             0.125633  \n",
       "NAME_EDUCATION_TYPE          0.125633             1.000000  "
      ]
     },
     "execution_count": 64,
     "metadata": {},
     "output_type": "execute_result"
    }
   ],
   "source": [
    "# Corelation  between occupation type, Education and NAME_INCOME_TYPE\n",
    "\n",
    "test_data = data_train[['TARGET' , 'ORGANIZATION_TYPE' ,'OCCUPATION_TYPE' , 'NAME_INCOME_TYPE', 'NAME_EDUCATION_TYPE']]\n",
    "\n",
    "tst_crr = test_data.corr()\n",
    "\n",
    "tst_crr\n"
   ]
  },
  {
   "cell_type": "code",
   "execution_count": 65,
   "metadata": {},
   "outputs": [
    {
     "data": {
      "text/plain": [
       "Text(0.5, 1, 'Corelation heatmap')"
      ]
     },
     "execution_count": 65,
     "metadata": {},
     "output_type": "execute_result"
    },
    {
     "data": {
      "image/png": "[encoded data removed]",
      "text/plain": [
       "<Figure size 432x288 with 2 Axes>"
      ]
     },
     "metadata": {
      "needs_background": "light"
     },
     "output_type": "display_data"
    }
   ],
   "source": [
    "sns.heatmap(tst_crr , cmap = plt.cm.RdYlBu_r , annot=True)\n",
    "plt.title(\"Corelation heatmap\")"
   ]
  },
  {
   "cell_type": "code",
   "execution_count": 66,
   "metadata": {},
   "outputs": [
    {
     "data": {
      "text/plain": [
       "0                   154297\n",
       "block of flats      150503\n",
       "specific housing      1499\n",
       "terraced house        1212\n",
       "Name: HOUSETYPE_MODE, dtype: int64"
      ]
     },
     "execution_count": 66,
     "metadata": {},
     "output_type": "execute_result"
    }
   ],
   "source": [
    "item_counts = data_train[\"HOUSETYPE_MODE\"].value_counts()\n",
    "item_counts"
   ]
  },
  {
   "cell_type": "code",
   "execution_count": 67,
   "metadata": {},
   "outputs": [],
   "source": [
    "def get_count(df , col):\n",
    "    one_count = []\n",
    "    zero_count = []\n",
    "    \n",
    "    for c in (df.index):\n",
    "        a = data_train[(data_train[col] == c)]['TARGET'].value_counts()\n",
    "        \n",
    "#         if loop vitra if elif lagauda  kamm gareko xaina\n",
    "        \n",
    "        if(len(a.index) == 2):\n",
    "            if(a.index[0] == 0):\n",
    "                zero_count.append(a[0])\n",
    "            if(a.index[0] == 1):\n",
    "                one_count.append(a[0])\n",
    "            if(a.index[1] == 0):\n",
    "                zero_count.append(a[1])\n",
    "            if(a.index[1] == 1):\n",
    "                one_count.append(a[1])\n",
    "        \n",
    "        else:\n",
    "            if(a.index[0] == 0):\n",
    "                zero_count.append(a[0])\n",
    "            else:\n",
    "                zero_count.append(0)\n",
    "            if(a.index[0] == 1):\n",
    "                one_count.append(a[0])\n",
    "            else:\n",
    "                one_count.append(0)\n",
    "            \n",
    "#     print(one_count , zero_count)\n",
    "            \n",
    "        \n",
    "#         one_count.append(a[1])\n",
    "#         zero_count.append(a[0])\n",
    "    \n",
    "    df['one_count'] = one_count\n",
    "    df['zero_count'] = zero_count"
   ]
  },
  {
   "cell_type": "code",
   "execution_count": 68,
   "metadata": {},
   "outputs": [
    {
     "data": {
      "text/html": [
       "<div>\n",
       "<style scoped>\n",
       "    .dataframe tbody tr th:only-of-type {\n",
       "        vertical-align: middle;\n",
       "    }\n",
       "\n",
       "    .dataframe tbody tr th {\n",
       "        vertical-align: top;\n",
       "    }\n",
       "\n",
       "    .dataframe thead th {\n",
       "        text-align: right;\n",
       "    }\n",
       "</style>\n",
       "<table border=\"1\" class=\"dataframe\">\n",
       "  <thead>\n",
       "    <tr style=\"text-align: right;\">\n",
       "      <th></th>\n",
       "      <th>HOUSETYPE_MODE</th>\n",
       "      <th>AVERAGE INCOME</th>\n",
       "      <th>one_count</th>\n",
       "      <th>zero_count</th>\n",
       "    </tr>\n",
       "  </thead>\n",
       "  <tbody>\n",
       "    <tr>\n",
       "      <th>0</th>\n",
       "      <td>154297</td>\n",
       "      <td>26150.155207</td>\n",
       "      <td>14120</td>\n",
       "      <td>140177</td>\n",
       "    </tr>\n",
       "    <tr>\n",
       "      <th>block of flats</th>\n",
       "      <td>150503</td>\n",
       "      <td>28097.366668</td>\n",
       "      <td>10450</td>\n",
       "      <td>140053</td>\n",
       "    </tr>\n",
       "    <tr>\n",
       "      <th>specific housing</th>\n",
       "      <td>1499</td>\n",
       "      <td>26081.291528</td>\n",
       "      <td>152</td>\n",
       "      <td>1347</td>\n",
       "    </tr>\n",
       "    <tr>\n",
       "      <th>terraced house</th>\n",
       "      <td>1212</td>\n",
       "      <td>27607.693069</td>\n",
       "      <td>103</td>\n",
       "      <td>1109</td>\n",
       "    </tr>\n",
       "  </tbody>\n",
       "</table>\n",
       "</div>"
      ],
      "text/plain": [
       "                  HOUSETYPE_MODE  AVERAGE INCOME  one_count  zero_count\n",
       "0                         154297    26150.155207      14120      140177\n",
       "block of flats            150503    28097.366668      10450      140053\n",
       "specific housing            1499    26081.291528        152        1347\n",
       "terraced house              1212    27607.693069        103        1109"
      ]
     },
     "execution_count": 68,
     "metadata": {},
     "output_type": "execute_result"
    }
   ],
   "source": [
    "# HOUSETYPE_MODE            \n",
    "\n",
    "item_counts = data_train[\"HOUSETYPE_MODE\"].value_counts()\n",
    "item_counts\n",
    "\n",
    "dtable= pd.DataFrame(data=item_counts)\n",
    "\n",
    "avrg = get_sal(data_train , 'HOUSETYPE_MODE' ,item_counts )\n",
    "    \n",
    "dtable['AVERAGE INCOME'] = avrg\n",
    "\n",
    "get_count(dtable , 'HOUSETYPE_MODE')\n",
    "\n",
    "dtable"
   ]
  },
  {
   "cell_type": "code",
   "execution_count": 69,
   "metadata": {},
   "outputs": [
    {
     "data": {
      "text/plain": [
       "<matplotlib.axes._subplots.AxesSubplot at 0x17b009ce148>"
      ]
     },
     "execution_count": 69,
     "metadata": {},
     "output_type": "execute_result"
    },
    {
     "data": {
      "image/png": "[encoded data removed]",
      "text/plain": [
       "<Figure size 432x288 with 1 Axes>"
      ]
     },
     "metadata": {
      "needs_background": "light"
     },
     "output_type": "display_data"
    }
   ],
   "source": [
    "dtable.plot.bar(rot=True)"
   ]
  },
  {
   "cell_type": "code",
   "execution_count": 70,
   "metadata": {},
   "outputs": [],
   "source": [
    "#put 0 for 0 and block of flats and put specific housing and trraced house under 1\n",
    "\n",
    "newflags = {\n",
    "    'block of flats' : 0 ,\n",
    "    'specific housing' : 1,\n",
    "    'terraced house' : 1,\n",
    "    0: 0\n",
    "}\n",
    "\n",
    "data_train.HOUSETYPE_MODE = [newflags[item] for item in data_train.HOUSETYPE_MODE]\n",
    "data_test.HOUSETYPE_MODE = [newflags[item] for item in data_test.HOUSETYPE_MODE]"
   ]
  },
  {
   "cell_type": "code",
   "execution_count": 71,
   "metadata": {},
   "outputs": [
    {
     "data": {
      "text/html": [
       "<div>\n",
       "<style scoped>\n",
       "    .dataframe tbody tr th:only-of-type {\n",
       "        vertical-align: middle;\n",
       "    }\n",
       "\n",
       "    .dataframe tbody tr th {\n",
       "        vertical-align: top;\n",
       "    }\n",
       "\n",
       "    .dataframe thead th {\n",
       "        text-align: right;\n",
       "    }\n",
       "</style>\n",
       "<table border=\"1\" class=\"dataframe\">\n",
       "  <thead>\n",
       "    <tr style=\"text-align: right;\">\n",
       "      <th></th>\n",
       "      <th>NAME_FAMILY_STATUS</th>\n",
       "      <th>one_count</th>\n",
       "      <th>zero_count</th>\n",
       "      <th>paid_precentage</th>\n",
       "    </tr>\n",
       "  </thead>\n",
       "  <tbody>\n",
       "    <tr>\n",
       "      <th>Married</th>\n",
       "      <td>196432</td>\n",
       "      <td>14850</td>\n",
       "      <td>181582</td>\n",
       "      <td>7.559868</td>\n",
       "    </tr>\n",
       "    <tr>\n",
       "      <th>Single / not married</th>\n",
       "      <td>45444</td>\n",
       "      <td>4457</td>\n",
       "      <td>40987</td>\n",
       "      <td>9.807675</td>\n",
       "    </tr>\n",
       "    <tr>\n",
       "      <th>Civil marriage</th>\n",
       "      <td>29775</td>\n",
       "      <td>2961</td>\n",
       "      <td>26814</td>\n",
       "      <td>9.944584</td>\n",
       "    </tr>\n",
       "    <tr>\n",
       "      <th>Separated</th>\n",
       "      <td>19770</td>\n",
       "      <td>1620</td>\n",
       "      <td>18150</td>\n",
       "      <td>8.194234</td>\n",
       "    </tr>\n",
       "    <tr>\n",
       "      <th>Widow</th>\n",
       "      <td>16088</td>\n",
       "      <td>937</td>\n",
       "      <td>15151</td>\n",
       "      <td>5.824217</td>\n",
       "    </tr>\n",
       "    <tr>\n",
       "      <th>Unknown</th>\n",
       "      <td>2</td>\n",
       "      <td>0</td>\n",
       "      <td>2</td>\n",
       "      <td>0.000000</td>\n",
       "    </tr>\n",
       "  </tbody>\n",
       "</table>\n",
       "</div>"
      ],
      "text/plain": [
       "                      NAME_FAMILY_STATUS  one_count  zero_count  \\\n",
       "Married                           196432      14850      181582   \n",
       "Single / not married               45444       4457       40987   \n",
       "Civil marriage                     29775       2961       26814   \n",
       "Separated                          19770       1620       18150   \n",
       "Widow                              16088        937       15151   \n",
       "Unknown                                2          0           2   \n",
       "\n",
       "                      paid_precentage  \n",
       "Married                      7.559868  \n",
       "Single / not married         9.807675  \n",
       "Civil marriage               9.944584  \n",
       "Separated                    8.194234  \n",
       "Widow                        5.824217  \n",
       "Unknown                      0.000000  "
      ]
     },
     "execution_count": 71,
     "metadata": {},
     "output_type": "execute_result"
    }
   ],
   "source": [
    "# NAME_FAMILY_STATUS             \n",
    "\n",
    "item_counts = data_train[\"NAME_FAMILY_STATUS\"].value_counts()\n",
    "item_counts\n",
    "\n",
    "dtable= pd.DataFrame(data=item_counts)\n",
    "\n",
    "get_count(dtable , 'NAME_FAMILY_STATUS')\n",
    "\n",
    "dtable['paid_precentage'] = 100*dtable['one_count']/dtable['NAME_FAMILY_STATUS']\n",
    "\n",
    "dtable"
   ]
  },
  {
   "cell_type": "code",
   "execution_count": 72,
   "metadata": {},
   "outputs": [
    {
     "data": {
      "text/plain": [
       "<matplotlib.axes._subplots.AxesSubplot at 0x17b00a67a48>"
      ]
     },
     "execution_count": 72,
     "metadata": {},
     "output_type": "execute_result"
    },
    {
     "data": {
      "image/png": "[encoded data removed]",
      "text/plain": [
       "<Figure size 432x288 with 1 Axes>"
      ]
     },
     "metadata": {
      "needs_background": "light"
     },
     "output_type": "display_data"
    }
   ],
   "source": [
    "\n",
    "dtable.plot.barh(rot=True )"
   ]
  },
  {
   "cell_type": "code",
   "execution_count": 73,
   "metadata": {},
   "outputs": [
    {
     "data": {
      "text/html": [
       "<div>\n",
       "<style scoped>\n",
       "    .dataframe tbody tr th:only-of-type {\n",
       "        vertical-align: middle;\n",
       "    }\n",
       "\n",
       "    .dataframe tbody tr th {\n",
       "        vertical-align: top;\n",
       "    }\n",
       "\n",
       "    .dataframe thead th {\n",
       "        text-align: right;\n",
       "    }\n",
       "</style>\n",
       "<table border=\"1\" class=\"dataframe\">\n",
       "  <thead>\n",
       "    <tr style=\"text-align: right;\">\n",
       "      <th></th>\n",
       "      <th>NAME_FAMILY_STATUS</th>\n",
       "      <th>one_count</th>\n",
       "      <th>zero_count</th>\n",
       "      <th>paid_precentage</th>\n",
       "    </tr>\n",
       "  </thead>\n",
       "  <tbody>\n",
       "    <tr>\n",
       "      <th>Married</th>\n",
       "      <td>196432</td>\n",
       "      <td>14850</td>\n",
       "      <td>181582</td>\n",
       "      <td>7.559868</td>\n",
       "    </tr>\n",
       "    <tr>\n",
       "      <th>Single / not married</th>\n",
       "      <td>45444</td>\n",
       "      <td>4457</td>\n",
       "      <td>40987</td>\n",
       "      <td>9.807675</td>\n",
       "    </tr>\n",
       "    <tr>\n",
       "      <th>Civil marriage</th>\n",
       "      <td>29775</td>\n",
       "      <td>2961</td>\n",
       "      <td>26814</td>\n",
       "      <td>9.944584</td>\n",
       "    </tr>\n",
       "    <tr>\n",
       "      <th>Separated</th>\n",
       "      <td>19770</td>\n",
       "      <td>1620</td>\n",
       "      <td>18150</td>\n",
       "      <td>8.194234</td>\n",
       "    </tr>\n",
       "    <tr>\n",
       "      <th>Widow</th>\n",
       "      <td>16088</td>\n",
       "      <td>937</td>\n",
       "      <td>15151</td>\n",
       "      <td>5.824217</td>\n",
       "    </tr>\n",
       "    <tr>\n",
       "      <th>Unknown</th>\n",
       "      <td>2</td>\n",
       "      <td>0</td>\n",
       "      <td>2</td>\n",
       "      <td>0.000000</td>\n",
       "    </tr>\n",
       "  </tbody>\n",
       "</table>\n",
       "</div>"
      ],
      "text/plain": [
       "                      NAME_FAMILY_STATUS  one_count  zero_count  \\\n",
       "Married                           196432      14850      181582   \n",
       "Single / not married               45444       4457       40987   \n",
       "Civil marriage                     29775       2961       26814   \n",
       "Separated                          19770       1620       18150   \n",
       "Widow                              16088        937       15151   \n",
       "Unknown                                2          0           2   \n",
       "\n",
       "                      paid_precentage  \n",
       "Married                      7.559868  \n",
       "Single / not married         9.807675  \n",
       "Civil marriage               9.944584  \n",
       "Separated                    8.194234  \n",
       "Widow                        5.824217  \n",
       "Unknown                      0.000000  "
      ]
     },
     "execution_count": 73,
     "metadata": {},
     "output_type": "execute_result"
    }
   ],
   "source": [
    "pd.get_dummies((dtable))"
   ]
  },
  {
   "cell_type": "code",
   "execution_count": 74,
   "metadata": {},
   "outputs": [
    {
     "data": {
      "text/plain": [
       "Married                 196432\n",
       "Single / not married     45444\n",
       "Civil marriage           29775\n",
       "Separated                19770\n",
       "Widow                    16090\n",
       "Name: NAME_FAMILY_STATUS, dtype: int64"
      ]
     },
     "execution_count": 74,
     "metadata": {},
     "output_type": "execute_result"
    }
   ],
   "source": [
    "data_train['NAME_FAMILY_STATUS'] =data_train['NAME_FAMILY_STATUS'].replace('Unknown', 'Widow')\n",
    "\n",
    "data_test['NAME_FAMILY_STATUS'] =data_test['NAME_FAMILY_STATUS'].replace('Unknown', 'Widow')\n",
    "\n",
    "\n",
    "item_counts = data_train[\"NAME_FAMILY_STATUS\"].value_counts()\n",
    "item_counts"
   ]
  },
  {
   "cell_type": "code",
   "execution_count": 75,
   "metadata": {},
   "outputs": [
    {
     "data": {
      "text/plain": [
       "(307511, 67)"
      ]
     },
     "execution_count": 75,
     "metadata": {},
     "output_type": "execute_result"
    }
   ],
   "source": [
    "data_train = pd.get_dummies(data_train, columns=['NAME_FAMILY_STATUS'], prefix='FAMILY',)\n",
    "data_test = pd.get_dummies(data_test, columns=['NAME_FAMILY_STATUS'], prefix='FAMILY',)\n",
    "\n",
    "data_train.shape"
   ]
  },
  {
   "cell_type": "code",
   "execution_count": 76,
   "metadata": {},
   "outputs": [
    {
     "data": {
      "text/plain": [
       "<matplotlib.axes._subplots.AxesSubplot at 0x17b00b1f908>"
      ]
     },
     "execution_count": 76,
     "metadata": {},
     "output_type": "execute_result"
    },
    {
     "data": {
      "image/png": "[encoded data removed]",
      "text/plain": [
       "<Figure size 432x288 with 1 Axes>"
      ]
     },
     "metadata": {
      "needs_background": "light"
     },
     "output_type": "display_data"
    }
   ],
   "source": [
    "# WEEKDAY_APPR_PROCESS_START         \n",
    "\n",
    "item_counts = data_train[\"WEEKDAY_APPR_PROCESS_START\"].value_counts()\n",
    "item_counts\n",
    "\n",
    "dtable= pd.DataFrame(data=item_counts)\n",
    "\n",
    "\n",
    "dtable.plot.barh(rot=True )"
   ]
  },
  {
   "cell_type": "code",
   "execution_count": 77,
   "metadata": {},
   "outputs": [],
   "source": [
    "#We will drop the column as it doesnt seem to have a useful info to get the  targed values\n",
    "\n",
    "data_test.drop(['WEEKDAY_APPR_PROCESS_START'] , axis = 1, inplace = True)\n",
    "data_train.drop(['WEEKDAY_APPR_PROCESS_START'] , axis = 1, inplace = True)"
   ]
  },
  {
   "cell_type": "code",
   "execution_count": 78,
   "metadata": {},
   "outputs": [
    {
     "data": {
      "text/plain": [
       "House / apartment      272868\n",
       "With parents            14840\n",
       "Municipal apartment     11183\n",
       "Rented apartment         4881\n",
       "Office apartment         2617\n",
       "Co-op apartment          1122\n",
       "Name: NAME_HOUSING_TYPE, dtype: int64"
      ]
     },
     "execution_count": 78,
     "metadata": {},
     "output_type": "execute_result"
    }
   ],
   "source": [
    "# NAME_HOUSING_TYPE     \n",
    "\n",
    "item_counts = data_train[\"NAME_HOUSING_TYPE\"].value_counts()\n",
    "item_counts"
   ]
  },
  {
   "cell_type": "code",
   "execution_count": 79,
   "metadata": {},
   "outputs": [
    {
     "data": {
      "text/html": [
       "<div>\n",
       "<style scoped>\n",
       "    .dataframe tbody tr th:only-of-type {\n",
       "        vertical-align: middle;\n",
       "    }\n",
       "\n",
       "    .dataframe tbody tr th {\n",
       "        vertical-align: top;\n",
       "    }\n",
       "\n",
       "    .dataframe thead th {\n",
       "        text-align: right;\n",
       "    }\n",
       "</style>\n",
       "<table border=\"1\" class=\"dataframe\">\n",
       "  <thead>\n",
       "    <tr style=\"text-align: right;\">\n",
       "      <th></th>\n",
       "      <th>NAME_HOUSING_TYPE</th>\n",
       "      <th>one_count</th>\n",
       "      <th>zero_count</th>\n",
       "      <th>paid_precentage</th>\n",
       "    </tr>\n",
       "  </thead>\n",
       "  <tbody>\n",
       "    <tr>\n",
       "      <th>House / apartment</th>\n",
       "      <td>272868</td>\n",
       "      <td>21272</td>\n",
       "      <td>251596</td>\n",
       "      <td>7.795711</td>\n",
       "    </tr>\n",
       "    <tr>\n",
       "      <th>With parents</th>\n",
       "      <td>14840</td>\n",
       "      <td>1736</td>\n",
       "      <td>13104</td>\n",
       "      <td>11.698113</td>\n",
       "    </tr>\n",
       "    <tr>\n",
       "      <th>Municipal apartment</th>\n",
       "      <td>11183</td>\n",
       "      <td>955</td>\n",
       "      <td>10228</td>\n",
       "      <td>8.539748</td>\n",
       "    </tr>\n",
       "    <tr>\n",
       "      <th>Rented apartment</th>\n",
       "      <td>4881</td>\n",
       "      <td>601</td>\n",
       "      <td>4280</td>\n",
       "      <td>12.313051</td>\n",
       "    </tr>\n",
       "    <tr>\n",
       "      <th>Office apartment</th>\n",
       "      <td>2617</td>\n",
       "      <td>172</td>\n",
       "      <td>2445</td>\n",
       "      <td>6.572411</td>\n",
       "    </tr>\n",
       "    <tr>\n",
       "      <th>Co-op apartment</th>\n",
       "      <td>1122</td>\n",
       "      <td>89</td>\n",
       "      <td>1033</td>\n",
       "      <td>7.932264</td>\n",
       "    </tr>\n",
       "  </tbody>\n",
       "</table>\n",
       "</div>"
      ],
      "text/plain": [
       "                     NAME_HOUSING_TYPE  one_count  zero_count  paid_precentage\n",
       "House / apartment               272868      21272      251596         7.795711\n",
       "With parents                     14840       1736       13104        11.698113\n",
       "Municipal apartment              11183        955       10228         8.539748\n",
       "Rented apartment                  4881        601        4280        12.313051\n",
       "Office apartment                  2617        172        2445         6.572411\n",
       "Co-op apartment                   1122         89        1033         7.932264"
      ]
     },
     "execution_count": 79,
     "metadata": {},
     "output_type": "execute_result"
    }
   ],
   "source": [
    "dtable= pd.DataFrame(data=item_counts)\n",
    "\n",
    "get_count(dtable , 'NAME_HOUSING_TYPE')\n",
    "\n",
    "dtable['paid_precentage'] = 100*dtable['one_count']/dtable['NAME_HOUSING_TYPE']\n",
    "\n",
    "dtable"
   ]
  },
  {
   "cell_type": "code",
   "execution_count": 80,
   "metadata": {},
   "outputs": [
    {
     "data": {
      "text/plain": [
       "<matplotlib.axes._subplots.AxesSubplot at 0x17b00b9fc48>"
      ]
     },
     "execution_count": 80,
     "metadata": {},
     "output_type": "execute_result"
    },
    {
     "data": {
      "image/png": "[encoded data removed]",
      "text/plain": [
       "<Figure size 432x288 with 1 Axes>"
      ]
     },
     "metadata": {
      "needs_background": "light"
     },
     "output_type": "display_data"
    }
   ],
   "source": [
    "dtable.plot.barh(rot=True)"
   ]
  },
  {
   "cell_type": "code",
   "execution_count": 81,
   "metadata": {},
   "outputs": [
    {
     "data": {
      "text/plain": [
       "(307511, 71)"
      ]
     },
     "execution_count": 81,
     "metadata": {},
     "output_type": "execute_result"
    }
   ],
   "source": [
    "data_train = pd.get_dummies(data_train, columns=['NAME_HOUSING_TYPE'], prefix='HOUSING',)\n",
    "\n",
    "data_test = pd.get_dummies(data_test, columns=['NAME_HOUSING_TYPE'], prefix='HOUSING',)\n",
    "\n",
    "\n",
    "\n",
    "data_train.shape"
   ]
  },
  {
   "cell_type": "code",
   "execution_count": 82,
   "metadata": {},
   "outputs": [
    {
     "name": "stdout",
     "output_type": "stream",
     "text": [
      "The selected dataframe has 71Columns. \n",
      "There are 7 columns have a missing values.\n"
     ]
    }
   ],
   "source": [
    "a =missing_value_table(data_train)"
   ]
  },
  {
   "cell_type": "code",
   "execution_count": 83,
   "metadata": {},
   "outputs": [
    {
     "data": {
      "image/png": "[encoded data removed]",
      "text/plain": [
       "<Figure size 1440x2520 with 21 Axes>"
      ]
     },
     "metadata": {
      "needs_background": "light"
     },
     "output_type": "display_data"
    }
   ],
   "source": [
    "fig, axs = plt.subplots(ncols=3 , nrows=7, figsize=(20, 35))\n",
    "\n",
    "colm = list(a.index)\n",
    "\n",
    "k = 0\n",
    "for i in range(0,7):\n",
    "  for j in range(0,1):\n",
    "    sns.histplot(data = data_train, hue='TARGET' ,x=colm[k], ax=axs[i][j])\n",
    "    sns.histplot(data = data_train,x=colm[k], ax=axs[i][j +2])\n",
    "    sns.boxplot(data = data_train,x=colm[k], ax=axs[i][j+1])\n",
    "\n",
    "    k = k +1"
   ]
  },
  {
   "cell_type": "code",
   "execution_count": 84,
   "metadata": {},
   "outputs": [
    {
     "data": {
      "text/plain": [
       "(307511, 7)"
      ]
     },
     "execution_count": 84,
     "metadata": {},
     "output_type": "execute_result"
    },
    {
     "data": {
      "image/png": "[encoded data removed]",
      "text/plain": [
       "<Figure size 1440x2520 with 14 Axes>"
      ]
     },
     "metadata": {
      "needs_background": "light"
     },
     "output_type": "display_data"
    }
   ],
   "source": [
    "from sklearn import preprocessing\n",
    "\n",
    "colm = list(a.index)\n",
    "x = data_train[colm].values  #returns a numpy array\n",
    "\n",
    "min_max_scaler = preprocessing.MinMaxScaler()\n",
    "x_scaled = min_max_scaler.fit_transform(x)\n",
    "df = pd.DataFrame(x_scaled)\n",
    "\n",
    "\n",
    "colm = list(df.index)\n",
    "fig, axs = plt.subplots(ncols=2 , nrows=7, figsize=(20, 35))\n",
    "\n",
    "k = 0\n",
    "for i in range(0,7):\n",
    "  for j in range(0,1):\n",
    "    sns.boxplot(data = df,x=colm[k], ax=axs[i][j+1])\n",
    "    sns.histplot(data = df ,x=colm[k], ax=axs[i][j])\n",
    "    k = k +1\n",
    "x.shape"
   ]
  },
  {
   "cell_type": "code",
   "execution_count": 85,
   "metadata": {},
   "outputs": [],
   "source": [
    "def impute_mean(df , col):\n",
    "    mean = df[col].mean()\n",
    "    df[col] = df[col].fillna(mean)\n",
    "#     print(mean)\n",
    "    \n",
    "def impute_median(df , col):\n",
    "    med = df[col].median()\n",
    "    df[col] = df[col].fillna(med)\n",
    "#     print(med)\n",
    "\n",
    "def impute_mode(df, col):\n",
    "    mode = df[col].mode()\n",
    "    df[col] = df[col].fillna(mode[0])\n",
    "#     print(mode[0])"
   ]
  },
  {
   "cell_type": "code",
   "execution_count": 86,
   "metadata": {},
   "outputs": [
    {
     "data": {
      "text/plain": [
       "0.7751092733120264"
      ]
     },
     "execution_count": 86,
     "metadata": {},
     "output_type": "execute_result"
    }
   ],
   "source": [
    "data_train['AMT_GOODS_PRICE'].corr(data_train['AMT_ANNUITY'])"
   ]
  },
  {
   "cell_type": "code",
   "execution_count": 87,
   "metadata": {},
   "outputs": [
    {
     "data": {
      "text/html": [
       "<div>\n",
       "<style scoped>\n",
       "    .dataframe tbody tr th:only-of-type {\n",
       "        vertical-align: middle;\n",
       "    }\n",
       "\n",
       "    .dataframe tbody tr th {\n",
       "        vertical-align: top;\n",
       "    }\n",
       "\n",
       "    .dataframe thead th {\n",
       "        text-align: right;\n",
       "    }\n",
       "</style>\n",
       "<table border=\"1\" class=\"dataframe\">\n",
       "  <thead>\n",
       "    <tr style=\"text-align: right;\">\n",
       "      <th></th>\n",
       "      <th>AMT_GOODS_PRICE</th>\n",
       "      <th>AMT_ANNUITY</th>\n",
       "      <th>EXT_SOURCE_1</th>\n",
       "      <th>EXT_SOURCE_2</th>\n",
       "      <th>EXT_SOURCE_3</th>\n",
       "    </tr>\n",
       "  </thead>\n",
       "  <tbody>\n",
       "    <tr>\n",
       "      <th>AMT_GOODS_PRICE</th>\n",
       "      <td>1.000000</td>\n",
       "      <td>0.775109</td>\n",
       "      <td>0.175502</td>\n",
       "      <td>0.139367</td>\n",
       "      <td>0.047717</td>\n",
       "    </tr>\n",
       "    <tr>\n",
       "      <th>AMT_ANNUITY</th>\n",
       "      <td>0.775109</td>\n",
       "      <td>1.000000</td>\n",
       "      <td>0.119398</td>\n",
       "      <td>0.125804</td>\n",
       "      <td>0.030752</td>\n",
       "    </tr>\n",
       "    <tr>\n",
       "      <th>EXT_SOURCE_1</th>\n",
       "      <td>0.175502</td>\n",
       "      <td>0.119398</td>\n",
       "      <td>1.000000</td>\n",
       "      <td>0.213982</td>\n",
       "      <td>0.186846</td>\n",
       "    </tr>\n",
       "    <tr>\n",
       "      <th>EXT_SOURCE_2</th>\n",
       "      <td>0.139367</td>\n",
       "      <td>0.125804</td>\n",
       "      <td>0.213982</td>\n",
       "      <td>1.000000</td>\n",
       "      <td>0.109167</td>\n",
       "    </tr>\n",
       "    <tr>\n",
       "      <th>EXT_SOURCE_3</th>\n",
       "      <td>0.047717</td>\n",
       "      <td>0.030752</td>\n",
       "      <td>0.186846</td>\n",
       "      <td>0.109167</td>\n",
       "      <td>1.000000</td>\n",
       "    </tr>\n",
       "  </tbody>\n",
       "</table>\n",
       "</div>"
      ],
      "text/plain": [
       "                 AMT_GOODS_PRICE  AMT_ANNUITY  EXT_SOURCE_1  EXT_SOURCE_2  \\\n",
       "AMT_GOODS_PRICE         1.000000     0.775109      0.175502      0.139367   \n",
       "AMT_ANNUITY             0.775109     1.000000      0.119398      0.125804   \n",
       "EXT_SOURCE_1            0.175502     0.119398      1.000000      0.213982   \n",
       "EXT_SOURCE_2            0.139367     0.125804      0.213982      1.000000   \n",
       "EXT_SOURCE_3            0.047717     0.030752      0.186846      0.109167   \n",
       "\n",
       "                 EXT_SOURCE_3  \n",
       "AMT_GOODS_PRICE      0.047717  \n",
       "AMT_ANNUITY          0.030752  \n",
       "EXT_SOURCE_1         0.186846  \n",
       "EXT_SOURCE_2         0.109167  \n",
       "EXT_SOURCE_3         1.000000  "
      ]
     },
     "execution_count": 87,
     "metadata": {},
     "output_type": "execute_result"
    }
   ],
   "source": [
    "new_crr = data_train[['AMT_GOODS_PRICE' , 'AMT_ANNUITY' , 'EXT_SOURCE_1' , 'EXT_SOURCE_2' , 'EXT_SOURCE_3']]\n",
    "new_crr.corr()"
   ]
  },
  {
   "cell_type": "code",
   "execution_count": 88,
   "metadata": {},
   "outputs": [
    {
     "data": {
      "text/plain": [
       "Text(0.5, 1, 'Corelation heatmap')"
      ]
     },
     "execution_count": 88,
     "metadata": {},
     "output_type": "execute_result"
    },
    {
     "data": {
      "image/png": "[encoded data removed]",
      "text/plain": [
       "<Figure size 432x288 with 2 Axes>"
      ]
     },
     "metadata": {
      "needs_background": "light"
     },
     "output_type": "display_data"
    }
   ],
   "source": [
    "sns.heatmap(new_crr.corr() , cmap = plt.cm.RdYlBu_r , annot=True)\n",
    "plt.title(\"Corelation heatmap\")\n"
   ]
  },
  {
   "cell_type": "code",
   "execution_count": 89,
   "metadata": {},
   "outputs": [],
   "source": [
    "#we can drop AMT_GOODS_PRICE colm as it is corelated with AMT_ANNUITY\n",
    "\n",
    "data_train.drop(['AMT_GOODS_PRICE'] , axis = 1, inplace = True)\n",
    "data_test.drop(['AMT_GOODS_PRICE'] , axis = 1, inplace = True)"
   ]
  },
  {
   "cell_type": "code",
   "execution_count": 90,
   "metadata": {},
   "outputs": [
    {
     "name": "stdout",
     "output_type": "stream",
     "text": [
      "The selected dataframe has 70Columns. \n",
      "There are 6 columns have a missing values.\n"
     ]
    },
    {
     "data": {
      "text/html": [
       "<div>\n",
       "<style scoped>\n",
       "    .dataframe tbody tr th:only-of-type {\n",
       "        vertical-align: middle;\n",
       "    }\n",
       "\n",
       "    .dataframe tbody tr th {\n",
       "        vertical-align: top;\n",
       "    }\n",
       "\n",
       "    .dataframe thead th {\n",
       "        text-align: right;\n",
       "    }\n",
       "</style>\n",
       "<table border=\"1\" class=\"dataframe\">\n",
       "  <thead>\n",
       "    <tr style=\"text-align: right;\">\n",
       "      <th></th>\n",
       "      <th>Missing Counts</th>\n",
       "      <th>Missing Percentage</th>\n",
       "    </tr>\n",
       "  </thead>\n",
       "  <tbody>\n",
       "    <tr>\n",
       "      <th>EXT_SOURCE_1</th>\n",
       "      <td>173378</td>\n",
       "      <td>56.381073</td>\n",
       "    </tr>\n",
       "    <tr>\n",
       "      <th>EXT_SOURCE_3</th>\n",
       "      <td>60965</td>\n",
       "      <td>19.825307</td>\n",
       "    </tr>\n",
       "    <tr>\n",
       "      <th>EXT_SOURCE_2</th>\n",
       "      <td>660</td>\n",
       "      <td>0.214626</td>\n",
       "    </tr>\n",
       "    <tr>\n",
       "      <th>AMT_ANNUITY</th>\n",
       "      <td>12</td>\n",
       "      <td>0.003902</td>\n",
       "    </tr>\n",
       "    <tr>\n",
       "      <th>CNT_FAM_MEMBERS</th>\n",
       "      <td>2</td>\n",
       "      <td>0.000650</td>\n",
       "    </tr>\n",
       "    <tr>\n",
       "      <th>DAYS_LAST_PHONE_CHANGE</th>\n",
       "      <td>1</td>\n",
       "      <td>0.000325</td>\n",
       "    </tr>\n",
       "  </tbody>\n",
       "</table>\n",
       "</div>"
      ],
      "text/plain": [
       "                        Missing Counts  Missing Percentage\n",
       "EXT_SOURCE_1                    173378           56.381073\n",
       "EXT_SOURCE_3                     60965           19.825307\n",
       "EXT_SOURCE_2                       660            0.214626\n",
       "AMT_ANNUITY                         12            0.003902\n",
       "CNT_FAM_MEMBERS                      2            0.000650\n",
       "DAYS_LAST_PHONE_CHANGE               1            0.000325"
      ]
     },
     "execution_count": 90,
     "metadata": {},
     "output_type": "execute_result"
    }
   ],
   "source": [
    "missing_value_table(data_train)"
   ]
  },
  {
   "cell_type": "code",
   "execution_count": 91,
   "metadata": {},
   "outputs": [
    {
     "data": {
      "text/plain": [
       "Series([], dtype: float64)"
      ]
     },
     "execution_count": 91,
     "metadata": {},
     "output_type": "execute_result"
    }
   ],
   "source": [
    "get_unique_catagory(data_train)"
   ]
  },
  {
   "cell_type": "code",
   "execution_count": 92,
   "metadata": {},
   "outputs": [
    {
     "data": {
      "text/plain": [
       "(307511, 70)"
      ]
     },
     "execution_count": 92,
     "metadata": {},
     "output_type": "execute_result"
    }
   ],
   "source": [
    "data_train.shape"
   ]
  },
  {
   "cell_type": "code",
   "execution_count": 93,
   "metadata": {},
   "outputs": [],
   "source": [
    "data_train['DAYS_LAST_PHONE_CHANGE']=abs(data_train['DAYS_LAST_PHONE_CHANGE'])\n",
    "data_train['DAYS_REGISTRATION']=abs(data_train['DAYS_REGISTRATION'])\n",
    "data_train['DAYS_ID_PUBLISH']=abs(data_train['DAYS_ID_PUBLISH'])\n",
    "data_train['DAYS_EMPLOYED']=abs(data_train['DAYS_EMPLOYED'])\n",
    "\n",
    "\n",
    "data_test['DAYS_LAST_PHONE_CHANGE']=abs(data_test['DAYS_LAST_PHONE_CHANGE'])\n",
    "data_test['DAYS_REGISTRATION']=abs(data_test['DAYS_REGISTRATION'])\n",
    "data_test['DAYS_ID_PUBLISH']=abs(data_test['DAYS_ID_PUBLISH'])\n",
    "data_test['DAYS_EMPLOYED']=abs(data_test['DAYS_EMPLOYED'])"
   ]
  },
  {
   "cell_type": "code",
   "execution_count": 94,
   "metadata": {},
   "outputs": [],
   "source": [
    "impute_mean(data_train, 'EXT_SOURCE_1')\n",
    "impute_median(data_train, 'EXT_SOURCE_2')\n",
    "impute_median(data_train, 'EXT_SOURCE_3')\n",
    "impute_mean(data_train, 'AMT_ANNUITY')\n",
    "impute_median(data_train, 'CNT_FAM_MEMBERS')\n",
    "impute_mode(data_train, 'DAYS_LAST_PHONE_CHANGE')\n",
    "\n",
    "impute_mean(data_test, 'EXT_SOURCE_1')\n",
    "impute_median(data_test, 'EXT_SOURCE_2')\n",
    "impute_median(data_test, 'EXT_SOURCE_3')\n",
    "impute_mean(data_test, 'AMT_ANNUITY')\n",
    "impute_median(data_test, 'CNT_FAM_MEMBERS')\n",
    "impute_mode(data_test, 'DAYS_LAST_PHONE_CHANGE')"
   ]
  },
  {
   "cell_type": "code",
   "execution_count": 95,
   "metadata": {},
   "outputs": [
    {
     "name": "stdout",
     "output_type": "stream",
     "text": [
      "The selected dataframe has 70Columns. \n",
      "There are 0 columns have a missing values.\n"
     ]
    },
    {
     "data": {
      "text/html": [
       "<div>\n",
       "<style scoped>\n",
       "    .dataframe tbody tr th:only-of-type {\n",
       "        vertical-align: middle;\n",
       "    }\n",
       "\n",
       "    .dataframe tbody tr th {\n",
       "        vertical-align: top;\n",
       "    }\n",
       "\n",
       "    .dataframe thead th {\n",
       "        text-align: right;\n",
       "    }\n",
       "</style>\n",
       "<table border=\"1\" class=\"dataframe\">\n",
       "  <thead>\n",
       "    <tr style=\"text-align: right;\">\n",
       "      <th></th>\n",
       "      <th>Missing Counts</th>\n",
       "      <th>Missing Percentage</th>\n",
       "    </tr>\n",
       "  </thead>\n",
       "  <tbody>\n",
       "  </tbody>\n",
       "</table>\n",
       "</div>"
      ],
      "text/plain": [
       "Empty DataFrame\n",
       "Columns: [Missing Counts, Missing Percentage]\n",
       "Index: []"
      ]
     },
     "execution_count": 95,
     "metadata": {},
     "output_type": "execute_result"
    }
   ],
   "source": [
    "missing_value_table(data_train)"
   ]
  },
  {
   "cell_type": "code",
   "execution_count": 96,
   "metadata": {},
   "outputs": [
    {
     "name": "stdout",
     "output_type": "stream",
     "text": [
      "The selected dataframe has 69Columns. \n",
      "There are 0 columns have a missing values.\n"
     ]
    },
    {
     "data": {
      "text/html": [
       "<div>\n",
       "<style scoped>\n",
       "    .dataframe tbody tr th:only-of-type {\n",
       "        vertical-align: middle;\n",
       "    }\n",
       "\n",
       "    .dataframe tbody tr th {\n",
       "        vertical-align: top;\n",
       "    }\n",
       "\n",
       "    .dataframe thead th {\n",
       "        text-align: right;\n",
       "    }\n",
       "</style>\n",
       "<table border=\"1\" class=\"dataframe\">\n",
       "  <thead>\n",
       "    <tr style=\"text-align: right;\">\n",
       "      <th></th>\n",
       "      <th>Missing Counts</th>\n",
       "      <th>Missing Percentage</th>\n",
       "    </tr>\n",
       "  </thead>\n",
       "  <tbody>\n",
       "  </tbody>\n",
       "</table>\n",
       "</div>"
      ],
      "text/plain": [
       "Empty DataFrame\n",
       "Columns: [Missing Counts, Missing Percentage]\n",
       "Index: []"
      ]
     },
     "execution_count": 96,
     "metadata": {},
     "output_type": "execute_result"
    }
   ],
   "source": [
    "missing_value_table(data_test)"
   ]
  },
  {
   "cell_type": "code",
   "execution_count": 97,
   "metadata": {},
   "outputs": [
    {
     "data": {
      "text/plain": [
       "Series([], dtype: float64)"
      ]
     },
     "execution_count": 97,
     "metadata": {},
     "output_type": "execute_result"
    }
   ],
   "source": [
    "get_unique_catagory(data_train)"
   ]
  },
  {
   "cell_type": "code",
   "execution_count": 98,
   "metadata": {},
   "outputs": [
    {
     "data": {
      "text/plain": [
       "Series([], dtype: float64)"
      ]
     },
     "execution_count": 98,
     "metadata": {},
     "output_type": "execute_result"
    }
   ],
   "source": [
    "get_unique_catagory(data_test)"
   ]
  },
  {
   "cell_type": "code",
   "execution_count": 99,
   "metadata": {},
   "outputs": [
    {
     "data": {
      "text/plain": [
       "-0.07823930830982712"
      ]
     },
     "execution_count": 99,
     "metadata": {},
     "output_type": "execute_result"
    }
   ],
   "source": [
    "# Effect of age on repayment\n",
    "\n",
    "#find out the corelation of positive days since birth and target\n",
    "\n",
    "data_train['DAYS_BIRTH'] = abs(data_train['DAYS_BIRTH'])\n",
    "data_train['DAYS_BIRTH'].corr(data_train['TARGET'])\n",
    "\n",
    "\n",
    "#as client gets older, there is negative linear regression with target."
   ]
  },
  {
   "cell_type": "code",
   "execution_count": 100,
   "metadata": {},
   "outputs": [
    {
     "data": {
      "text/plain": [
       "Text(0, 0.5, 'Count')"
      ]
     },
     "execution_count": 100,
     "metadata": {},
     "output_type": "execute_result"
    },
    {
     "data": {
      "image/png": "[encoded data removed]",
      "text/plain": [
       "<Figure size 432x288 with 1 Axes>"
      ]
     },
     "metadata": {},
     "output_type": "display_data"
    }
   ],
   "source": [
    "#Distribution of Age\n",
    "\n",
    "plt.style.use('fivethirtyeight')\n",
    "\n",
    "plt.hist(data_train['DAYS_BIRTH']/365 , edgecolor = 'k' , bins = 25)\n",
    "plt.title('Age of Client')\n",
    "plt.xlabel('Age (years)')\n",
    "plt.ylabel('Count')"
   ]
  },
  {
   "cell_type": "code",
   "execution_count": 101,
   "metadata": {},
   "outputs": [
    {
     "data": {
      "text/plain": [
       "<matplotlib.axes._subplots.AxesSubplot at 0x17b0624e348>"
      ]
     },
     "execution_count": 101,
     "metadata": {},
     "output_type": "execute_result"
    },
    {
     "data": {
      "image/png": "[encoded data removed]",
      "text/plain": [
       "<Figure size 432x288 with 1 Axes>"
      ]
     },
     "metadata": {},
     "output_type": "display_data"
    }
   ],
   "source": [
    "#Visualize the effect of age in the target\n",
    "\n",
    "import seaborn as sns\n",
    "\n",
    "# plt.figure(figsize=(10 , 8))\n",
    "\n",
    "sns.kdeplot(data_train.loc[data_train['TARGET'] == 0 , 'DAYS_BIRTH']/365 , label = \"target = 0\")\n",
    "\n",
    "sns.kdeplot(data_train.loc[data_train['TARGET'] == 1 , 'DAYS_BIRTH']/365 , label = \"target = 1\")"
   ]
  },
  {
   "cell_type": "code",
   "execution_count": 102,
   "metadata": {},
   "outputs": [
    {
     "name": "stderr",
     "output_type": "stream",
     "text": [
      "C:\\Users\\Dell\\anaconda3\\lib\\site-packages\\ipykernel_launcher.py:4: SettingWithCopyWarning: \n",
      "A value is trying to be set on a copy of a slice from a DataFrame.\n",
      "Try using .loc[row_indexer,col_indexer] = value instead\n",
      "\n",
      "See the caveats in the documentation: https://pandas.pydata.org/pandas-docs/stable/user_guide/indexing.html#returning-a-view-versus-a-copy\n",
      "  after removing the cwd from sys.path.\n",
      "C:\\Users\\Dell\\anaconda3\\lib\\site-packages\\ipykernel_launcher.py:7: SettingWithCopyWarning: \n",
      "A value is trying to be set on a copy of a slice from a DataFrame.\n",
      "Try using .loc[row_indexer,col_indexer] = value instead\n",
      "\n",
      "See the caveats in the documentation: https://pandas.pydata.org/pandas-docs/stable/user_guide/indexing.html#returning-a-view-versus-a-copy\n",
      "  import sys\n"
     ]
    },
    {
     "data": {
      "text/html": [
       "<div>\n",
       "<style scoped>\n",
       "    .dataframe tbody tr th:only-of-type {\n",
       "        vertical-align: middle;\n",
       "    }\n",
       "\n",
       "    .dataframe tbody tr th {\n",
       "        vertical-align: top;\n",
       "    }\n",
       "\n",
       "    .dataframe thead th {\n",
       "        text-align: right;\n",
       "    }\n",
       "</style>\n",
       "<table border=\"1\" class=\"dataframe\">\n",
       "  <thead>\n",
       "    <tr style=\"text-align: right;\">\n",
       "      <th></th>\n",
       "      <th>TARGET</th>\n",
       "      <th>DAYS_BIRTH</th>\n",
       "      <th>YEARS_BIRTH</th>\n",
       "      <th>Year_binded</th>\n",
       "    </tr>\n",
       "  </thead>\n",
       "  <tbody>\n",
       "    <tr>\n",
       "      <th>0</th>\n",
       "      <td>1</td>\n",
       "      <td>9461</td>\n",
       "      <td>25.920548</td>\n",
       "      <td>(25.0, 30.0]</td>\n",
       "    </tr>\n",
       "    <tr>\n",
       "      <th>1</th>\n",
       "      <td>0</td>\n",
       "      <td>16765</td>\n",
       "      <td>45.931507</td>\n",
       "      <td>(45.0, 50.0]</td>\n",
       "    </tr>\n",
       "    <tr>\n",
       "      <th>2</th>\n",
       "      <td>0</td>\n",
       "      <td>19046</td>\n",
       "      <td>52.180822</td>\n",
       "      <td>(50.0, 55.0]</td>\n",
       "    </tr>\n",
       "    <tr>\n",
       "      <th>3</th>\n",
       "      <td>0</td>\n",
       "      <td>19005</td>\n",
       "      <td>52.068493</td>\n",
       "      <td>(50.0, 55.0]</td>\n",
       "    </tr>\n",
       "    <tr>\n",
       "      <th>4</th>\n",
       "      <td>0</td>\n",
       "      <td>19932</td>\n",
       "      <td>54.608219</td>\n",
       "      <td>(50.0, 55.0]</td>\n",
       "    </tr>\n",
       "  </tbody>\n",
       "</table>\n",
       "</div>"
      ],
      "text/plain": [
       "   TARGET  DAYS_BIRTH  YEARS_BIRTH   Year_binded\n",
       "0       1        9461    25.920548  (25.0, 30.0]\n",
       "1       0       16765    45.931507  (45.0, 50.0]\n",
       "2       0       19046    52.180822  (50.0, 55.0]\n",
       "3       0       19005    52.068493  (50.0, 55.0]\n",
       "4       0       19932    54.608219  (50.0, 55.0]"
      ]
     },
     "execution_count": 102,
     "metadata": {},
     "output_type": "execute_result"
    }
   ],
   "source": [
    "#Age information into seprate dataframe\n",
    "\n",
    "age_data = data_train[['TARGET' , 'DAYS_BIRTH']]\n",
    "age_data['YEARS_BIRTH'] = age_data['DAYS_BIRTH']/365\n",
    "\n",
    "#Bin the age data\n",
    "age_data['Year_binded'] = pd.cut(age_data['YEARS_BIRTH'] , bins = np.linspace(20 , 70 , num = 11))\n",
    "age_data.head()"
   ]
  },
  {
   "cell_type": "code",
   "execution_count": 103,
   "metadata": {},
   "outputs": [
    {
     "data": {
      "text/html": [
       "<div>\n",
       "<style scoped>\n",
       "    .dataframe tbody tr th:only-of-type {\n",
       "        vertical-align: middle;\n",
       "    }\n",
       "\n",
       "    .dataframe tbody tr th {\n",
       "        vertical-align: top;\n",
       "    }\n",
       "\n",
       "    .dataframe thead th {\n",
       "        text-align: right;\n",
       "    }\n",
       "</style>\n",
       "<table border=\"1\" class=\"dataframe\">\n",
       "  <thead>\n",
       "    <tr style=\"text-align: right;\">\n",
       "      <th></th>\n",
       "      <th>TARGET</th>\n",
       "      <th>DAYS_BIRTH</th>\n",
       "      <th>YEARS_BIRTH</th>\n",
       "    </tr>\n",
       "    <tr>\n",
       "      <th>Year_binded</th>\n",
       "      <th></th>\n",
       "      <th></th>\n",
       "      <th></th>\n",
       "    </tr>\n",
       "  </thead>\n",
       "  <tbody>\n",
       "    <tr>\n",
       "      <th>(20.0, 25.0]</th>\n",
       "      <td>0.123036</td>\n",
       "      <td>8532.795625</td>\n",
       "      <td>23.377522</td>\n",
       "    </tr>\n",
       "    <tr>\n",
       "      <th>(25.0, 30.0]</th>\n",
       "      <td>0.111436</td>\n",
       "      <td>10155.219250</td>\n",
       "      <td>27.822518</td>\n",
       "    </tr>\n",
       "    <tr>\n",
       "      <th>(30.0, 35.0]</th>\n",
       "      <td>0.102814</td>\n",
       "      <td>11854.848377</td>\n",
       "      <td>32.479037</td>\n",
       "    </tr>\n",
       "    <tr>\n",
       "      <th>(35.0, 40.0]</th>\n",
       "      <td>0.089414</td>\n",
       "      <td>13707.908253</td>\n",
       "      <td>37.555913</td>\n",
       "    </tr>\n",
       "    <tr>\n",
       "      <th>(40.0, 45.0]</th>\n",
       "      <td>0.078491</td>\n",
       "      <td>15497.661233</td>\n",
       "      <td>42.459346</td>\n",
       "    </tr>\n",
       "    <tr>\n",
       "      <th>(45.0, 50.0]</th>\n",
       "      <td>0.074171</td>\n",
       "      <td>17323.900441</td>\n",
       "      <td>47.462741</td>\n",
       "    </tr>\n",
       "    <tr>\n",
       "      <th>(50.0, 55.0]</th>\n",
       "      <td>0.066968</td>\n",
       "      <td>19196.494791</td>\n",
       "      <td>52.593136</td>\n",
       "    </tr>\n",
       "    <tr>\n",
       "      <th>(55.0, 60.0]</th>\n",
       "      <td>0.055314</td>\n",
       "      <td>20984.262742</td>\n",
       "      <td>57.491131</td>\n",
       "    </tr>\n",
       "    <tr>\n",
       "      <th>(60.0, 65.0]</th>\n",
       "      <td>0.052737</td>\n",
       "      <td>22780.547460</td>\n",
       "      <td>62.412459</td>\n",
       "    </tr>\n",
       "    <tr>\n",
       "      <th>(65.0, 70.0]</th>\n",
       "      <td>0.037270</td>\n",
       "      <td>24292.614340</td>\n",
       "      <td>66.555108</td>\n",
       "    </tr>\n",
       "  </tbody>\n",
       "</table>\n",
       "</div>"
      ],
      "text/plain": [
       "                TARGET    DAYS_BIRTH  YEARS_BIRTH\n",
       "Year_binded                                      \n",
       "(20.0, 25.0]  0.123036   8532.795625    23.377522\n",
       "(25.0, 30.0]  0.111436  10155.219250    27.822518\n",
       "(30.0, 35.0]  0.102814  11854.848377    32.479037\n",
       "(35.0, 40.0]  0.089414  13707.908253    37.555913\n",
       "(40.0, 45.0]  0.078491  15497.661233    42.459346\n",
       "(45.0, 50.0]  0.074171  17323.900441    47.462741\n",
       "(50.0, 55.0]  0.066968  19196.494791    52.593136\n",
       "(55.0, 60.0]  0.055314  20984.262742    57.491131\n",
       "(60.0, 65.0]  0.052737  22780.547460    62.412459\n",
       "(65.0, 70.0]  0.037270  24292.614340    66.555108"
      ]
     },
     "execution_count": 103,
     "metadata": {},
     "output_type": "execute_result"
    }
   ],
   "source": [
    "age_group = age_data.groupby('Year_binded').mean()\n",
    "age_group"
   ]
  },
  {
   "cell_type": "code",
   "execution_count": 104,
   "metadata": {},
   "outputs": [
    {
     "data": {
      "text/plain": [
       "Text(0.5, 1.0, 'Failure to repay by age group')"
      ]
     },
     "execution_count": 104,
     "metadata": {},
     "output_type": "execute_result"
    },
    {
     "data": {
      "image/png": "[encoded data removed]",
      "text/plain": [
       "<Figure size 432x288 with 1 Axes>"
      ]
     },
     "metadata": {},
     "output_type": "display_data"
    }
   ],
   "source": [
    "# plt.figure(figsize=(10, 12))\n",
    "\n",
    "#Graph the age bins and the avg of the target as a barplot\n",
    "plt.bar(age_group.index.astype(str) , 100*age_group['TARGET'])\n",
    "\n",
    "#Plot labelling \n",
    "plt.xticks(rotation = 75)\n",
    "plt.xlabel('Age group (years)')\n",
    "plt.ylabel('Failure to repay (%)')\n",
    "\n",
    "plt.title('Failure to repay by age group')\n",
    "\n",
    "# There is a clear trend: younger applicants are more likely to not repay the loan! The rate of failure to repay is above 10% for the youngest three age groups and beolow 5% for the oldest age group.\n"
   ]
  },
  {
   "cell_type": "code",
   "execution_count": 105,
   "metadata": {},
   "outputs": [],
   "source": [
    "correlation = data_train.corr()['TARGET'].sort_values()"
   ]
  },
  {
   "cell_type": "code",
   "execution_count": 106,
   "metadata": {},
   "outputs": [
    {
     "data": {
      "text/plain": [
       "EXT_SOURCE_2                  -0.160295\n",
       "EXT_SOURCE_3                  -0.155892\n",
       "EXT_SOURCE_1                  -0.099152\n",
       "DAYS_BIRTH                    -0.078239\n",
       "DAYS_LAST_PHONE_CHANGE        -0.055217\n",
       "CODE_GENDER                   -0.054713\n",
       "DAYS_ID_PUBLISH               -0.051457\n",
       "FLOORSMAX_AVG                 -0.049839\n",
       "DAYS_EMPLOYED                 -0.047046\n",
       "DAYS_REGISTRATION             -0.041975\n",
       "TOTALAREA_MODE                -0.041037\n",
       "YEARS_BEGINEXPLUATATION_AVG   -0.040965\n",
       "LIVINGAREA_AVG                -0.040301\n",
       "APARTMENTS_AVG                -0.039924\n",
       "ENTRANCES_AVG                 -0.038402\n",
       "REGION_POPULATION_RELATIVE    -0.037227\n",
       "ELEVATORS_AVG                 -0.035853\n",
       "FLOORSMIN_AVG                 -0.034177\n",
       "BASEMENTAREA_AVG              -0.033759\n",
       "YEARS_BUILD_AVG               -0.033073\n",
       "NAME_EDUCATION_TYPE           -0.032434\n",
       "NAME_CONTRACT_TYPE            -0.030896\n",
       "AMT_CREDIT                    -0.030369\n",
       "LIVINGAPARTMENTS_AVG          -0.029525\n",
       "HOUSING_House / apartment     -0.028555\n",
       "FAMILY_Married                -0.025043\n",
       "HOUR_APPR_PROCESS_START       -0.024166\n",
       "FLAG_PHONE                    -0.023806\n",
       "LANDAREA_AVG                  -0.023152\n",
       "FLAG_OWN_CAR                  -0.021851\n",
       "COMMONAREA_AVG                -0.020853\n",
       "NONLIVINGAREA_AVG             -0.019446\n",
       "FAMILY_Widow                  -0.019402\n",
       "AMT_ANNUITY                   -0.012817\n",
       "SUITE_Family                  -0.008667\n",
       "Name: TARGET, dtype: float64"
      ]
     },
     "execution_count": 106,
     "metadata": {},
     "output_type": "execute_result"
    }
   ],
   "source": [
    "#negative corelation\n",
    "correlation[:35]"
   ]
  },
  {
   "cell_type": "code",
   "execution_count": 107,
   "metadata": {},
   "outputs": [
    {
     "data": {
      "text/plain": [
       "NONLIVINGAPARTMENTS_AVG       -0.005910\n",
       "HOUSING_Office apartment      -0.005103\n",
       "AMT_INCOME_TOTAL              -0.003982\n",
       "FLAG_EMAIL                    -0.001758\n",
       "HOUSING_Co-op apartment       -0.000312\n",
       "FLAG_CONT_MOBILE               0.000370\n",
       "FLAG_MOBIL                     0.000534\n",
       "NAME_INCOME_TYPE               0.000702\n",
       "FAMILY_Separated               0.001168\n",
       "LIVE_REGION_NOT_WORK_REGION    0.002819\n",
       "HOUSING_Municipal apartment    0.003329\n",
       "HOUSETYPE_MODE                 0.004616\n",
       "SUITE_Group                    0.004727\n",
       "EMERGENCYSTATE_MODE            0.004829\n",
       "REG_REGION_NOT_LIVE_REGION     0.005576\n",
       "REG_REGION_NOT_WORK_REGION     0.006942\n",
       "SUITE_Unaccompanied            0.008301\n",
       "CNT_FAM_MEMBERS                0.009308\n",
       "OCCUPATION_TYPE                0.009693\n",
       "DOCS_COUNT                     0.017193\n",
       "CNT_CHILDREN                   0.019187\n",
       "HOUSING_Rented apartment       0.019767\n",
       "FAMILY_Civil marriage          0.022496\n",
       "FAMILY_Single / not married    0.026518\n",
       "FLAG_WORK_PHONE                0.028524\n",
       "HOUSING_With parents           0.029966\n",
       "LIVE_CITY_NOT_WORK_CITY        0.032518\n",
       "REG_CITY_NOT_LIVE_CITY         0.044395\n",
       "ORGANIZATION_TYPE              0.044924\n",
       "FLAG_EMP_PHONE                 0.045982\n",
       "REG_CITY_NOT_WORK_CITY         0.050994\n",
       "REGION_RATING_CLIENT           0.058899\n",
       "REGION_RATING_CLIENT_W_CITY    0.060893\n",
       "TARGET                         1.000000\n",
       "Name: TARGET, dtype: float64"
      ]
     },
     "execution_count": 107,
     "metadata": {},
     "output_type": "execute_result"
    }
   ],
   "source": [
    "#Positive corelation\n",
    "correlation[36:]"
   ]
  },
  {
   "cell_type": "code",
   "execution_count": null,
   "metadata": {},
   "outputs": [],
   "source": []
  },
  {
   "cell_type": "code",
   "execution_count": 108,
   "metadata": {},
   "outputs": [],
   "source": [
    "from sklearn.linear_model import LogisticRegression"
   ]
  },
  {
   "cell_type": "code",
   "execution_count": 109,
   "metadata": {},
   "outputs": [],
   "source": [
    "# !pip install imblearn"
   ]
  },
  {
   "cell_type": "code",
   "execution_count": 110,
   "metadata": {},
   "outputs": [],
   "source": [
    "from imblearn.under_sampling import RandomUnderSampler"
   ]
  },
  {
   "cell_type": "code",
   "execution_count": 111,
   "metadata": {},
   "outputs": [],
   "source": [
    "X = data_train.drop('TARGET' , axis =1)\n",
    "y = data_train['TARGET']\n",
    "under = RandomUnderSampler(sampling_strategy='majority')\n",
    "X , y = under.fit_resample(X, y) "
   ]
  },
  {
   "cell_type": "code",
   "execution_count": 112,
   "metadata": {},
   "outputs": [
    {
     "data": {
      "text/plain": [
       "(49650, 69)"
      ]
     },
     "execution_count": 112,
     "metadata": {},
     "output_type": "execute_result"
    }
   ],
   "source": [
    "X.shape"
   ]
  },
  {
   "cell_type": "code",
   "execution_count": 113,
   "metadata": {},
   "outputs": [
    {
     "data": {
      "text/plain": [
       "<matplotlib.axes._subplots.AxesSubplot at 0x17b04139488>"
      ]
     },
     "execution_count": 113,
     "metadata": {},
     "output_type": "execute_result"
    },
    {
     "data": {
      "image/png": "[encoded data removed]",
      "text/plain": [
       "<Figure size 432x288 with 1 Axes>"
      ]
     },
     "metadata": {},
     "output_type": "display_data"
    }
   ],
   "source": [
    "y.plot.hist()"
   ]
  },
  {
   "cell_type": "code",
   "execution_count": 114,
   "metadata": {},
   "outputs": [],
   "source": [
    "from sklearn.utils import shuffle\n",
    "X, y = shuffle(X, y)"
   ]
  },
  {
   "cell_type": "code",
   "execution_count": 115,
   "metadata": {},
   "outputs": [],
   "source": [
    "X_CV = X[49000:]\n",
    "y_CV = y[49000:]\n",
    "\n",
    "X = X[:49000]\n",
    "y = y[:49000]"
   ]
  },
  {
   "cell_type": "code",
   "execution_count": 116,
   "metadata": {},
   "outputs": [],
   "source": [
    "from sklearn.linear_model import LogisticRegression\n",
    "from sklearn.metrics import accuracy_score\n",
    "from sklearn.metrics import classification_report, confusion_matrix\n"
   ]
  },
  {
   "cell_type": "code",
   "execution_count": null,
   "metadata": {},
   "outputs": [],
   "source": []
  },
  {
   "cell_type": "code",
   "execution_count": 117,
   "metadata": {},
   "outputs": [
    {
     "name": "stderr",
     "output_type": "stream",
     "text": [
      "C:\\Users\\Dell\\anaconda3\\lib\\site-packages\\sklearn\\linear_model\\_logistic.py:765: ConvergenceWarning: lbfgs failed to converge (status=1):\n",
      "STOP: TOTAL NO. of ITERATIONS REACHED LIMIT.\n",
      "\n",
      "Increase the number of iterations (max_iter) or scale the data as shown in:\n",
      "    https://scikit-learn.org/stable/modules/preprocessing.html\n",
      "Please also refer to the documentation for alternative solver options:\n",
      "    https://scikit-learn.org/stable/modules/linear_model.html#logistic-regression\n",
      "  extra_warning_msg=_LOGISTIC_SOLVER_CONVERGENCE_MSG)\n"
     ]
    },
    {
     "data": {
      "text/plain": [
       "0.5560612244897959"
      ]
     },
     "execution_count": 117,
     "metadata": {},
     "output_type": "execute_result"
    }
   ],
   "source": [
    "clf = LogisticRegression(random_state=0).fit(X, y)\n",
    "yhat = clf.predict(X)\n",
    "accuracy_score(y, yhat)"
   ]
  },
  {
   "cell_type": "code",
   "execution_count": null,
   "metadata": {},
   "outputs": [],
   "source": []
  },
  {
   "cell_type": "code",
   "execution_count": 118,
   "metadata": {},
   "outputs": [
    {
     "data": {
      "text/plain": [
       "0.563076923076923"
      ]
     },
     "execution_count": 118,
     "metadata": {},
     "output_type": "execute_result"
    }
   ],
   "source": [
    "yhat = clf.predict(X_CV)\n",
    "accuracy_score(y_CV, yhat)"
   ]
  },
  {
   "cell_type": "code",
   "execution_count": 119,
   "metadata": {},
   "outputs": [
    {
     "name": "stdout",
     "output_type": "stream",
     "text": [
      "Confusion Matrix for LogisticRegression: \n",
      " \n",
      "              precision    recall  f1-score   support\n",
      "\n",
      "           0       0.56      0.59      0.57       322\n",
      "           1       0.57      0.54      0.55       328\n",
      "\n",
      "    accuracy                           0.56       650\n",
      "   macro avg       0.56      0.56      0.56       650\n",
      "weighted avg       0.56      0.56      0.56       650\n",
      "\n"
     ]
    }
   ],
   "source": [
    "\n",
    "print(\"Confusion Matrix for LogisticRegression: \\n \\n\" +classification_report(y_CV, yhat))"
   ]
  },
  {
   "cell_type": "code",
   "execution_count": 120,
   "metadata": {},
   "outputs": [],
   "source": [
    "logi_pre = clf.predict(data_test)\n",
    "df = pd.DataFrame(logi_pre)\n",
    "df.to_csv('logistic.csv',index=False)"
   ]
  },
  {
   "cell_type": "code",
   "execution_count": null,
   "metadata": {},
   "outputs": [],
   "source": []
  },
  {
   "cell_type": "code",
   "execution_count": 121,
   "metadata": {},
   "outputs": [],
   "source": [
    "from sklearn.ensemble import RandomForestClassifier"
   ]
  },
  {
   "cell_type": "code",
   "execution_count": 122,
   "metadata": {},
   "outputs": [
    {
     "data": {
      "text/plain": [
       "0.6631428571428571"
      ]
     },
     "execution_count": 122,
     "metadata": {},
     "output_type": "execute_result"
    }
   ],
   "source": [
    "clf = RandomForestClassifier(max_depth=2, random_state=0)\n",
    "clf.fit(X, y)\n",
    "yhat = clf.predict(X)\n",
    "clf.score(X, y)\n",
    "# accuracy_score(y, yhat)"
   ]
  },
  {
   "cell_type": "code",
   "execution_count": null,
   "metadata": {},
   "outputs": [],
   "source": []
  },
  {
   "cell_type": "code",
   "execution_count": 123,
   "metadata": {},
   "outputs": [
    {
     "data": {
      "text/plain": [
       "0.6492307692307693"
      ]
     },
     "execution_count": 123,
     "metadata": {},
     "output_type": "execute_result"
    }
   ],
   "source": [
    "yhat = clf.predict(X_CV)\n",
    "accuracy_score(y_CV, yhat)"
   ]
  },
  {
   "cell_type": "code",
   "execution_count": 124,
   "metadata": {},
   "outputs": [
    {
     "name": "stdout",
     "output_type": "stream",
     "text": [
      "Confusion Matrix for RandomForestClassifier: \n",
      " \n",
      "              precision    recall  f1-score   support\n",
      "\n",
      "           0       0.64      0.66      0.65       322\n",
      "           1       0.66      0.64      0.65       328\n",
      "\n",
      "    accuracy                           0.65       650\n",
      "   macro avg       0.65      0.65      0.65       650\n",
      "weighted avg       0.65      0.65      0.65       650\n",
      "\n"
     ]
    }
   ],
   "source": [
    "print(\"Confusion Matrix for RandomForestClassifier: \\n \\n\" +classification_report(y_CV, yhat))"
   ]
  },
  {
   "cell_type": "code",
   "execution_count": 125,
   "metadata": {},
   "outputs": [],
   "source": [
    "random = clf.predict(data_test)\n",
    "df = pd.DataFrame(logi_pre)\n",
    "df.to_csv('random.csv',index=False)"
   ]
  },
  {
   "cell_type": "code",
   "execution_count": 126,
   "metadata": {},
   "outputs": [],
   "source": [
    "from sklearn.ensemble import GradientBoostingClassifier"
   ]
  },
  {
   "cell_type": "code",
   "execution_count": 127,
   "metadata": {},
   "outputs": [
    {
     "data": {
      "text/plain": [
       "0.687469387755102"
      ]
     },
     "execution_count": 127,
     "metadata": {},
     "output_type": "execute_result"
    }
   ],
   "source": [
    "clf = GradientBoostingClassifier(n_estimators=100, learning_rate=1.0, max_depth=1, random_state=0).fit(X, y)\n",
    "clf.score(X, y)"
   ]
  },
  {
   "cell_type": "code",
   "execution_count": 128,
   "metadata": {},
   "outputs": [
    {
     "data": {
      "text/plain": [
       "0.6846153846153846"
      ]
     },
     "execution_count": 128,
     "metadata": {},
     "output_type": "execute_result"
    }
   ],
   "source": [
    "yhat = clf.predict(X_CV)\n",
    "accuracy_score(y_CV, yhat)"
   ]
  },
  {
   "cell_type": "code",
   "execution_count": 129,
   "metadata": {},
   "outputs": [
    {
     "name": "stdout",
     "output_type": "stream",
     "text": [
      "Confusion Matrix for RandomForestClassifier: \n",
      " \n",
      "              precision    recall  f1-score   support\n",
      "\n",
      "           0       0.68      0.70      0.69       322\n",
      "           1       0.69      0.67      0.68       328\n",
      "\n",
      "    accuracy                           0.68       650\n",
      "   macro avg       0.68      0.68      0.68       650\n",
      "weighted avg       0.68      0.68      0.68       650\n",
      "\n"
     ]
    }
   ],
   "source": [
    "print(\"Confusion Matrix for RandomForestClassifier: \\n \\n\" +classification_report(y_CV, yhat))"
   ]
  },
  {
   "cell_type": "code",
   "execution_count": null,
   "metadata": {},
   "outputs": [],
   "source": []
  },
  {
   "cell_type": "code",
   "execution_count": 130,
   "metadata": {},
   "outputs": [],
   "source": [
    "xgboost = clf.predict(data_test)\n",
    "df = pd.DataFrame(logi_pre)\n",
    "df.to_csv('xgboost.csv',index=False)"
   ]
  },
  {
   "cell_type": "code",
   "execution_count": 131,
   "metadata": {},
   "outputs": [],
   "source": [
    "#Removing the data with low corelation\n",
    "\n",
    "\n",
    "drop_these = ['HOUSING_Co-op apartment','FLAG_CONT_MOBILE','NAME_INCOME_TYPE']\n",
    "\n",
    "X.drop(drop_these , axis = 1, inplace = True)\n",
    "X_CV.drop(drop_these , axis = 1, inplace = True)\n",
    "\n",
    "data_test.drop(drop_these , axis = 1, inplace = True)\n"
   ]
  },
  {
   "cell_type": "code",
   "execution_count": 132,
   "metadata": {},
   "outputs": [
    {
     "name": "stderr",
     "output_type": "stream",
     "text": [
      "C:\\Users\\Dell\\anaconda3\\lib\\site-packages\\sklearn\\linear_model\\_logistic.py:765: ConvergenceWarning: lbfgs failed to converge (status=1):\n",
      "STOP: TOTAL NO. of ITERATIONS REACHED LIMIT.\n",
      "\n",
      "Increase the number of iterations (max_iter) or scale the data as shown in:\n",
      "    https://scikit-learn.org/stable/modules/preprocessing.html\n",
      "Please also refer to the documentation for alternative solver options:\n",
      "    https://scikit-learn.org/stable/modules/linear_model.html#logistic-regression\n",
      "  extra_warning_msg=_LOGISTIC_SOLVER_CONVERGENCE_MSG)\n"
     ]
    },
    {
     "data": {
      "text/plain": [
       "0.5598367346938775"
      ]
     },
     "execution_count": 132,
     "metadata": {},
     "output_type": "execute_result"
    }
   ],
   "source": [
    "clf = LogisticRegression(random_state=0).fit(X, y)\n",
    "yhat = clf.predict(X)\n",
    "accuracy_score(y, yhat)"
   ]
  },
  {
   "cell_type": "code",
   "execution_count": 133,
   "metadata": {},
   "outputs": [
    {
     "data": {
      "text/plain": [
       "0.5646153846153846"
      ]
     },
     "execution_count": 133,
     "metadata": {},
     "output_type": "execute_result"
    }
   ],
   "source": [
    "yhat = clf.predict(X_CV)\n",
    "accuracy_score(y_CV, yhat)"
   ]
  },
  {
   "cell_type": "code",
   "execution_count": 134,
   "metadata": {},
   "outputs": [
    {
     "name": "stdout",
     "output_type": "stream",
     "text": [
      "Confusion Matrix for LogisticRegression after removing selected feature: \n",
      " \n",
      "              precision    recall  f1-score   support\n",
      "\n",
      "           0       0.56      0.60      0.58       322\n",
      "           1       0.57      0.53      0.55       328\n",
      "\n",
      "    accuracy                           0.56       650\n",
      "   macro avg       0.57      0.56      0.56       650\n",
      "weighted avg       0.57      0.56      0.56       650\n",
      "\n"
     ]
    }
   ],
   "source": [
    "print(\"Confusion Matrix for LogisticRegression after removing selected feature: \\n \\n\" +classification_report(y_CV, yhat))"
   ]
  },
  {
   "cell_type": "code",
   "execution_count": 135,
   "metadata": {},
   "outputs": [],
   "source": [
    "logi_pre = clf.predict(data_test)\n",
    "df = pd.DataFrame(logi_pre)\n",
    "df.to_csv('logistic1.csv',index=False)"
   ]
  },
  {
   "cell_type": "code",
   "execution_count": 136,
   "metadata": {},
   "outputs": [
    {
     "data": {
      "text/plain": [
       "0.664469387755102"
      ]
     },
     "execution_count": 136,
     "metadata": {},
     "output_type": "execute_result"
    }
   ],
   "source": [
    "clf = RandomForestClassifier(max_depth=2, random_state=0)\n",
    "clf.fit(X, y)\n",
    "yhat = clf.predict(X)\n",
    "clf.score(X, y)\n",
    "# accuracy_score(y, yhat)"
   ]
  },
  {
   "cell_type": "code",
   "execution_count": 138,
   "metadata": {},
   "outputs": [
    {
     "data": {
      "text/plain": [
       "0.66"
      ]
     },
     "execution_count": 138,
     "metadata": {},
     "output_type": "execute_result"
    }
   ],
   "source": [
    "yhat = clf.predict(X_CV)\n",
    "accuracy_score(y_CV, yhat)"
   ]
  },
  {
   "cell_type": "code",
   "execution_count": 139,
   "metadata": {},
   "outputs": [
    {
     "name": "stdout",
     "output_type": "stream",
     "text": [
      "Confusion Matrix for RandomForestClassifier after removing selected feature: \n",
      " \n",
      "              precision    recall  f1-score   support\n",
      "\n",
      "           0       0.66      0.65      0.66       322\n",
      "           1       0.66      0.67      0.66       328\n",
      "\n",
      "    accuracy                           0.66       650\n",
      "   macro avg       0.66      0.66      0.66       650\n",
      "weighted avg       0.66      0.66      0.66       650\n",
      "\n"
     ]
    }
   ],
   "source": [
    "print(\"Confusion Matrix for RandomForestClassifier after removing selected feature: \\n \\n\" +classification_report(y_CV, yhat))"
   ]
  },
  {
   "cell_type": "code",
   "execution_count": 152,
   "metadata": {},
   "outputs": [
    {
     "data": {
      "text/html": [
       "<div>\n",
       "<style scoped>\n",
       "    .dataframe tbody tr th:only-of-type {\n",
       "        vertical-align: middle;\n",
       "    }\n",
       "\n",
       "    .dataframe tbody tr th {\n",
       "        vertical-align: top;\n",
       "    }\n",
       "\n",
       "    .dataframe thead th {\n",
       "        text-align: right;\n",
       "    }\n",
       "</style>\n",
       "<table border=\"1\" class=\"dataframe\">\n",
       "  <thead>\n",
       "    <tr style=\"text-align: right;\">\n",
       "      <th></th>\n",
       "      <th>0</th>\n",
       "    </tr>\n",
       "  </thead>\n",
       "  <tbody>\n",
       "    <tr>\n",
       "      <th>0</th>\n",
       "      <td>0</td>\n",
       "    </tr>\n",
       "    <tr>\n",
       "      <th>1</th>\n",
       "      <td>0</td>\n",
       "    </tr>\n",
       "    <tr>\n",
       "      <th>2</th>\n",
       "      <td>1</td>\n",
       "    </tr>\n",
       "    <tr>\n",
       "      <th>3</th>\n",
       "      <td>0</td>\n",
       "    </tr>\n",
       "    <tr>\n",
       "      <th>4</th>\n",
       "      <td>0</td>\n",
       "    </tr>\n",
       "  </tbody>\n",
       "</table>\n",
       "</div>"
      ],
      "text/plain": [
       "   0\n",
       "0  0\n",
       "1  0\n",
       "2  1\n",
       "3  0\n",
       "4  0"
      ]
     },
     "execution_count": 152,
     "metadata": {},
     "output_type": "execute_result"
    }
   ],
   "source": [
    "random = clf.predict(data_test)\n",
    "df = pd.DataFrame(logi_pre)\n",
    "df.to_csv('random1.csv',index=False)\n",
    "df.head()"
   ]
  },
  {
   "cell_type": "code",
   "execution_count": 141,
   "metadata": {},
   "outputs": [
    {
     "data": {
      "text/plain": [
       "0.6873673469387755"
      ]
     },
     "execution_count": 141,
     "metadata": {},
     "output_type": "execute_result"
    }
   ],
   "source": [
    "clf = GradientBoostingClassifier(n_estimators=100, learning_rate=1.0, max_depth=1, random_state=0).fit(X, y)\n",
    "clf.score(X, y)"
   ]
  },
  {
   "cell_type": "code",
   "execution_count": 142,
   "metadata": {},
   "outputs": [
    {
     "data": {
      "text/plain": [
       "0.6938461538461539"
      ]
     },
     "execution_count": 142,
     "metadata": {},
     "output_type": "execute_result"
    }
   ],
   "source": [
    "yhat = clf.predict(X_CV)\n",
    "accuracy_score(y_CV, yhat)"
   ]
  },
  {
   "cell_type": "code",
   "execution_count": 143,
   "metadata": {},
   "outputs": [
    {
     "name": "stdout",
     "output_type": "stream",
     "text": [
      "Confusion Matrix for GradientBoostingClassifier after removing selected feature: \n",
      " \n",
      "              precision    recall  f1-score   support\n",
      "\n",
      "           0       0.69      0.70      0.70       322\n",
      "           1       0.70      0.68      0.69       328\n",
      "\n",
      "    accuracy                           0.69       650\n",
      "   macro avg       0.69      0.69      0.69       650\n",
      "weighted avg       0.69      0.69      0.69       650\n",
      "\n"
     ]
    }
   ],
   "source": [
    "print(\"Confusion Matrix for GradientBoostingClassifier after removing selected feature: \\n \\n\" +classification_report(y_CV, yhat))"
   ]
  },
  {
   "cell_type": "code",
   "execution_count": 151,
   "metadata": {},
   "outputs": [
    {
     "data": {
      "text/html": [
       "<div>\n",
       "<style scoped>\n",
       "    .dataframe tbody tr th:only-of-type {\n",
       "        vertical-align: middle;\n",
       "    }\n",
       "\n",
       "    .dataframe tbody tr th {\n",
       "        vertical-align: top;\n",
       "    }\n",
       "\n",
       "    .dataframe thead th {\n",
       "        text-align: right;\n",
       "    }\n",
       "</style>\n",
       "<table border=\"1\" class=\"dataframe\">\n",
       "  <thead>\n",
       "    <tr style=\"text-align: right;\">\n",
       "      <th></th>\n",
       "      <th>0</th>\n",
       "    </tr>\n",
       "  </thead>\n",
       "  <tbody>\n",
       "    <tr>\n",
       "      <th>0</th>\n",
       "      <td>0</td>\n",
       "    </tr>\n",
       "    <tr>\n",
       "      <th>1</th>\n",
       "      <td>0</td>\n",
       "    </tr>\n",
       "    <tr>\n",
       "      <th>2</th>\n",
       "      <td>1</td>\n",
       "    </tr>\n",
       "    <tr>\n",
       "      <th>3</th>\n",
       "      <td>0</td>\n",
       "    </tr>\n",
       "    <tr>\n",
       "      <th>4</th>\n",
       "      <td>0</td>\n",
       "    </tr>\n",
       "  </tbody>\n",
       "</table>\n",
       "</div>"
      ],
      "text/plain": [
       "   0\n",
       "0  0\n",
       "1  0\n",
       "2  1\n",
       "3  0\n",
       "4  0"
      ]
     },
     "execution_count": 151,
     "metadata": {},
     "output_type": "execute_result"
    }
   ],
   "source": [
    "xgboost = clf.predict(data_test)\n",
    "df = pd.DataFrame(logi_pre)\n",
    "df.to_csv('xgboost1.csv',index=False)"
   ]
  },
  {
   "cell_type": "code",
   "execution_count": null,
   "metadata": {},
   "outputs": [],
   "source": []
  },
  {
   "cell_type": "code",
   "execution_count": 145,
   "metadata": {},
   "outputs": [
    {
     "data": {
      "image/png": "[encoded data removed]",
      "text/plain": [
       "<Figure size 432x288 with 1 Axes>"
      ]
     },
     "metadata": {},
     "output_type": "display_data"
    }
   ],
   "source": []
  },
  {
   "cell_type": "code",
   "execution_count": null,
   "metadata": {},
   "outputs": [],
   "source": []
  }
 ],
 "metadata": {
  "kernelspec": {
   "display_name": "Python 3",
   "language": "python",
   "name": "python3"
  },
  "language_info": {
   "codemirror_mode": {
    "name": "ipython",
    "version": 3
   },
   "file_extension": ".py",
   "mimetype": "text/x-python",
   "name": "python",
   "nbconvert_exporter": "python",
   "pygments_lexer": "ipython3",
   "version": "3.7.6"
  }
 },
 "nbformat": 4,
 "nbformat_minor": 4
}
