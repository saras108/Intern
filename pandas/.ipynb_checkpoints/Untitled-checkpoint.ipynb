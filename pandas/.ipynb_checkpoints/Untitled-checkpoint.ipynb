{
 "cells": [
  {
   "cell_type": "code",
   "execution_count": 3,
   "metadata": {},
   "outputs": [],
   "source": [
    "import pandas as pd\n",
    "import numpy as np\n",
    "import matplotlib.pyplot as plt"
   ]
  },
  {
   "cell_type": "markdown",
   "metadata": {},
   "source": [
    "### Create a pandas series with some random numbers and texts and some null values.\n",
    "- Add some data to your series\n",
    "-  Change data type to integer\n",
    "-  Remove the null values\n",
    "-  Sort the index of your series alphabetically\n",
    "-  Count the occurrences of unique items of the series\n",
    "-  Sort the given series in descending order"
   ]
  },
  {
   "cell_type": "code",
   "execution_count": 2,
   "metadata": {},
   "outputs": [
    {
     "name": "stdout",
     "output_type": "stream",
     "text": [
      "0    Machine Learning\n",
      "1       Deep Learning\n",
      "2        Fuse Machine\n",
      "3                   3\n",
      "dtype: object\n"
     ]
    }
   ],
   "source": [
    "#Create a pandas series with some random numbers and texts and some null values.\n",
    "\n",
    "data = np.array(['Machine Learning', 'Deep Learning' ,'Fuse Machine', 3 ])\n",
    "\n",
    "ser1 = pd.Series(data)\n",
    "\n",
    "print(ser1)"
   ]
  },
  {
   "cell_type": "code",
   "execution_count": 3,
   "metadata": {},
   "outputs": [
    {
     "name": "stdout",
     "output_type": "stream",
     "text": [
      "0    Machine Learning\n",
      "1       Deep Learning\n",
      "2        Fuse Machine\n",
      "3                   3\n",
      "0               added\n",
      "1              values\n",
      "dtype: object\n"
     ]
    },
    {
     "data": {
      "text/plain": [
       "0    Machine Learning\n",
       "1       Deep Learning\n",
       "2        Fuse Machine\n",
       "3                   3\n",
       "0               added\n",
       "1              values\n",
       "dtype: object"
      ]
     },
     "execution_count": 3,
     "metadata": {},
     "output_type": "execute_result"
    }
   ],
   "source": [
    "#Add some data to your series\n",
    "ser1 = ser1.append(pd.Series(['added', 'values']))\n",
    "print(ser1)\n",
    "\n",
    "#Remove the null values\n",
    "\n",
    "ser1.dropna(inplace=True)\n",
    "ser1"
   ]
  },
  {
   "cell_type": "code",
   "execution_count": 4,
   "metadata": {
    "scrolled": true
   },
   "outputs": [
    {
     "data": {
      "text/html": [
       "<div>\n",
       "<style scoped>\n",
       "    .dataframe tbody tr th:only-of-type {\n",
       "        vertical-align: middle;\n",
       "    }\n",
       "\n",
       "    .dataframe tbody tr th {\n",
       "        vertical-align: top;\n",
       "    }\n",
       "\n",
       "    .dataframe thead th {\n",
       "        text-align: right;\n",
       "    }\n",
       "</style>\n",
       "<table border=\"1\" class=\"dataframe\">\n",
       "  <thead>\n",
       "    <tr style=\"text-align: right;\">\n",
       "      <th></th>\n",
       "      <th>data_3</th>\n",
       "      <th>data_Deep Learning</th>\n",
       "      <th>data_Fuse Machine</th>\n",
       "      <th>data_Machine Learning</th>\n",
       "      <th>data_added</th>\n",
       "      <th>data_values</th>\n",
       "    </tr>\n",
       "  </thead>\n",
       "  <tbody>\n",
       "    <tr>\n",
       "      <th>0</th>\n",
       "      <td>0</td>\n",
       "      <td>0</td>\n",
       "      <td>0</td>\n",
       "      <td>1</td>\n",
       "      <td>0</td>\n",
       "      <td>0</td>\n",
       "    </tr>\n",
       "    <tr>\n",
       "      <th>1</th>\n",
       "      <td>0</td>\n",
       "      <td>1</td>\n",
       "      <td>0</td>\n",
       "      <td>0</td>\n",
       "      <td>0</td>\n",
       "      <td>0</td>\n",
       "    </tr>\n",
       "    <tr>\n",
       "      <th>2</th>\n",
       "      <td>0</td>\n",
       "      <td>0</td>\n",
       "      <td>1</td>\n",
       "      <td>0</td>\n",
       "      <td>0</td>\n",
       "      <td>0</td>\n",
       "    </tr>\n",
       "    <tr>\n",
       "      <th>3</th>\n",
       "      <td>1</td>\n",
       "      <td>0</td>\n",
       "      <td>0</td>\n",
       "      <td>0</td>\n",
       "      <td>0</td>\n",
       "      <td>0</td>\n",
       "    </tr>\n",
       "    <tr>\n",
       "      <th>0</th>\n",
       "      <td>0</td>\n",
       "      <td>0</td>\n",
       "      <td>0</td>\n",
       "      <td>0</td>\n",
       "      <td>1</td>\n",
       "      <td>0</td>\n",
       "    </tr>\n",
       "    <tr>\n",
       "      <th>1</th>\n",
       "      <td>0</td>\n",
       "      <td>0</td>\n",
       "      <td>0</td>\n",
       "      <td>0</td>\n",
       "      <td>0</td>\n",
       "      <td>1</td>\n",
       "    </tr>\n",
       "  </tbody>\n",
       "</table>\n",
       "</div>"
      ],
      "text/plain": [
       "   data_3  data_Deep Learning  data_Fuse Machine  data_Machine Learning  \\\n",
       "0       0                   0                  0                      1   \n",
       "1       0                   1                  0                      0   \n",
       "2       0                   0                  1                      0   \n",
       "3       1                   0                  0                      0   \n",
       "0       0                   0                  0                      0   \n",
       "1       0                   0                  0                      0   \n",
       "\n",
       "   data_added  data_values  \n",
       "0           0            0  \n",
       "1           0            0  \n",
       "2           0            0  \n",
       "3           0            0  \n",
       "0           1            0  \n",
       "1           0            1  "
      ]
     },
     "execution_count": 4,
     "metadata": {},
     "output_type": "execute_result"
    }
   ],
   "source": [
    "# Change data type to integer\n",
    "new =pd.get_dummies(ser1, prefix='data')\n",
    "new.astype(int)\n",
    "new.dtypes\n",
    "\n",
    "new"
   ]
  },
  {
   "cell_type": "code",
   "execution_count": null,
   "metadata": {},
   "outputs": [],
   "source": []
  },
  {
   "cell_type": "code",
   "execution_count": null,
   "metadata": {},
   "outputs": [],
   "source": []
  },
  {
   "cell_type": "code",
   "execution_count": null,
   "metadata": {},
   "outputs": [],
   "source": []
  },
  {
   "cell_type": "code",
   "execution_count": null,
   "metadata": {},
   "outputs": [],
   "source": []
  },
  {
   "cell_type": "code",
   "execution_count": null,
   "metadata": {},
   "outputs": [],
   "source": []
  },
  {
   "cell_type": "code",
   "execution_count": null,
   "metadata": {},
   "outputs": [],
   "source": []
  },
  {
   "cell_type": "code",
   "execution_count": null,
   "metadata": {},
   "outputs": [],
   "source": []
  },
  {
   "cell_type": "markdown",
   "metadata": {},
   "source": [
    "***\n",
    "\n",
    "### Create a dataframe having 5 columns and 50 random data\n",
    "- Retrieve the data from index 30-40 with the first 3 columns (Note: Use column index only)\n",
    "-  Retrieve last 10 rows of 2nd and 5th columns (Note: Use column name only)\n",
    "-  Retrieve 1st and 5th column with some condition applied to 2nd column (Condition Example: all rows having value greater than x).\n",
    "- Sample some of the data from the 1st column into a list and add some additional random data in it. Filter the dataframe and retrieve only those rows if 1st column contains the sampled data (Explore ‘isin’)\n",
    "- Update the value of the 1st and 3rd column with new values in the 35th index of row\n",
    "- Delete the row of the index position: 35, 39, 51. And reindex the dataframe"
   ]
  },
  {
   "cell_type": "code",
   "execution_count": 5,
   "metadata": {},
   "outputs": [],
   "source": [
    "#Create a dataframe having 5 columns and 50 random data\n",
    "\n",
    "df = pd.DataFrame(np.random.randint(0,100,size=(50, 5)), columns=list('ABCDE'))"
   ]
  },
  {
   "cell_type": "code",
   "execution_count": 6,
   "metadata": {},
   "outputs": [],
   "source": [
    "#Retrieve the data from index 30-40 with the first 3 columns (Note: Use column index only)\n",
    "\n",
    "retriving1 = df[['A','B','C']][30:41]\n",
    "# print(retriving1)"
   ]
  },
  {
   "cell_type": "code",
   "execution_count": 7,
   "metadata": {},
   "outputs": [],
   "source": [
    "# Retrieve 1st and 5th column with some condition applied to 2nd column (Condition Example: all rows having value greater than x).\n",
    "\n",
    "retriving2 =df[df['B']<25][['A','E']]\n",
    "# retriving2"
   ]
  },
  {
   "cell_type": "code",
   "execution_count": 8,
   "metadata": {},
   "outputs": [],
   "source": [
    "# Sample some of the data from the 1st column into a list and add some additional random data in it.\n",
    "\n",
    "other = df[df['B']<25][['A','B','C','D','E']]\n",
    "\n",
    "new_df = pd.DataFrame(np.random.randint(0,100,size=(9, 5)), columns=list('ABCDE'))\n",
    "\n",
    "new_df = new_df.append(other , ignore_index = True)\n",
    "\n",
    "# Filter the dataframe and retrieve only those rows if 1st column contains the sampled data (Explore ‘isin’)\n",
    "\n",
    "col1 = new_df['A']\n",
    "filterd = df[df['A'].isin(col1)]\n",
    "\n",
    "# filterd "
   ]
  },
  {
   "cell_type": "code",
   "execution_count": 9,
   "metadata": {},
   "outputs": [],
   "source": [
    "# Update the value of the 1st and 3rd column with new values in the 35th index of row\n",
    "\n",
    "one_row = df.loc[35]\n",
    "# one_row = one_row['A']\n",
    "\n",
    "df.loc[1]['A'] = one_row['A']\n",
    "df.loc[1]['C'] = one_row['C']\n",
    "\n",
    "df.loc[3]['A'] = one_row['A']\n",
    "df.loc[3]['C'] = one_row['C']\n"
   ]
  },
  {
   "cell_type": "code",
   "execution_count": 10,
   "metadata": {},
   "outputs": [],
   "source": [
    "# Delete the row of the index position: 35, 39, 51. And reindex the dataframe\n",
    "\n",
    "df.drop([35,39], inplace=True) #droping the selected index\n",
    "df.reset_index(drop = True , inplace=True) #resetting index\n",
    "\n",
    "#There is no 51th index, as we have created only 50 items"
   ]
  },
  {
   "cell_type": "code",
   "execution_count": 11,
   "metadata": {},
   "outputs": [],
   "source": [
    "# df"
   ]
  },
  {
   "cell_type": "markdown",
   "metadata": {},
   "source": [
    "***\n",
    "\n",
    "### Create two dataframe (first dataframe having 50 random data and second dataframe having 40 random data). Each dataframe should have 3 columns including a common column (example: id) and 90% of data in common column should have identical data\n",
    "#### Merge both the dataframe using:\n",
    "- Inner\n",
    "- Outer\n",
    "- Left\n",
    "- Right\n",
    "- Evaluate the differences observed\n",
    "##### Use join() to combine the dataframe\n",
    "##### Use concat to combine the dataframe\n",
    "##### Evaluate the differences observed between merge, join and concat"
   ]
  },
  {
   "cell_type": "code",
   "execution_count": 12,
   "metadata": {},
   "outputs": [],
   "source": [
    "# Create two dataframe (first dataframe having 50 random data and second dataframe having 40 random data). Each dataframe should have 3 columns including a common column (example: id) and 90% of data in common column should have identical data\n",
    "\n",
    "common_c= pd.Series(np.random.randint(10, size=36))\n",
    "df1 = pd.DataFrame(np.random.randint(0,50,size=(50, 3)), columns=list('ABC'))\n",
    "df2 = pd.DataFrame(np.random.randint(0,40,size=(50, 3)), columns=list('CDE'))\n",
    "\n",
    "df1_sam = df1.sample(36)\n",
    "df2_sam = df2.sample(36)\n",
    "\n",
    "ind1 = df1_sam.index\n",
    "df1.loc[ind1, 'C'] = common_c.tolist()\n",
    "\n",
    "ind2 = df2_sam.index\n",
    "df2.loc[ind2, 'C'] = common_c.tolist()\n"
   ]
  },
  {
   "cell_type": "code",
   "execution_count": 13,
   "metadata": {},
   "outputs": [],
   "source": [
    "# Merge both the dataframe using:\n",
    "# - Inner\n",
    "\n",
    "inner = pd.merge(df1, df2, how=\"inner\" , on ='C')\n",
    "# inner\n",
    "\n",
    "\n",
    "# Evaluation\n",
    "\n"
   ]
  },
  {
   "cell_type": "code",
   "execution_count": 14,
   "metadata": {},
   "outputs": [],
   "source": [
    "# - Outer\n",
    "\n",
    "outer = pd.merge(df1, df2, how=\"outer\" , on ='C')\n",
    "# outer\n",
    "\n",
    "# Evaluation"
   ]
  },
  {
   "cell_type": "code",
   "execution_count": 15,
   "metadata": {},
   "outputs": [],
   "source": [
    "\n",
    "# - Left\n",
    "\n",
    "left = pd.merge(df1, df2, how=\"left\" , on ='C')\n",
    "# left"
   ]
  },
  {
   "cell_type": "code",
   "execution_count": 16,
   "metadata": {},
   "outputs": [],
   "source": [
    "# - Right\n",
    "\n",
    "right = pd.merge(df1, df2, how=\"right\" , on ='C')\n",
    "# right"
   ]
  },
  {
   "cell_type": "code",
   "execution_count": 17,
   "metadata": {},
   "outputs": [],
   "source": [
    "# Use join() to combine the dataframe\n",
    "\n",
    "join_data = df1.join(df2 , how = 'inner', on='C', rsuffix='c')\n",
    "# join_data"
   ]
  },
  {
   "cell_type": "code",
   "execution_count": 18,
   "metadata": {},
   "outputs": [
    {
     "data": {
      "text/html": [
       "<div>\n",
       "<style scoped>\n",
       "    .dataframe tbody tr th:only-of-type {\n",
       "        vertical-align: middle;\n",
       "    }\n",
       "\n",
       "    .dataframe tbody tr th {\n",
       "        vertical-align: top;\n",
       "    }\n",
       "\n",
       "    .dataframe thead th {\n",
       "        text-align: right;\n",
       "    }\n",
       "</style>\n",
       "<table border=\"1\" class=\"dataframe\">\n",
       "  <thead>\n",
       "    <tr style=\"text-align: right;\">\n",
       "      <th></th>\n",
       "      <th>A</th>\n",
       "      <th>B</th>\n",
       "      <th>C</th>\n",
       "      <th>D</th>\n",
       "      <th>E</th>\n",
       "    </tr>\n",
       "  </thead>\n",
       "  <tbody>\n",
       "    <tr>\n",
       "      <th>0</th>\n",
       "      <td>18.0</td>\n",
       "      <td>28.0</td>\n",
       "      <td>6</td>\n",
       "      <td>NaN</td>\n",
       "      <td>NaN</td>\n",
       "    </tr>\n",
       "    <tr>\n",
       "      <th>1</th>\n",
       "      <td>45.0</td>\n",
       "      <td>27.0</td>\n",
       "      <td>1</td>\n",
       "      <td>NaN</td>\n",
       "      <td>NaN</td>\n",
       "    </tr>\n",
       "    <tr>\n",
       "      <th>2</th>\n",
       "      <td>18.0</td>\n",
       "      <td>17.0</td>\n",
       "      <td>6</td>\n",
       "      <td>NaN</td>\n",
       "      <td>NaN</td>\n",
       "    </tr>\n",
       "    <tr>\n",
       "      <th>3</th>\n",
       "      <td>15.0</td>\n",
       "      <td>25.0</td>\n",
       "      <td>3</td>\n",
       "      <td>NaN</td>\n",
       "      <td>NaN</td>\n",
       "    </tr>\n",
       "    <tr>\n",
       "      <th>4</th>\n",
       "      <td>44.0</td>\n",
       "      <td>47.0</td>\n",
       "      <td>2</td>\n",
       "      <td>NaN</td>\n",
       "      <td>NaN</td>\n",
       "    </tr>\n",
       "    <tr>\n",
       "      <th>...</th>\n",
       "      <td>...</td>\n",
       "      <td>...</td>\n",
       "      <td>...</td>\n",
       "      <td>...</td>\n",
       "      <td>...</td>\n",
       "    </tr>\n",
       "    <tr>\n",
       "      <th>45</th>\n",
       "      <td>NaN</td>\n",
       "      <td>NaN</td>\n",
       "      <td>4</td>\n",
       "      <td>34.0</td>\n",
       "      <td>1.0</td>\n",
       "    </tr>\n",
       "    <tr>\n",
       "      <th>46</th>\n",
       "      <td>NaN</td>\n",
       "      <td>NaN</td>\n",
       "      <td>7</td>\n",
       "      <td>4.0</td>\n",
       "      <td>17.0</td>\n",
       "    </tr>\n",
       "    <tr>\n",
       "      <th>47</th>\n",
       "      <td>NaN</td>\n",
       "      <td>NaN</td>\n",
       "      <td>7</td>\n",
       "      <td>35.0</td>\n",
       "      <td>4.0</td>\n",
       "    </tr>\n",
       "    <tr>\n",
       "      <th>48</th>\n",
       "      <td>NaN</td>\n",
       "      <td>NaN</td>\n",
       "      <td>8</td>\n",
       "      <td>9.0</td>\n",
       "      <td>20.0</td>\n",
       "    </tr>\n",
       "    <tr>\n",
       "      <th>49</th>\n",
       "      <td>NaN</td>\n",
       "      <td>NaN</td>\n",
       "      <td>0</td>\n",
       "      <td>5.0</td>\n",
       "      <td>10.0</td>\n",
       "    </tr>\n",
       "  </tbody>\n",
       "</table>\n",
       "<p>100 rows × 5 columns</p>\n",
       "</div>"
      ],
      "text/plain": [
       "       A     B  C     D     E\n",
       "0   18.0  28.0  6   NaN   NaN\n",
       "1   45.0  27.0  1   NaN   NaN\n",
       "2   18.0  17.0  6   NaN   NaN\n",
       "3   15.0  25.0  3   NaN   NaN\n",
       "4   44.0  47.0  2   NaN   NaN\n",
       "..   ...   ... ..   ...   ...\n",
       "45   NaN   NaN  4  34.0   1.0\n",
       "46   NaN   NaN  7   4.0  17.0\n",
       "47   NaN   NaN  7  35.0   4.0\n",
       "48   NaN   NaN  8   9.0  20.0\n",
       "49   NaN   NaN  0   5.0  10.0\n",
       "\n",
       "[100 rows x 5 columns]"
      ]
     },
     "execution_count": 18,
     "metadata": {},
     "output_type": "execute_result"
    }
   ],
   "source": [
    "# Use concat to combine the dataframe\n",
    "join_data = pd.concat([df1 , df2], ignore_index=False)\n",
    "\n",
    "join_data"
   ]
  },
  {
   "cell_type": "code",
   "execution_count": 19,
   "metadata": {},
   "outputs": [],
   "source": [
    "# Evaluate the differences observed between merge, join and concat\n",
    "\n"
   ]
  },
  {
   "cell_type": "code",
   "execution_count": null,
   "metadata": {},
   "outputs": [],
   "source": []
  },
  {
   "cell_type": "code",
   "execution_count": null,
   "metadata": {},
   "outputs": [],
   "source": []
  },
  {
   "cell_type": "code",
   "execution_count": null,
   "metadata": {},
   "outputs": [],
   "source": []
  },
  {
   "cell_type": "code",
   "execution_count": null,
   "metadata": {},
   "outputs": [],
   "source": []
  },
  {
   "cell_type": "code",
   "execution_count": null,
   "metadata": {},
   "outputs": [],
   "source": []
  },
  {
   "cell_type": "code",
   "execution_count": null,
   "metadata": {},
   "outputs": [],
   "source": []
  },
  {
   "cell_type": "code",
   "execution_count": null,
   "metadata": {},
   "outputs": [],
   "source": []
  },
  {
   "cell_type": "code",
   "execution_count": null,
   "metadata": {},
   "outputs": [],
   "source": []
  },
  {
   "cell_type": "code",
   "execution_count": null,
   "metadata": {},
   "outputs": [],
   "source": []
  },
  {
   "cell_type": "code",
   "execution_count": null,
   "metadata": {},
   "outputs": [],
   "source": []
  },
  {
   "cell_type": "markdown",
   "metadata": {},
   "source": [
    "****\n",
    "### Create a dataframe having 3 columns: name, nationality, age and perform:\n",
    "- Use filter() to get all data of column name and age\n",
    "- Retrieve all the data of the column starting with “na”\n",
    "- Retrieve all the data of the column ending with “e”\n",
    "- Retrieve all the data of the column having subset “am” (hint: explore ‘like’ in filter())"
   ]
  },
  {
   "cell_type": "code",
   "execution_count": 20,
   "metadata": {},
   "outputs": [
    {
     "data": {
      "text/html": [
       "<div>\n",
       "<style scoped>\n",
       "    .dataframe tbody tr th:only-of-type {\n",
       "        vertical-align: middle;\n",
       "    }\n",
       "\n",
       "    .dataframe tbody tr th {\n",
       "        vertical-align: top;\n",
       "    }\n",
       "\n",
       "    .dataframe thead th {\n",
       "        text-align: right;\n",
       "    }\n",
       "</style>\n",
       "<table border=\"1\" class=\"dataframe\">\n",
       "  <thead>\n",
       "    <tr style=\"text-align: right;\">\n",
       "      <th></th>\n",
       "      <th>name</th>\n",
       "      <th>nationality</th>\n",
       "      <th>age</th>\n",
       "    </tr>\n",
       "  </thead>\n",
       "  <tbody>\n",
       "    <tr>\n",
       "      <th>0</th>\n",
       "      <td>Ragnar</td>\n",
       "      <td>USA</td>\n",
       "      <td>18</td>\n",
       "    </tr>\n",
       "    <tr>\n",
       "      <th>1</th>\n",
       "      <td>Floki</td>\n",
       "      <td>UK</td>\n",
       "      <td>20</td>\n",
       "    </tr>\n",
       "    <tr>\n",
       "      <th>2</th>\n",
       "      <td>Lagaretha</td>\n",
       "      <td>Nepali</td>\n",
       "      <td>21</td>\n",
       "    </tr>\n",
       "    <tr>\n",
       "      <th>3</th>\n",
       "      <td>Ivar</td>\n",
       "      <td>India</td>\n",
       "      <td>23</td>\n",
       "    </tr>\n",
       "  </tbody>\n",
       "</table>\n",
       "</div>"
      ],
      "text/plain": [
       "        name nationality  age\n",
       "0     Ragnar         USA   18\n",
       "1      Floki          UK   20\n",
       "2  Lagaretha      Nepali   21\n",
       "3       Ivar       India   23"
      ]
     },
     "execution_count": 20,
     "metadata": {},
     "output_type": "execute_result"
    }
   ],
   "source": [
    "dict = {\n",
    "    \"name\":['Ragnar', 'Floki', 'Lagaretha', 'Ivar'],\n",
    "    \"nationality\":['USA', 'UK', 'Nepali', 'India'],\n",
    "    \"age\":[18, 20,21, 23 ]\n",
    "}\n",
    "\n",
    "new_df = pd.DataFrame(dict)\n",
    "new_df"
   ]
  },
  {
   "cell_type": "code",
   "execution_count": 21,
   "metadata": {},
   "outputs": [
    {
     "data": {
      "text/html": [
       "<div>\n",
       "<style scoped>\n",
       "    .dataframe tbody tr th:only-of-type {\n",
       "        vertical-align: middle;\n",
       "    }\n",
       "\n",
       "    .dataframe tbody tr th {\n",
       "        vertical-align: top;\n",
       "    }\n",
       "\n",
       "    .dataframe thead th {\n",
       "        text-align: right;\n",
       "    }\n",
       "</style>\n",
       "<table border=\"1\" class=\"dataframe\">\n",
       "  <thead>\n",
       "    <tr style=\"text-align: right;\">\n",
       "      <th></th>\n",
       "      <th>name</th>\n",
       "      <th>age</th>\n",
       "    </tr>\n",
       "  </thead>\n",
       "  <tbody>\n",
       "    <tr>\n",
       "      <th>0</th>\n",
       "      <td>Ragnar</td>\n",
       "      <td>18</td>\n",
       "    </tr>\n",
       "    <tr>\n",
       "      <th>1</th>\n",
       "      <td>Floki</td>\n",
       "      <td>20</td>\n",
       "    </tr>\n",
       "    <tr>\n",
       "      <th>2</th>\n",
       "      <td>Lagaretha</td>\n",
       "      <td>21</td>\n",
       "    </tr>\n",
       "    <tr>\n",
       "      <th>3</th>\n",
       "      <td>Ivar</td>\n",
       "      <td>23</td>\n",
       "    </tr>\n",
       "  </tbody>\n",
       "</table>\n",
       "</div>"
      ],
      "text/plain": [
       "        name  age\n",
       "0     Ragnar   18\n",
       "1      Floki   20\n",
       "2  Lagaretha   21\n",
       "3       Ivar   23"
      ]
     },
     "execution_count": 21,
     "metadata": {},
     "output_type": "execute_result"
    }
   ],
   "source": [
    "# Use filter() to get all data of column name and age\n",
    "dataframe = new_df.filter(['name','age'])\n",
    "dataframe"
   ]
  },
  {
   "cell_type": "code",
   "execution_count": 22,
   "metadata": {},
   "outputs": [
    {
     "data": {
      "text/html": [
       "<div>\n",
       "<style scoped>\n",
       "    .dataframe tbody tr th:only-of-type {\n",
       "        vertical-align: middle;\n",
       "    }\n",
       "\n",
       "    .dataframe tbody tr th {\n",
       "        vertical-align: top;\n",
       "    }\n",
       "\n",
       "    .dataframe thead th {\n",
       "        text-align: right;\n",
       "    }\n",
       "</style>\n",
       "<table border=\"1\" class=\"dataframe\">\n",
       "  <thead>\n",
       "    <tr style=\"text-align: right;\">\n",
       "      <th></th>\n",
       "      <th>name</th>\n",
       "      <th>nationality</th>\n",
       "    </tr>\n",
       "  </thead>\n",
       "  <tbody>\n",
       "    <tr>\n",
       "      <th>0</th>\n",
       "      <td>Ragnar</td>\n",
       "      <td>USA</td>\n",
       "    </tr>\n",
       "    <tr>\n",
       "      <th>1</th>\n",
       "      <td>Floki</td>\n",
       "      <td>UK</td>\n",
       "    </tr>\n",
       "    <tr>\n",
       "      <th>2</th>\n",
       "      <td>Lagaretha</td>\n",
       "      <td>Nepali</td>\n",
       "    </tr>\n",
       "    <tr>\n",
       "      <th>3</th>\n",
       "      <td>Ivar</td>\n",
       "      <td>India</td>\n",
       "    </tr>\n",
       "  </tbody>\n",
       "</table>\n",
       "</div>"
      ],
      "text/plain": [
       "        name nationality\n",
       "0     Ragnar         USA\n",
       "1      Floki          UK\n",
       "2  Lagaretha      Nepali\n",
       "3       Ivar       India"
      ]
     },
     "execution_count": 22,
     "metadata": {},
     "output_type": "execute_result"
    }
   ],
   "source": [
    "# Retrieve all the data of the column starting with “na”\n",
    "\n",
    "dataframe = new_df.filter(regex = '^(na)')\n",
    "dataframe"
   ]
  },
  {
   "cell_type": "code",
   "execution_count": 23,
   "metadata": {},
   "outputs": [
    {
     "data": {
      "text/html": [
       "<div>\n",
       "<style scoped>\n",
       "    .dataframe tbody tr th:only-of-type {\n",
       "        vertical-align: middle;\n",
       "    }\n",
       "\n",
       "    .dataframe tbody tr th {\n",
       "        vertical-align: top;\n",
       "    }\n",
       "\n",
       "    .dataframe thead th {\n",
       "        text-align: right;\n",
       "    }\n",
       "</style>\n",
       "<table border=\"1\" class=\"dataframe\">\n",
       "  <thead>\n",
       "    <tr style=\"text-align: right;\">\n",
       "      <th></th>\n",
       "      <th>name</th>\n",
       "      <th>age</th>\n",
       "    </tr>\n",
       "  </thead>\n",
       "  <tbody>\n",
       "    <tr>\n",
       "      <th>0</th>\n",
       "      <td>Ragnar</td>\n",
       "      <td>18</td>\n",
       "    </tr>\n",
       "    <tr>\n",
       "      <th>1</th>\n",
       "      <td>Floki</td>\n",
       "      <td>20</td>\n",
       "    </tr>\n",
       "    <tr>\n",
       "      <th>2</th>\n",
       "      <td>Lagaretha</td>\n",
       "      <td>21</td>\n",
       "    </tr>\n",
       "    <tr>\n",
       "      <th>3</th>\n",
       "      <td>Ivar</td>\n",
       "      <td>23</td>\n",
       "    </tr>\n",
       "  </tbody>\n",
       "</table>\n",
       "</div>"
      ],
      "text/plain": [
       "        name  age\n",
       "0     Ragnar   18\n",
       "1      Floki   20\n",
       "2  Lagaretha   21\n",
       "3       Ivar   23"
      ]
     },
     "execution_count": 23,
     "metadata": {},
     "output_type": "execute_result"
    }
   ],
   "source": [
    "# Retrieve all the data of the column ending with “e”\n",
    "\n",
    "dataframe = new_df.filter(regex = '(e)$')\n",
    "dataframe"
   ]
  },
  {
   "cell_type": "code",
   "execution_count": 24,
   "metadata": {},
   "outputs": [
    {
     "data": {
      "text/html": [
       "<div>\n",
       "<style scoped>\n",
       "    .dataframe tbody tr th:only-of-type {\n",
       "        vertical-align: middle;\n",
       "    }\n",
       "\n",
       "    .dataframe tbody tr th {\n",
       "        vertical-align: top;\n",
       "    }\n",
       "\n",
       "    .dataframe thead th {\n",
       "        text-align: right;\n",
       "    }\n",
       "</style>\n",
       "<table border=\"1\" class=\"dataframe\">\n",
       "  <thead>\n",
       "    <tr style=\"text-align: right;\">\n",
       "      <th></th>\n",
       "      <th>name</th>\n",
       "    </tr>\n",
       "  </thead>\n",
       "  <tbody>\n",
       "    <tr>\n",
       "      <th>0</th>\n",
       "      <td>Ragnar</td>\n",
       "    </tr>\n",
       "    <tr>\n",
       "      <th>1</th>\n",
       "      <td>Floki</td>\n",
       "    </tr>\n",
       "    <tr>\n",
       "      <th>2</th>\n",
       "      <td>Lagaretha</td>\n",
       "    </tr>\n",
       "    <tr>\n",
       "      <th>3</th>\n",
       "      <td>Ivar</td>\n",
       "    </tr>\n",
       "  </tbody>\n",
       "</table>\n",
       "</div>"
      ],
      "text/plain": [
       "        name\n",
       "0     Ragnar\n",
       "1      Floki\n",
       "2  Lagaretha\n",
       "3       Ivar"
      ]
     },
     "execution_count": 24,
     "metadata": {},
     "output_type": "execute_result"
    }
   ],
   "source": [
    "# Retrieve all the data of the column having subset “am”\n",
    "\n",
    "dataframe = new_df.filter(like = 'am')\n",
    "dataframe"
   ]
  },
  {
   "cell_type": "markdown",
   "metadata": {},
   "source": [
    "***\n",
    "\n",
    "### Use this (raw.githubusercontent.com/CSSEGISandData/COVID-19/master/csse_covid_19_data/csse_covid_19_daily_reports/01-01-2021.csv) dataset and perform the following tasks:\n",
    "#### Read the dataset as pandas dataframe\n",
    "##### Filter the Country_Region whose value == “India” and assign it in dataframe df_india.\n",
    "- Retrieve the active cases of “Madhya Pradesh” Province from df_india.\n",
    "- Retrieve the state with the maximum number of confirmed cases from df_india.\n",
    "- Filter the Country_Region whose value == “Canada” and assign it in dataframe df_canada.\n",
    "- Province/State Diamond Princess has the “NaN” value for Active number of cases. Fill it with the median of the Active cases.\n",
    "- Filter the Country_Region whose value == “US” and assign it in dataframe df_us.\n",
    "- Groupby the df_us dataframe by ‘State_Province’ and aggregate with maximum values of the attributes and assign it in df_us_states.\n",
    "-  Re-index the dataframe df_us_states.\n",
    "-  The United States has 50 states. df_us_states contains additional states which are not the states of the United States. Remove those additional states from the dataframe.\n",
    "- Which state has the minimum number of active cases?\n",
    "##### Find the number of cases for each country"
   ]
  },
  {
   "cell_type": "code",
   "execution_count": 4,
   "metadata": {},
   "outputs": [],
   "source": [
    "# Read the dataset as pandas dataframe\n",
    "\n",
    "datas = pd.read_csv('https://raw.githubusercontent.com/CSSEGISandData/COVID-19/master/csse_covid_19_data/csse_covid_19_daily_reports/01-01-2021.csv')"
   ]
  },
  {
   "cell_type": "code",
   "execution_count": 5,
   "metadata": {},
   "outputs": [],
   "source": [
    "# Retrieve the active cases of “Madhya Pradesh” Province from df_india.\n",
    "df_india =datas[ datas['Country_Region'] == 'India']"
   ]
  },
  {
   "cell_type": "code",
   "execution_count": 6,
   "metadata": {},
   "outputs": [],
   "source": [
    "# Retrieve the state with the maximum number of confirmed cases from df_india.\n",
    "df_india_state = df_india[['Province_State', 'Confirmed']]\n",
    "df_india_state = df_india_state.sort_values('Confirmed' , ascending = False)\n",
    "# df_india_state"
   ]
  },
  {
   "cell_type": "code",
   "execution_count": 59,
   "metadata": {},
   "outputs": [],
   "source": [
    "# Filter the Country_Region whose value == “Canada” and assign it in dataframe df_canada.\n",
    "\n",
    "df_canada = datas[ datas['Country_Region'] == 'Canada']\n"
   ]
  },
  {
   "cell_type": "code",
   "execution_count": 64,
   "metadata": {},
   "outputs": [],
   "source": [
    "# Province/State Diamond Princess has the “NaN” value for Active number of cases. Fill it with the median of the Active cases.\n",
    "\n",
    "df_canada = df_canada.fillna(df_canada.median(skipna = True))\n",
    "\n",
    "# df_canada"
   ]
  },
  {
   "cell_type": "code",
   "execution_count": null,
   "metadata": {},
   "outputs": [],
   "source": [
    "# Filter the Country_Region whose value == “US” and assign it in dataframe df_us.\n",
    "\n",
    "df_us = datas[ datas['Country_Region'] == 'US']\n",
    "\n"
   ]
  },
  {
   "cell_type": "code",
   "execution_count": null,
   "metadata": {},
   "outputs": [],
   "source": []
  },
  {
   "cell_type": "code",
   "execution_count": null,
   "metadata": {},
   "outputs": [],
   "source": []
  },
  {
   "cell_type": "code",
   "execution_count": null,
   "metadata": {},
   "outputs": [],
   "source": []
  },
  {
   "cell_type": "code",
   "execution_count": null,
   "metadata": {},
   "outputs": [],
   "source": []
  },
  {
   "cell_type": "code",
   "execution_count": null,
   "metadata": {},
   "outputs": [],
   "source": []
  },
  {
   "cell_type": "code",
   "execution_count": null,
   "metadata": {},
   "outputs": [],
   "source": []
  },
  {
   "cell_type": "code",
   "execution_count": null,
   "metadata": {},
   "outputs": [],
   "source": []
  },
  {
   "cell_type": "code",
   "execution_count": null,
   "metadata": {},
   "outputs": [],
   "source": []
  },
  {
   "cell_type": "code",
   "execution_count": null,
   "metadata": {},
   "outputs": [],
   "source": []
  }
 ],
 "metadata": {
  "kernelspec": {
   "display_name": "Python 3",
   "language": "python",
   "name": "python3"
  },
  "language_info": {
   "codemirror_mode": {
    "name": "ipython",
    "version": 3
   },
   "file_extension": ".py",
   "mimetype": "text/x-python",
   "name": "python",
   "nbconvert_exporter": "python",
   "pygments_lexer": "ipython3",
   "version": "3.7.6"
  }
 },
 "nbformat": 4,
 "nbformat_minor": 4
}
